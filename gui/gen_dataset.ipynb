{
 "cells": [
  {
   "cell_type": "markdown",
   "id": "c80df180-eb9c-4bf0-b522-b1f425260913",
   "metadata": {},
   "source": [
    "# Generate a synthetic dataset\n",
    "\n",
    "This notebook starts the process to generate a synthetic dataset taken already created structural models."
   ]
  },
  {
   "cell_type": "code",
   "execution_count": 4,
   "id": "0511f4c8-7c09-4dd8-8654-025267318864",
   "metadata": {
    "ExecuteTime": {
     "end_time": "2024-08-27T09:19:11.599064Z",
     "start_time": "2024-08-27T09:19:11.589551Z"
    },
    "jupyter": {
     "source_hidden": true
    },
    "tags": []
   },
   "outputs": [
    {
     "ename": "ModuleNotFoundError",
     "evalue": "No module named 'polnet'",
     "output_type": "error",
     "traceback": [
      "\u001b[0;31m---------------------------------------------------------------------------\u001b[0m",
      "\u001b[0;31mModuleNotFoundError\u001b[0m                       Traceback (most recent call last)",
      "Cell \u001b[0;32mIn[4], line 1\u001b[0m\n\u001b[0;32m----> 1\u001b[0m \u001b[38;5;28;01mfrom\u001b[39;00m \u001b[38;5;21;01mcore\u001b[39;00m\u001b[38;5;21;01m.\u001b[39;00m\u001b[38;5;21;01mvtk_utilities\u001b[39;00m \u001b[38;5;28;01mimport\u001b[39;00m \u001b[38;5;241m*\u001b[39m\n\u001b[1;32m      2\u001b[0m \u001b[38;5;28;01mfrom\u001b[39;00m \u001b[38;5;21;01mcore\u001b[39;00m\u001b[38;5;21;01m.\u001b[39;00m\u001b[38;5;21;01mutilities\u001b[39;00m \u001b[38;5;28;01mimport\u001b[39;00m \u001b[38;5;241m*\u001b[39m\n\u001b[1;32m      3\u001b[0m \u001b[38;5;28;01mfrom\u001b[39;00m \u001b[38;5;21;01mcore\u001b[39;00m\u001b[38;5;21;01m.\u001b[39;00m\u001b[38;5;21;01mwidgets_utilities\u001b[39;00m \u001b[38;5;28;01mimport\u001b[39;00m \u001b[38;5;241m*\u001b[39m\n",
      "File \u001b[0;32m~/autodl-tmp/polnet/gui/core/vtk_utilities.py:4\u001b[0m\n\u001b[1;32m      2\u001b[0m \u001b[38;5;28;01mimport\u001b[39;00m \u001b[38;5;21;01mnumpy\u001b[39;00m \u001b[38;5;28;01mas\u001b[39;00m \u001b[38;5;21;01mnp\u001b[39;00m\n\u001b[1;32m      3\u001b[0m \u001b[38;5;28;01mimport\u001b[39;00m \u001b[38;5;21;01mvtk\u001b[39;00m\n\u001b[0;32m----> 4\u001b[0m \u001b[38;5;28;01mfrom\u001b[39;00m \u001b[38;5;21;01m.\u001b[39;00m\u001b[38;5;21;01mutilities\u001b[39;00m \u001b[38;5;28;01mimport\u001b[39;00m insert_maxis\n\u001b[1;32m      5\u001b[0m \u001b[38;5;28;01mfrom\u001b[39;00m \u001b[38;5;21;01mpolnet\u001b[39;00m \u001b[38;5;28;01mimport\u001b[39;00m lio, polymer, utils\n\u001b[1;32m      6\u001b[0m \u001b[38;5;28;01mimport\u001b[39;00m \u001b[38;5;21;01mos\u001b[39;00m\n",
      "File \u001b[0;32m~/autodl-tmp/polnet/gui/core/utilities.py:3\u001b[0m\n\u001b[1;32m      1\u001b[0m \u001b[38;5;28;01mimport\u001b[39;00m \u001b[38;5;21;01mwget\u001b[39;00m\n\u001b[1;32m      2\u001b[0m \u001b[38;5;28;01mimport\u001b[39;00m \u001b[38;5;21;01mos\u001b[39;00m\n\u001b[0;32m----> 3\u001b[0m \u001b[38;5;28;01mfrom\u001b[39;00m \u001b[38;5;21;01mpolnet\u001b[39;00m \u001b[38;5;28;01mimport\u001b[39;00m lio, polymer, utils\n\u001b[1;32m      4\u001b[0m \u001b[38;5;28;01mimport\u001b[39;00m \u001b[38;5;21;01mnumpy\u001b[39;00m \u001b[38;5;28;01mas\u001b[39;00m \u001b[38;5;21;01mnp\u001b[39;00m\n\u001b[1;32m      5\u001b[0m \u001b[38;5;28;01mfrom\u001b[39;00m \u001b[38;5;21;01m.\u001b[39;00m\u001b[38;5;21;01mpdbtomrc\u001b[39;00m \u001b[38;5;28;01mimport\u001b[39;00m pdb_2_mrc\n",
      "\u001b[0;31mModuleNotFoundError\u001b[0m: No module named 'polnet'"
     ]
    }
   ],
   "source": [
    "from core.vtk_utilities import *\n",
    "from core.utilities import *\n",
    "from core.widgets_utilities import *\n",
    "from core.all_features2 import all_features2\n",
    "from core.tk_utilities import *\n",
    "import io"
   ]
  },
  {
   "cell_type": "markdown",
   "id": "4136b39a-10f0-4a0d-9f11-ca81630d8efa",
   "metadata": {},
   "source": [
    "## Select files with the structural models \n",
    "\n",
    "Select the files that contain the structural models you want to have in your synthetic dataset. At least an input model is required.\n",
    "\n",
    "We have 4 types of models and 4 buttons to adds it:\n",
    "\n",
    "- Membrane files: list of membranes files to use in the application these have **mbs** extension\n",
    "- Filament files: list of filament files to use in the application these have **hns** extension\n",
    "- Macromolecule (protein) files: list of macromolecule files to use in the application these have **pns** extension\n",
    "- Membrane protein files: list of membrane macromolecule files to use in the application these have **pms** extension\n",
    "\n",
    "  \n",
    "**Note** you can select many (an all) files in a folder with the usage of **'Ctrl'** key.\n",
    "\n",
    "Remember to select the membrane proteins that you have already **aligned** otherwise the application will not work correctly.\n"
   ]
  },
  {
   "cell_type": "code",
   "execution_count": 5,
   "id": "750f3880-e445-458c-9742-adb7e801fd8d",
   "metadata": {
    "ExecuteTime": {
     "end_time": "2024-08-27T08:57:03.412415Z",
     "start_time": "2024-08-27T08:57:03.388909Z"
    },
    "jupyter": {
     "source_hidden": true
    },
    "tags": []
   },
   "outputs": [
    {
     "ename": "NameError",
     "evalue": "name 'widgets_add_app_files' is not defined",
     "output_type": "error",
     "traceback": [
      "\u001b[0;31m---------------------------------------------------------------------------\u001b[0m",
      "\u001b[0;31mNameError\u001b[0m                                 Traceback (most recent call last)",
      "Cell \u001b[0;32mIn[5], line 39\u001b[0m\n\u001b[1;32m     34\u001b[0m     add_files(MB_PROTEINS_LIST, selected_files_path_mproteins)\n\u001b[1;32m     35\u001b[0m     update_dropdown(MB_PROTEINS_LIST, dropdown_mproteins)\n\u001b[1;32m     38\u001b[0m (select_file_button_membrane, dropdown_membrane,select_file_button_helix, dropdown_helix, select_file_button_proteins,\n\u001b[0;32m---> 39\u001b[0m  dropdown_proteins, select_file_button_mproteins, dropdown_mproteins) \u001b[38;5;241m=\u001b[39m \u001b[43mwidgets_add_app_files\u001b[49m()\n\u001b[1;32m     40\u001b[0m select_file_button_membrane\u001b[38;5;241m.\u001b[39mon_click(select_files_membrane)\n\u001b[1;32m     41\u001b[0m select_file_button_helix\u001b[38;5;241m.\u001b[39mon_click(select_files_helix)\n",
      "\u001b[0;31mNameError\u001b[0m: name 'widgets_add_app_files' is not defined"
     ]
    }
   ],
   "source": [
    "selected_files_path_membrane = []\n",
    "selected_files_path_helix = []\n",
    "selected_files_path_proteins= []\n",
    "selected_files_path_mproteins = []\n",
    "MEMBRANES_LIST = []\n",
    "HELIX_LIST = []\n",
    "PROTEINS_LIST = []\n",
    "MB_PROTEINS_LIST = []\n",
    "\n",
    "def select_files_membrane(btn):\n",
    "    global selected_files_path_membrane\n",
    "    select_files(selected_files_path_membrane, \".mbs\")\n",
    "    add_files(MEMBRANES_LIST, selected_files_path_membrane)\n",
    "    update_dropdown(MEMBRANES_LIST, dropdown_membrane)\n",
    " \n",
    "    \n",
    "def select_files_helix(btn):\n",
    "    global selected_files_path_helix\n",
    "    select_files(selected_files_path_helix, \".hns\")\n",
    "    add_files(HELIX_LIST, selected_files_path_helix)\n",
    "    update_dropdown(HELIX_LIST, dropdown_helix)\n",
    "\n",
    "\n",
    "def select_files_proteins(btn):\n",
    "    global selected_files_path_proteins\n",
    "    select_files(selected_files_path_proteins, \".pns\")\n",
    "    add_files(PROTEINS_LIST, selected_files_path_proteins)\n",
    "    update_dropdown(PROTEINS_LIST, dropdown_proteins)\n",
    "\n",
    "\n",
    "def select_file_mproteins(btn):\n",
    "    global selected_files_path_mproteins\n",
    "    select_files(selected_files_path_mproteins, \".pms\")\n",
    "    add_files(MB_PROTEINS_LIST, selected_files_path_mproteins)\n",
    "    update_dropdown(MB_PROTEINS_LIST, dropdown_mproteins)\n",
    "\n",
    "\n",
    "(select_file_button_membrane, dropdown_membrane,select_file_button_helix, dropdown_helix, select_file_button_proteins,\n",
    " dropdown_proteins, select_file_button_mproteins, dropdown_mproteins) = widgets_add_app_files()\n",
    "select_file_button_membrane.on_click(select_files_membrane)\n",
    "select_file_button_helix.on_click(select_files_helix)\n",
    "select_file_button_proteins.on_click(select_files_proteins)\n",
    "select_file_button_mproteins.on_click(select_file_mproteins)"
   ]
  },
  {
   "cell_type": "markdown",
   "id": "73791b3c-a930-4508-ab41-453570fb1ac2",
   "metadata": {},
   "source": [
    "## Sort the models\n",
    "\n",
    "Models selected can be sorted to determine the specific order to be simulated. Labels in ground truth will correspond with the order defined here starting with label '1' ('0' is reserved for background)."
   ]
  },
  {
   "cell_type": "code",
   "execution_count": 6,
   "id": "7ffb2361-e079-476c-9a05-e213de9d457d",
   "metadata": {
    "ExecuteTime": {
     "end_time": "2024-08-27T08:58:43.630712Z",
     "start_time": "2024-08-27T08:58:43.594548Z"
    },
    "jupyter": {
     "source_hidden": true
    },
    "tags": []
   },
   "outputs": [
    {
     "ename": "NameError",
     "evalue": "name 'select_file_button_membrane' is not defined",
     "output_type": "error",
     "traceback": [
      "\u001b[0;31m---------------------------------------------------------------------------\u001b[0m",
      "\u001b[0;31mNameError\u001b[0m                                 Traceback (most recent call last)",
      "Cell \u001b[0;32mIn[6], line 63\u001b[0m\n\u001b[1;32m     59\u001b[0m \u001b[38;5;28;01mdef\u001b[39;00m \u001b[38;5;21mon_mb_proteins_list_change\u001b[39m(btn):\n\u001b[1;32m     60\u001b[0m     update_dropdown_widget(MB_PROTEINS_WIDGETS[\u001b[38;5;241m2\u001b[39m], MB_PROTEINS_LIST)\n\u001b[0;32m---> 63\u001b[0m \u001b[43mselect_file_button_membrane\u001b[49m\u001b[38;5;241m.\u001b[39mon_click(on_membranes_list_change)\n\u001b[1;32m     64\u001b[0m select_file_button_helix\u001b[38;5;241m.\u001b[39mon_click(on_helix_list_change)\n\u001b[1;32m     65\u001b[0m select_file_button_proteins\u001b[38;5;241m.\u001b[39mon_click(on_proteins_list_change)\n",
      "\u001b[0;31mNameError\u001b[0m: name 'select_file_button_membrane' is not defined"
     ]
    }
   ],
   "source": [
    "def up_file_m(b):\n",
    "    index, options = up_file_priority(MEMBRANES_LIST,  MEMBRANES_WIDGETS[2].value)\n",
    "    if len(options)>0:\n",
    "        MEMBRANES_WIDGETS[2].options = options\n",
    "        MEMBRANES_WIDGETS[2].value = options[index]\n",
    "\n",
    "def down_file_m(b):\n",
    "    index, options = down_file_priority(MEMBRANES_LIST,  MEMBRANES_WIDGETS[2].value)\n",
    "    if len(options)>0:\n",
    "        MEMBRANES_WIDGETS[2].options = options\n",
    "        MEMBRANES_WIDGETS[2].value = options[index]\n",
    "    \n",
    "def up_file_p(b):\n",
    "    index, options = up_file_priority(PROTEINS_LIST,  PROTEINS_WIDGETS[2].value)\n",
    "    if len(options) >0:\n",
    "        PROTEINS_WIDGETS[2].options = options\n",
    "        PROTEINS_WIDGETS[2].value = options[index]\n",
    "\n",
    "def down_file_p(b):\n",
    "    index, options = down_file_priority(PROTEINS_LIST,  PROTEINS_WIDGETS[2].value)\n",
    "    if len(options) >0:\n",
    "        PROTEINS_WIDGETS[2].options = options\n",
    "        PROTEINS_WIDGETS[2].value = options[index]\n",
    "    \n",
    "def up_file_mb(b):\n",
    "    index, options = up_file_priority(MB_PROTEINS_LIST,  MB_PROTEINS_WIDGETS[2].value)\n",
    "    if len(options) > 0:\n",
    "        MB_PROTEINS_WIDGETS[2].options = options\n",
    "        MB_PROTEINS_WIDGETS[2].value = options[index]\n",
    "\n",
    "def down_file_mb(b):\n",
    "    index, options = down_file_priority(MB_PROTEINS_LIST,  MB_PROTEINS_WIDGETS[2].value)\n",
    "    if len(options) > 0:\n",
    "        MB_PROTEINS_WIDGETS[2].options = options\n",
    "        MB_PROTEINS_WIDGETS[2].value = options[index]\n",
    "    \n",
    "def up_file_h(b):\n",
    "    index, options = up_file_priority(HELIX_LIST,  HELIX_WIDGETS[2].value)\n",
    "    if len(options) > 0:\n",
    "        HELIX_WIDGETS[2].options = options\n",
    "        HELIX_WIDGETS[2].value = options[index]\n",
    "\n",
    "def down_file_h(b):\n",
    "    index, options = down_file_priority(HELIX_LIST,  HELIX_WIDGETS[2].value)\n",
    "    if len(options) > 0:\n",
    "        HELIX_WIDGETS[2].options = options\n",
    "        HELIX_WIDGETS[2].value = options[index]\n",
    "\n",
    "def update_dropdown_widget(widget, values):\n",
    "    widget.options = values\n",
    "    widget.value = values[0] if values else None\n",
    "\n",
    "def on_membranes_list_change(btn):\n",
    "    update_dropdown_widget(MEMBRANES_WIDGETS[2], MEMBRANES_LIST)\n",
    "def on_helix_list_change(btn):\n",
    "    update_dropdown_widget(HELIX_WIDGETS[2], HELIX_LIST)\n",
    "def on_proteins_list_change(btn):\n",
    "    update_dropdown_widget(PROTEINS_WIDGETS[2], PROTEINS_LIST)\n",
    "def on_mb_proteins_list_change(btn):\n",
    "    update_dropdown_widget(MB_PROTEINS_WIDGETS[2], MB_PROTEINS_LIST)\n",
    "\n",
    "\n",
    "select_file_button_membrane.on_click(on_membranes_list_change)\n",
    "select_file_button_helix.on_click(on_helix_list_change)\n",
    "select_file_button_proteins.on_click(on_proteins_list_change)\n",
    "select_file_button_mproteins.on_click(on_mb_proteins_list_change)\n",
    "\n",
    "(MEMBRANES_WIDGETS, HELIX_WIDGETS, PROTEINS_WIDGETS, MB_PROTEINS_WIDGETS)= widgets_change_order([MEMBRANES_LIST, HELIX_LIST, PROTEINS_LIST, MB_PROTEINS_LIST])\n",
    "\n",
    "MEMBRANES_WIDGETS[0].on_click(up_file_m)\n",
    "MEMBRANES_WIDGETS[1].on_click(down_file_m)\n",
    "HELIX_WIDGETS[0].on_click(up_file_h)\n",
    "HELIX_WIDGETS[1].on_click(down_file_h)\n",
    "PROTEINS_WIDGETS[0].on_click(up_file_p)\n",
    "PROTEINS_WIDGETS[1].on_click(down_file_p)\n",
    "MB_PROTEINS_WIDGETS[0].on_click(up_file_mb)\n",
    "MB_PROTEINS_WIDGETS[1].on_click(down_file_mb)"
   ]
  },
  {
   "cell_type": "markdown",
   "id": "d221b8fc-09d0-4471-9ad7-b985054c8c90",
   "metadata": {},
   "source": [
    "## Execution\n",
    "\n",
    "Once defined the list of models to be used in the simulation, select the parameters related with the simulation and image acquisition press **Exec** to run the simulation."
   ]
  },
  {
   "cell_type": "code",
   "execution_count": 3,
   "id": "d979d340-66d3-425a-9225-0e3b4e2aeaab",
   "metadata": {
    "ExecuteTime": {
     "end_time": "2024-08-27T09:19:16.296616Z",
     "start_time": "2024-08-27T09:19:16.225616Z"
    },
    "tags": []
   },
   "outputs": [
    {
     "ename": "NameError",
     "evalue": "name 'os' is not defined",
     "output_type": "error",
     "traceback": [
      "\u001b[0;31m---------------------------------------------------------------------------\u001b[0m",
      "\u001b[0;31mNameError\u001b[0m                                 Traceback (most recent call last)",
      "Cell \u001b[0;32mIn[3], line 1\u001b[0m\n\u001b[0;32m----> 1\u001b[0m DEF_PATH \u001b[38;5;241m=\u001b[39m \u001b[43mos\u001b[49m\u001b[38;5;241m.\u001b[39mpath\u001b[38;5;241m.\u001b[39mrealpath(os\u001b[38;5;241m.\u001b[39mgetcwd() \u001b[38;5;241m+\u001b[39m \u001b[38;5;124m'\u001b[39m\u001b[38;5;124m/../data\u001b[39m\u001b[38;5;124m'\u001b[39m) \u001b[38;5;241m+\u001b[39m  \u001b[38;5;124m'\u001b[39m\u001b[38;5;124m/../data_generated/polnet_test\u001b[39m\u001b[38;5;124m'\u001b[39m\n\u001b[1;32m      2\u001b[0m \u001b[38;5;28;01mdef\u001b[39;00m \u001b[38;5;21mgenerate_voi_shape\u001b[39m():\n\u001b[1;32m      3\u001b[0m     \u001b[38;5;28;01mreturn\u001b[39;00m (voi_shape1\u001b[38;5;241m.\u001b[39mvalue, voi_shape2\u001b[38;5;241m.\u001b[39mvalue, voi_shape3\u001b[38;5;241m.\u001b[39mvalue)\n",
      "\u001b[0;31mNameError\u001b[0m: name 'os' is not defined"
     ]
    }
   ],
   "source": [
    "DEF_PATH = os.path.realpath(os.getcwd() + '/../data') +  '/../data_generated/polnet_test'\n",
    "def generate_voi_shape():\n",
    "    return (voi_shape1.value, voi_shape2.value, voi_shape3.value)\n",
    "\n",
    "def generate_tilts_angs():\n",
    "    return range(widget_min.value, widget_max.value, widget_paso.value)\n",
    "\n",
    "def generate_voi_off():\n",
    "    return ((voi_off_widget_1.value, voi_off_widget_2.value),\n",
    "            (voi_off_widget_3.value, voi_off_widget_4.value),\n",
    "            (voi_off_widget_5.value, voi_off_widget_6.value))\n",
    "\n",
    "\n",
    "\n",
    "def exec_app(btn):\n",
    "    with output_widget:\n",
    "        path = check_dir(widget_out_dir.selected_path, DEF_PATH)\n",
    "        if MEMBRANES_LIST or HELIX_LIST or PROTEINS_LIST or MB_PROTEINS_LIST:\n",
    "            all_features2(ntomos_widget.value, generate_voi_shape(),\n",
    "                          path, generate_voi_off(), voi_size_widget.value,\n",
    "                          mmer_tries_widget.value, pmer_tries_widget.value,\n",
    "                          MEMBRANES_LIST, HELIX_LIST, PROTEINS_LIST, MB_PROTEINS_LIST,\n",
    "                          surf_dec_widget.value,\n",
    "                          generate_tilts_angs(), [detector_snr_widget_low.value, detector_snr_widget_high.value],\n",
    "                          malign_mn_widget.value, malign_mx_widget.value, malign_sg_widget.value)\n",
    "        else:\n",
    "            window_exec_app_failed()\n",
    "\n",
    "\n",
    "(widget_out_dir, ntomos_widget, voi_shape1, voi_shape2, voi_shape3, voi_off_widget_1, voi_off_widget_2, voi_off_widget_3, voi_off_widget_4, \n",
    "voi_off_widget_5, voi_off_widget_6,voi_size_widget, mmer_tries_widget, \n",
    "pmer_tries_widget, surf_dec_widget, malign_mn_widget, malign_mx_widget, malign_sg_widget, \n",
    "detector_snr_widget_low, detector_snr_widget_high, widget_min, widget_max, widget_paso, exec_button) = widgets_exec_app()\n",
    "\n",
    "output_widget = widgets.Output()\n",
    "\n",
    "exec_button.on_click(exec_app)\n",
    "display(output_widget)"
   ]
  },
  {
   "cell_type": "code",
   "execution_count": null,
   "id": "45c6a1d0-ac81-470b-92a5-65b914b2dc22",
   "metadata": {
    "jupyter": {
     "source_hidden": true
    }
   },
   "outputs": [],
   "source": []
  }
 ],
 "metadata": {
  "kernelspec": {
   "display_name": "Python 3 (ipykernel)",
   "language": "python",
   "name": "python3"
  },
  "language_info": {
   "codemirror_mode": {
    "name": "ipython",
    "version": 3
   },
   "file_extension": ".py",
   "mimetype": "text/x-python",
   "name": "python",
   "nbconvert_exporter": "python",
   "pygments_lexer": "ipython3",
   "version": "3.10.8"
  }
 },
 "nbformat": 4,
 "nbformat_minor": 5
}
