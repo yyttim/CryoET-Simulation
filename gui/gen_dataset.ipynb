{
 "cells": [
  {
   "cell_type": "markdown",
   "id": "c80df180-eb9c-4bf0-b522-b1f425260913",
   "metadata": {},
   "source": [
    "# Generate a synthetic dataset\n",
    "\n",
    "This notebook starts the process to generate a synthetic dataset taken already created structural models."
   ]
  },
  {
   "cell_type": "code",
   "execution_count": 1,
   "id": "0511f4c8-7c09-4dd8-8654-025267318864",
   "metadata": {
    "jupyter": {
     "source_hidden": true
    },
    "tags": []
   },
   "outputs": [],
   "source": [
    "from core.vtk_utilities import *\n",
    "from core.utilities import *\n",
    "from core.widgets_utilities import *\n",
    "from core.all_features2 import all_features2\n",
    "from core.tk_utilities import *\n",
    "import io"
   ]
  },
  {
   "cell_type": "markdown",
   "id": "4136b39a-10f0-4a0d-9f11-ca81630d8efa",
   "metadata": {},
   "source": [
    "## Select files with the structural models \n",
    "\n",
    "Select the files that contain the structural models you want to have in your synthetic dataset. At least an input model is required.\n",
    "\n",
    "We have 4 types of models and 4 buttons to adds it:\n",
    "\n",
    "- Membrane files: list of membranes files to use in the application these have **mbs** extension\n",
    "- Filament files: list of filament files to use in the application these have **hns** extension\n",
    "- Macromolecule (protein) files: list of macromolecule files to use in the application these have **pns** extension\n",
    "- Membrane protein files: list of membrane macromolecule files to use in the application these have **pms** extension\n",
    "\n",
    "  \n",
    "**Note** you can select many (an all) files in a folder with the usage of **'Ctrl'** key.\n",
    "\n",
    "Remember to select the membrane proteins that you have already **aligned** otherwise the application will not work correctly.\n"
   ]
  },
  {
   "cell_type": "code",
   "execution_count": 2,
   "id": "750f3880-e445-458c-9742-adb7e801fd8d",
   "metadata": {
    "jupyter": {
     "source_hidden": true
    },
    "tags": []
   },
   "outputs": [
    {
     "data": {
      "application/vnd.jupyter.widget-view+json": {
       "model_id": "e342300d6a2049b7ada9f3b1a2ab8df1",
       "version_major": 2,
       "version_minor": 0
      },
      "text/plain": [
       "VBox(children=(Label(value='Types of structures:'), HBox(children=(Button(description='Select membrane files',…"
      ]
     },
     "metadata": {},
     "output_type": "display_data"
    }
   ],
   "source": [
    "selected_files_path_membrane = []\n",
    "selected_files_path_helix = []\n",
    "selected_files_path_proteins= []\n",
    "selected_files_path_mproteins = []\n",
    "MEMBRANES_LIST = []\n",
    "HELIX_LIST = []\n",
    "PROTEINS_LIST = []\n",
    "MB_PROTEINS_LIST = []\n",
    "\n",
    "def select_files_membrane(btn):\n",
    "    global selected_files_path_membrane\n",
    "    select_files(selected_files_path_membrane, \".mbs\")\n",
    "    add_files(MEMBRANES_LIST, selected_files_path_membrane)\n",
    "    update_dropdown(MEMBRANES_LIST, dropdown_membrane)\n",
    " \n",
    "    \n",
    "def select_files_helix(btn):\n",
    "    global selected_files_path_helix\n",
    "    select_files(selected_files_path_helix, \".hns\")\n",
    "    add_files(HELIX_LIST, selected_files_path_helix)\n",
    "    update_dropdown(HELIX_LIST, dropdown_helix)\n",
    "\n",
    "\n",
    "def select_files_proteins(btn):\n",
    "    global selected_files_path_proteins\n",
    "    select_files(selected_files_path_proteins, \".pns\")\n",
    "    add_files(PROTEINS_LIST, selected_files_path_proteins)\n",
    "    update_dropdown(PROTEINS_LIST, dropdown_proteins)\n",
    "\n",
    "\n",
    "def select_file_mproteins(btn):\n",
    "    global selected_files_path_mproteins\n",
    "    select_files(selected_files_path_mproteins, \".pms\")\n",
    "    add_files(MB_PROTEINS_LIST, selected_files_path_mproteins)\n",
    "    update_dropdown(MB_PROTEINS_LIST, dropdown_mproteins)\n",
    "\n",
    "\n",
    "(select_file_button_membrane, dropdown_membrane,select_file_button_helix, dropdown_helix, select_file_button_proteins,\n",
    " dropdown_proteins, select_file_button_mproteins, dropdown_mproteins) = widgets_add_app_files()\n",
    "select_file_button_membrane.on_click(select_files_membrane)\n",
    "select_file_button_helix.on_click(select_files_helix)\n",
    "select_file_button_proteins.on_click(select_files_proteins)\n",
    "select_file_button_mproteins.on_click(select_file_mproteins)"
   ]
  },
  {
   "cell_type": "markdown",
   "id": "73791b3c-a930-4508-ab41-453570fb1ac2",
   "metadata": {},
   "source": [
    "## Sort the models\n",
    "\n",
    "Models selected can be sorted to determine the specific order to be simulated. Labels in ground truth will correspond with the order defined here starting with label '1' ('0' is reserved for background)."
   ]
  },
  {
   "cell_type": "code",
   "execution_count": 3,
   "id": "7ffb2361-e079-476c-9a05-e213de9d457d",
   "metadata": {
    "jupyter": {
     "source_hidden": true
    }
   },
   "outputs": [
    {
     "data": {
      "application/vnd.jupyter.widget-view+json": {
       "model_id": "b881c722d791440bacf91e5e34512d2e",
       "version_major": 2,
       "version_minor": 0
      },
      "text/plain": [
       "VBox(children=(HBox(children=(Button(description='↑ Up selected file', style=ButtonStyle()), Button(descriptio…"
      ]
     },
     "metadata": {},
     "output_type": "display_data"
    }
   ],
   "source": [
    "def up_file_m(b):\n",
    "    index, options = up_file_priority(MEMBRANES_LIST,  MEMBRANES_WIDGETS[2].value)\n",
    "    if len(options)>0:\n",
    "        MEMBRANES_WIDGETS[2].options = options\n",
    "        MEMBRANES_WIDGETS[2].value = options[index]\n",
    "\n",
    "def down_file_m(b):\n",
    "    index, options = down_file_priority(MEMBRANES_LIST,  MEMBRANES_WIDGETS[2].value)\n",
    "    if len(options)>0:\n",
    "        MEMBRANES_WIDGETS[2].options = options\n",
    "        MEMBRANES_WIDGETS[2].value = options[index]\n",
    "    \n",
    "def up_file_p(b):\n",
    "    index, options = up_file_priority(PROTEINS_LIST,  PROTEINS_WIDGETS[2].value)\n",
    "    if len(options) >0:\n",
    "        PROTEINS_WIDGETS[2].options = options\n",
    "        PROTEINS_WIDGETS[2].value = options[index]\n",
    "\n",
    "def down_file_p(b):\n",
    "    index, options = down_file_priority(PROTEINS_LIST,  PROTEINS_WIDGETS[2].value)\n",
    "    if len(options) >0:\n",
    "        PROTEINS_WIDGETS[2].options = options\n",
    "        PROTEINS_WIDGETS[2].value = options[index]\n",
    "    \n",
    "def up_file_mb(b):\n",
    "    index, options = up_file_priority(MB_PROTEINS_LIST,  MB_PROTEINS_WIDGETS[2].value)\n",
    "    if len(options) > 0:\n",
    "        MB_PROTEINS_WIDGETS[2].options = options\n",
    "        MB_PROTEINS_WIDGETS[2].value = options[index]\n",
    "\n",
    "def down_file_mb(b):\n",
    "    index, options = down_file_priority(MB_PROTEINS_LIST,  MB_PROTEINS_WIDGETS[2].value)\n",
    "    if len(options) > 0:\n",
    "        MB_PROTEINS_WIDGETS[2].options = options\n",
    "        MB_PROTEINS_WIDGETS[2].value = options[index]\n",
    "    \n",
    "def up_file_h(b):\n",
    "    index, options = up_file_priority(HELIX_LIST,  HELIX_WIDGETS[2].value)\n",
    "    if len(options) > 0:\n",
    "        HELIX_WIDGETS[2].options = options\n",
    "        HELIX_WIDGETS[2].value = options[index]\n",
    "\n",
    "def down_file_h(b):\n",
    "    index, options = down_file_priority(HELIX_LIST,  HELIX_WIDGETS[2].value)\n",
    "    if len(options) > 0:\n",
    "        HELIX_WIDGETS[2].options = options\n",
    "        HELIX_WIDGETS[2].value = options[index]\n",
    "\n",
    "def update_dropdown_widget(widget, values):\n",
    "    widget.options = values\n",
    "    widget.value = values[0] if values else None\n",
    "\n",
    "def on_membranes_list_change(btn):\n",
    "    update_dropdown_widget(MEMBRANES_WIDGETS[2], MEMBRANES_LIST)\n",
    "def on_helix_list_change(btn):\n",
    "    update_dropdown_widget(HELIX_WIDGETS[2], HELIX_LIST)\n",
    "def on_proteins_list_change(btn):\n",
    "    update_dropdown_widget(PROTEINS_WIDGETS[2], PROTEINS_LIST)\n",
    "def on_mb_proteins_list_change(btn):\n",
    "    update_dropdown_widget(MB_PROTEINS_WIDGETS[2], MB_PROTEINS_LIST)\n",
    "\n",
    "\n",
    "select_file_button_membrane.on_click(on_membranes_list_change)\n",
    "select_file_button_helix.on_click(on_helix_list_change)\n",
    "select_file_button_proteins.on_click(on_proteins_list_change)\n",
    "select_file_button_mproteins.on_click(on_mb_proteins_list_change)\n",
    "\n",
    "(MEMBRANES_WIDGETS, HELIX_WIDGETS, PROTEINS_WIDGETS, MB_PROTEINS_WIDGETS)= widgets_change_order([MEMBRANES_LIST, HELIX_LIST, PROTEINS_LIST, MB_PROTEINS_LIST])\n",
    "\n",
    "MEMBRANES_WIDGETS[0].on_click(up_file_m)\n",
    "MEMBRANES_WIDGETS[1].on_click(down_file_m)\n",
    "HELIX_WIDGETS[0].on_click(up_file_h)\n",
    "HELIX_WIDGETS[1].on_click(down_file_h)\n",
    "PROTEINS_WIDGETS[0].on_click(up_file_p)\n",
    "PROTEINS_WIDGETS[1].on_click(down_file_p)\n",
    "MB_PROTEINS_WIDGETS[0].on_click(up_file_mb)\n",
    "MB_PROTEINS_WIDGETS[1].on_click(down_file_mb)"
   ]
  },
  {
   "cell_type": "markdown",
   "id": "d221b8fc-09d0-4471-9ad7-b985054c8c90",
   "metadata": {},
   "source": [
    "## Execution\n",
    "\n",
    "Once defined the list of models to be used in the simulation, select the parameters related with the simulation and image acquisition press **Exec** to run the simulation."
   ]
  },
  {
   "cell_type": "code",
   "execution_count": 5,
   "id": "2bc556eb-10a1-4893-8cbc-fc248d84b9ee",
   "metadata": {
    "jupyter": {
     "source_hidden": true
    },
    "tags": []
   },
   "outputs": [
    {
     "data": {
      "application/vnd.jupyter.widget-view+json": {
       "model_id": "0c4600da04284b12b48327d8792e2e3a",
       "version_major": 2,
       "version_minor": 0
      },
      "text/plain": [
       "FileChooser(path='D:\\tfg\\polnet\\gui', filename='', title='Select where you want to save the output files:', sh…"
      ]
     },
     "metadata": {},
     "output_type": "display_data"
    },
    {
     "data": {
      "application/vnd.jupyter.widget-view+json": {
       "model_id": "252d325f4d9f416bafca79e71d88cdd6",
       "version_major": 2,
       "version_minor": 0
      },
      "text/plain": [
       "IntText(value=1, description='N_TOMOS (number of tomograms in the dataset):', layout=Layout(width='380px'), st…"
      ]
     },
     "metadata": {},
     "output_type": "display_data"
    },
    {
     "data": {
      "application/vnd.jupyter.widget-view+json": {
       "model_id": "8282a53aea6242579b9fc9332e4cec33",
       "version_major": 2,
       "version_minor": 0
      },
      "text/plain": [
       "HBox(children=(BoundedIntText(value=400, description='VOI_SHAPE (Tomogram shape, voxels):', layout=Layout(widt…"
      ]
     },
     "metadata": {},
     "output_type": "display_data"
    },
    {
     "data": {
      "application/vnd.jupyter.widget-view+json": {
       "model_id": "1973674fbbbb41adb061be8f4cc9be18",
       "version_major": 2,
       "version_minor": 0
      },
      "text/plain": [
       "HBox(children=(BoundedIntText(value=4, description='VOI_OFF (Empty halo, voxels):', layout=Layout(width='250px…"
      ]
     },
     "metadata": {},
     "output_type": "display_data"
    },
    {
     "data": {
      "application/vnd.jupyter.widget-view+json": {
       "model_id": "27199576c8fd4464b5b37b3748b6e69a",
       "version_major": 2,
       "version_minor": 0
      },
      "text/plain": [
       "BoundedFloatText(value=10.0, description='VOI_VOXEL_SIZE (Voxel size, voxels/A):', layout=Layout(width='350px'…"
      ]
     },
     "metadata": {},
     "output_type": "display_data"
    },
    {
     "data": {
      "application/vnd.jupyter.widget-view+json": {
       "model_id": "4800b43bbf0b49bea2d22b9ffe059886",
       "version_major": 2,
       "version_minor": 0
      },
      "text/plain": [
       "BoundedFloatText(value=20.0, description='MMER_TRIES (Maximun number of tries for monomers):', layout=Layout(w…"
      ]
     },
     "metadata": {},
     "output_type": "display_data"
    },
    {
     "data": {
      "application/vnd.jupyter.widget-view+json": {
       "model_id": "c8ca0f5a2ed24221aff32a1507c1a229",
       "version_major": 2,
       "version_minor": 0
      },
      "text/plain": [
       "BoundedFloatText(value=100.0, description='PMER_TRIES (Maximun number of tries for polymers):', layout=Layout(…"
      ]
     },
     "metadata": {},
     "output_type": "display_data"
    },
    {
     "data": {
      "application/vnd.jupyter.widget-view+json": {
       "model_id": "d80ced9f5abc47b9bba940cb3edf286d",
       "version_major": 2,
       "version_minor": 0
      },
      "text/plain": [
       "BoundedFloatText(value=0.9, description='SURF_DEC (Decimation for surface respresentation, [0, 1]):', layout=L…"
      ]
     },
     "metadata": {},
     "output_type": "display_data"
    },
    {
     "data": {
      "application/vnd.jupyter.widget-view+json": {
       "model_id": "7e26db53fde64ce7a76e8645f70704a4",
       "version_major": 2,
       "version_minor": 0
      },
      "text/plain": [
       "BoundedFloatText(value=1.0, description='MALIGN_MN (Micrograph miss-alginment mean, pixels):', layout=Layout(w…"
      ]
     },
     "metadata": {},
     "output_type": "display_data"
    },
    {
     "data": {
      "application/vnd.jupyter.widget-view+json": {
       "model_id": "a9e75f8d5bc84770b319969ae61e40ec",
       "version_major": 2,
       "version_minor": 0
      },
      "text/plain": [
       "BoundedFloatText(value=1.5, description='MALIGN_MX (Micrograph miss-alginment max, pixels):', layout=Layout(wi…"
      ]
     },
     "metadata": {},
     "output_type": "display_data"
    },
    {
     "data": {
      "application/vnd.jupyter.widget-view+json": {
       "model_id": "f8dc21221be04279a89e0315601f99cd",
       "version_major": 2,
       "version_minor": 0
      },
      "text/plain": [
       "BoundedFloatText(value=0.2, description='MALIGN_SG (Micrograph miss-alginment sigma, pixels):', layout=Layout(…"
      ]
     },
     "metadata": {},
     "output_type": "display_data"
    },
    {
     "data": {
      "application/vnd.jupyter.widget-view+json": {
       "model_id": "19f6cd4860be4921a1bdbbc7776f1697",
       "version_major": 2,
       "version_minor": 0
      },
      "text/plain": [
       "HBox(children=(BoundedFloatText(value=1.0, description='DETECTOR_SNR (Micrographs SNR range):', layout=Layout(…"
      ]
     },
     "metadata": {},
     "output_type": "display_data"
    },
    {
     "data": {
      "application/vnd.jupyter.widget-view+json": {
       "model_id": "a3654b2acc6844e9af8254060dea7a14",
       "version_major": 2,
       "version_minor": 0
      },
      "text/plain": [
       "HBox(children=(BoundedIntText(value=-60, description='TILT_ANGS (Degrees; start, end, step):', layout=Layout(w…"
      ]
     },
     "metadata": {},
     "output_type": "display_data"
    },
    {
     "data": {
      "application/vnd.jupyter.widget-view+json": {
       "model_id": "fc07635341f6444db35948496bbda8a5",
       "version_major": 2,
       "version_minor": 0
      },
      "text/plain": [
       "Button(description='Exec', style=ButtonStyle())"
      ]
     },
     "metadata": {},
     "output_type": "display_data"
    },
    {
     "data": {
      "application/vnd.jupyter.widget-view+json": {
       "model_id": "c05e8a9af06f45688cad3886fb88f686",
       "version_major": 2,
       "version_minor": 0
      },
      "text/plain": [
       "Output()"
      ]
     },
     "metadata": {},
     "output_type": "display_data"
    }
   ],
   "source": [
    "## DEF_PATH = os.path.realpath(os.getcwd() + '/../data') +  '/../data_generated/polnet_test'\n",
    "def generate_voi_shape():\n",
    "    return (voi_shape1.value, voi_shape2.value, voi_shape3.value)\n",
    "\n",
    "def generate_tilts_angs():\n",
    "    return range(widget_min.value, widget_max.value, widget_paso.value)\n",
    "\n",
    "def generate_voi_off():\n",
    "    return ((voi_off_widget_1.value, voi_off_widget_2.value),\n",
    "            (voi_off_widget_3.value, voi_off_widget_4.value),\n",
    "            (voi_off_widget_5.value, voi_off_widget_6.value))\n",
    "\n",
    "\n",
    "\n",
    "def exec_app(btn):\n",
    "    with output_widget:\n",
    "        path = check_dir(widget_out_dir.selected_path, DEF_PATH)\n",
    "        if MEMBRANES_LIST or HELIX_LIST or PROTEINS_LIST or MB_PROTEINS_LIST:\n",
    "            all_features2(ntomos_widget.value, generate_voi_shape(),\n",
    "                          path, generate_voi_off(), voi_size_widget.value,\n",
    "                          mmer_tries_widget.value, pmer_tries_widget.value,\n",
    "                          MEMBRANES_LIST, HELIX_LIST, PROTEINS_LIST, MB_PROTEINS_LIST,\n",
    "                          surf_dec_widget.value,\n",
    "                          generate_tilts_angs(), [detector_snr_widget_low.value, detector_snr_widget_high.value],\n",
    "                          malign_mn_widget.value, malign_mx_widget.value, malign_sg_widget.value)\n",
    "        else:\n",
    "            window_exec_app_failed()\n",
    "\n",
    "\n",
    "(widget_out_dir, ntomos_widget, voi_shape1, voi_shape2, voi_shape3, voi_off_widget_1, voi_off_widget_2, voi_off_widget_3, voi_off_widget_4, \n",
    "voi_off_widget_5, voi_off_widget_6,voi_size_widget, mmer_tries_widget, \n",
    "pmer_tries_widget, surf_dec_widget, malign_mn_widget, malign_mx_widget, malign_sg_widget, \n",
    "detector_snr_widget_low, detector_snr_widget_high, widget_min, widget_max, widget_paso, exec_button) = widgets_exec_app()\n",
    "\n",
    "output_widget = widgets.Output()\n",
    "\n",
    "exec_button.on_click(exec_app)\n",
    "display(output_widget)"
   ]
  },
  {
   "cell_type": "code",
   "execution_count": null,
   "id": "45c6a1d0-ac81-470b-92a5-65b914b2dc22",
   "metadata": {
    "jupyter": {
     "source_hidden": true
    }
   },
   "outputs": [],
   "source": []
  }
 ],
 "metadata": {
  "kernelspec": {
   "display_name": "Python 3 (ipykernel)",
   "language": "python",
   "name": "python3"
  },
  "language_info": {
   "codemirror_mode": {
    "name": "ipython",
    "version": 3
   },
   "file_extension": ".py",
   "mimetype": "text/x-python",
   "name": "python",
   "nbconvert_exporter": "python",
   "pygments_lexer": "ipython3",
   "version": "3.12.2"
  },
  "widgets": {
   "application/vnd.jupyter.widget-state+json": {
    "state": {
     "01caa545512443f18b046c714807a586": {
      "model_module": "@jupyter-widgets/base",
      "model_module_version": "2.0.0",
      "model_name": "LayoutModel",
      "state": {}
     },
     "0280c640881d4cabb41ce7d1e564af63": {
      "model_module": "@jupyter-widgets/controls",
      "model_module_version": "2.0.0",
      "model_name": "BoundedFloatTextModel",
      "state": {
       "description": "MMER_TRIES (Maximun number of tries for monomers):",
       "layout": "IPY_MODEL_742088be12064aaabbeb4017a9195853",
       "step": null,
       "style": "IPY_MODEL_747fe03c92e449cb95f075203b8c8b41",
       "value": 20
      }
     },
     "04a43ec7edd64ceb85dc57d33ea41fe4": {
      "model_module": "@jupyter-widgets/base",
      "model_module_version": "2.0.0",
      "model_name": "LayoutModel",
      "state": {
       "width": "400px"
      }
     },
     "04b98eca3bd24f3a82c7b0b056f68520": {
      "model_module": "@jupyter-widgets/controls",
      "model_module_version": "2.0.0",
      "model_name": "DescriptionStyleModel",
      "state": {
       "description_width": "initial"
      }
     },
     "050573e04a0540e888c34073e6a4a597": {
      "model_module": "@jupyter-widgets/base",
      "model_module_version": "2.0.0",
      "model_name": "LayoutModel",
      "state": {
       "width": "70px"
      }
     },
     "05dbc2491d0440f68351873fb520737a": {
      "model_module": "@jupyter-widgets/base",
      "model_module_version": "2.0.0",
      "model_name": "LayoutModel",
      "state": {
       "width": "500px"
      }
     },
     "062031df31b1491c96486bf57e39899b": {
      "model_module": "@jupyter-widgets/base",
      "model_module_version": "2.0.0",
      "model_name": "LayoutModel",
      "state": {}
     },
     "086fc31e866c4716bf1628675b498559": {
      "model_module": "@jupyter-widgets/base",
      "model_module_version": "2.0.0",
      "model_name": "LayoutModel",
      "state": {
       "width": "200px"
      }
     },
     "093b59e29c814aff8519847728b7539b": {
      "model_module": "@jupyter-widgets/base",
      "model_module_version": "2.0.0",
      "model_name": "LayoutModel",
      "state": {}
     },
     "0af394ebfaf542b2845875796bd7cf0f": {
      "model_module": "@jupyter-widgets/base",
      "model_module_version": "2.0.0",
      "model_name": "LayoutModel",
      "state": {}
     },
     "0b1083efc9774412b3e3c188e2da5b99": {
      "model_module": "@jupyter-widgets/base",
      "model_module_version": "2.0.0",
      "model_name": "LayoutModel",
      "state": {
       "width": "70px"
      }
     },
     "0b61613909df401691b52964441526e8": {
      "model_module": "@jupyter-widgets/controls",
      "model_module_version": "2.0.0",
      "model_name": "ButtonStyleModel",
      "state": {
       "font_family": null,
       "font_size": null,
       "font_style": null,
       "font_variant": null,
       "font_weight": null,
       "text_color": null,
       "text_decoration": null
      }
     },
     "0c4600da04284b12b48327d8792e2e3a": {
      "model_module": "@jupyter-widgets/controls",
      "model_module_version": "2.0.0",
      "model_name": "VBoxModel",
      "state": {
       "children": [
        "IPY_MODEL_a84d5fcd4df14fc2a66659075928607b",
        "IPY_MODEL_0e14fdf0d1b549ceb420f6bc937acb27",
        "IPY_MODEL_3556d43da9444f29adfa9a8ce0e4a6fe"
       ],
       "layout": "IPY_MODEL_05dbc2491d0440f68351873fb520737a"
      }
     },
     "0e14fdf0d1b549ceb420f6bc937acb27": {
      "model_module": "@jupyter-widgets/controls",
      "model_module_version": "2.0.0",
      "model_name": "GridBoxModel",
      "state": {
       "children": [
        "IPY_MODEL_5cc0c95d99cb4f7091e4c0f9241db258",
        "IPY_MODEL_84b45ef298814e1084e25f992c3ed658",
        "IPY_MODEL_1a8df533036a486697dfa567bb1c7a89"
       ],
       "layout": "IPY_MODEL_4c2a6a834f6a43848c160ff2e499a57c"
      }
     },
     "0e797bec2f774ce5844d3125fe999e0c": {
      "model_module": "@jupyter-widgets/controls",
      "model_module_version": "2.0.0",
      "model_name": "HBoxModel",
      "state": {
       "children": [
        "IPY_MODEL_34415744514c46c091be39c2ae6c0e6d",
        "IPY_MODEL_6ba81c5dbe9a4327b41996e4989ec6e3"
       ],
       "layout": "IPY_MODEL_8ab3f690d3834fc9bb31693cd439ead0"
      }
     },
     "0f4deac4b1e0411d96763ee3183f49a0": {
      "model_module": "@jupyter-widgets/controls",
      "model_module_version": "2.0.0",
      "model_name": "BoundedIntTextModel",
      "state": {
       "layout": "IPY_MODEL_050573e04a0540e888c34073e6a4a597",
       "max": 100000,
       "min": 1,
       "style": "IPY_MODEL_c106851cfa8a486f92b64fee6f1737d7",
       "value": 4
      }
     },
     "0f6c8e4a99314a78ac961bbcfbe43690": {
      "model_module": "@jupyter-widgets/controls",
      "model_module_version": "2.0.0",
      "model_name": "ButtonStyleModel",
      "state": {
       "font_family": null,
       "font_size": null,
       "font_style": null,
       "font_variant": null,
       "font_weight": null,
       "text_color": null,
       "text_decoration": null
      }
     },
     "0fb114558c1f4f45ad869608f5027b41": {
      "model_module": "@jupyter-widgets/base",
      "model_module_version": "2.0.0",
      "model_name": "LayoutModel",
      "state": {
       "width": "60px"
      }
     },
     "0fec955ef58148b9b5efdc74f143077d": {
      "model_module": "@jupyter-widgets/controls",
      "model_module_version": "2.0.0",
      "model_name": "BoundedFloatTextModel",
      "state": {
       "description": "DETECTOR_SNR (Micrographs SNR range):",
       "layout": "IPY_MODEL_5182775b2b214bc784100427b15965ea",
       "step": 0.0001,
       "style": "IPY_MODEL_5936e7b0b6954d278483a2590aab0dc5",
       "value": 1
      }
     },
     "117bbe23d66e4f72816236db48b8fde6": {
      "model_module": "@jupyter-widgets/base",
      "model_module_version": "2.0.0",
      "model_name": "LayoutModel",
      "state": {
       "width": "550px"
      }
     },
     "12b2f8ffa2ed458bbad4d9276694359c": {
      "model_module": "@jupyter-widgets/base",
      "model_module_version": "2.0.0",
      "model_name": "LayoutModel",
      "state": {
       "width": "80px"
      }
     },
     "1465fdeeae6b4deabc133c1cfd0b6b3f": {
      "model_module": "@jupyter-widgets/controls",
      "model_module_version": "2.0.0",
      "model_name": "DescriptionStyleModel",
      "state": {
       "description_width": "initial"
      }
     },
     "1467c4e4b19e4586af0cb3a1917ed1c2": {
      "model_module": "@jupyter-widgets/base",
      "model_module_version": "2.0.0",
      "model_name": "LayoutModel",
      "state": {
       "margin": "0 0 0 1em"
      }
     },
     "147da6ca80e5439cb3843db15b38253e": {
      "model_module": "@jupyter-widgets/controls",
      "model_module_version": "2.0.0",
      "model_name": "DescriptionStyleModel",
      "state": {
       "description_width": ""
      }
     },
     "155256c8690f44c58febb496c4f4a933": {
      "model_module": "@jupyter-widgets/controls",
      "model_module_version": "2.0.0",
      "model_name": "LabelStyleModel",
      "state": {
       "description_width": "",
       "font_family": null,
       "font_size": null,
       "font_style": null,
       "font_variant": null,
       "font_weight": null,
       "text_color": null,
       "text_decoration": null
      }
     },
     "167d6fba240649e6926257b985eab1ec": {
      "model_module": "@jupyter-widgets/base",
      "model_module_version": "2.0.0",
      "model_name": "LayoutModel",
      "state": {
       "width": "70px"
      }
     },
     "176e8da53612447f8a743724425aa013": {
      "model_module": "@jupyter-widgets/controls",
      "model_module_version": "2.0.0",
      "model_name": "HBoxModel",
      "state": {
       "children": [
        "IPY_MODEL_dc75640717b24b7da2c2baeb1fb462c3",
        "IPY_MODEL_c79b72d799f14cbb8cdaae3167c0f05c",
        "IPY_MODEL_fa686e6ce49e442aaedf4d76651840fc"
       ],
       "layout": "IPY_MODEL_9494f25a31d84773b8e670b74a12024f"
      }
     },
     "186fdd0c7cea40f0bec0a54ce363cee4": {
      "model_module": "@jupyter-widgets/base",
      "model_module_version": "2.0.0",
      "model_name": "LayoutModel",
      "state": {
       "width": "250px"
      }
     },
     "190c5c41479c4781ae0e87e8c247644b": {
      "model_module": "@jupyter-widgets/controls",
      "model_module_version": "2.0.0",
      "model_name": "DropdownModel",
      "state": {
       "_options_labels": [
        "Select paths..."
       ],
       "index": 0,
       "layout": "IPY_MODEL_6424f59494e74952ae0644e47918e78a",
       "style": "IPY_MODEL_48b842a671464f3e9ed1b3d6127f8f35"
      }
     },
     "191e99a911924eed922ad846ecf58c81": {
      "model_module": "@jupyter-widgets/base",
      "model_module_version": "2.0.0",
      "model_name": "LayoutModel",
      "state": {}
     },
     "1973674fbbbb41adb061be8f4cc9be18": {
      "model_module": "@jupyter-widgets/controls",
      "model_module_version": "2.0.0",
      "model_name": "HBoxModel",
      "state": {
       "children": [
        "IPY_MODEL_9c2331d8a2e04bdfb5b7da039fd8716d",
        "IPY_MODEL_ef881e9faf31482db6d97d1628f94597",
        "IPY_MODEL_0f4deac4b1e0411d96763ee3183f49a0",
        "IPY_MODEL_1eb2117464124f8095ac00dc935847dc",
        "IPY_MODEL_53cac9504b854d65866c4d676731ea18",
        "IPY_MODEL_9bd44dc088294a889524c3bb2bc66562",
        "IPY_MODEL_87b7807480284f598b7dbb7cb33d3f45"
       ],
       "layout": "IPY_MODEL_43a83236a6c74fd4a04077fdefbb086c"
      }
     },
     "19f6cd4860be4921a1bdbbc7776f1697": {
      "model_module": "@jupyter-widgets/controls",
      "model_module_version": "2.0.0",
      "model_name": "HBoxModel",
      "state": {
       "children": [
        "IPY_MODEL_0fec955ef58148b9b5efdc74f143077d",
        "IPY_MODEL_8a529f8bc38647a58f335e1396d36a14"
       ],
       "layout": "IPY_MODEL_1de0d5b7db3d42ef92db206481db5506"
      }
     },
     "1a8df533036a486697dfa567bb1c7a89": {
      "model_module": "@jupyter-widgets/controls",
      "model_module_version": "2.0.0",
      "model_name": "SelectModel",
      "state": {
       "_options_labels": [
        "📁 ..",
        "📁 core"
       ],
       "index": null,
       "layout": "IPY_MODEL_35ff2c1a56a047f6a9deaef45386f8c4",
       "rows": 8,
       "style": "IPY_MODEL_30523f54d25947f39c121b106c2ba549"
      }
     },
     "1aaf59b6c7d147a6a065941b92b2521d": {
      "model_module": "@jupyter-widgets/controls",
      "model_module_version": "2.0.0",
      "model_name": "ButtonModel",
      "state": {
       "description": "↓ Down selected file",
       "layout": "IPY_MODEL_4d51bb4d762d44bab1618089d4838570",
       "style": "IPY_MODEL_4d13e0a485b747a4a6330cc3f70732a1",
       "tooltip": null
      }
     },
     "1bec1422cecb4712b0aaeb925ddf7205": {
      "model_module": "@jupyter-widgets/base",
      "model_module_version": "2.0.0",
      "model_name": "LayoutModel",
      "state": {
       "width": "380px"
      }
     },
     "1cac7a62deb848048bc77bfc0e93f6fc": {
      "model_module": "@jupyter-widgets/controls",
      "model_module_version": "2.0.0",
      "model_name": "DropdownModel",
      "state": {
       "_options_labels": [
        "D:\\tfg\\polnet\\gui",
        "D:\\tfg\\polnet",
        "D:\\tfg",
        "D:\\",
        "C:\\"
       ],
       "index": 0,
       "layout": "IPY_MODEL_3d8745d887b84573883b18fceaaec8a3",
       "style": "IPY_MODEL_80318c82675840109a34e79c7f739274"
      }
     },
     "1d509bae07bb4ab8a9627dc35b575259": {
      "model_module": "@jupyter-widgets/controls",
      "model_module_version": "2.0.0",
      "model_name": "DescriptionStyleModel",
      "state": {
       "description_width": ""
      }
     },
     "1de0d5b7db3d42ef92db206481db5506": {
      "model_module": "@jupyter-widgets/base",
      "model_module_version": "2.0.0",
      "model_name": "LayoutModel",
      "state": {}
     },
     "1eb2117464124f8095ac00dc935847dc": {
      "model_module": "@jupyter-widgets/controls",
      "model_module_version": "2.0.0",
      "model_name": "BoundedIntTextModel",
      "state": {
       "layout": "IPY_MODEL_fcaedaa65a7d4a5aaa74fee20d7e6ffe",
       "max": 100000,
       "min": 1,
       "style": "IPY_MODEL_64bb51e01fe34b13a463f68585ad50f9",
       "value": 396
      }
     },
     "1ecfe25b5106431382d8a478a3857bc1": {
      "model_module": "@jupyter-widgets/controls",
      "model_module_version": "2.0.0",
      "model_name": "LabelStyleModel",
      "state": {
       "description_width": "",
       "font_family": null,
       "font_size": null,
       "font_style": null,
       "font_variant": null,
       "font_weight": null,
       "text_color": null,
       "text_decoration": null
      }
     },
     "1f430f1f61ca40648142f23c50b57382": {
      "model_module": "@jupyter-widgets/controls",
      "model_module_version": "2.0.0",
      "model_name": "IntTextModel",
      "state": {
       "description": "N_TOMOS (number of tomograms in the dataset):",
       "layout": "IPY_MODEL_1bec1422cecb4712b0aaeb925ddf7205",
       "step": 1,
       "style": "IPY_MODEL_279a975357ce4040ab1c425062266955",
       "value": 1
      }
     },
     "1f89a5d631e44b49b22b26e55c0b3c72": {
      "model_module": "@jupyter-widgets/base",
      "model_module_version": "2.0.0",
      "model_name": "LayoutModel",
      "state": {
       "width": "auto"
      }
     },
     "2043944a619b499490a5061628a8aba2": {
      "model_module": "@jupyter-widgets/controls",
      "model_module_version": "2.0.0",
      "model_name": "DescriptionStyleModel",
      "state": {
       "description_width": ""
      }
     },
     "219adcc5df8c48dcb6214ce71fc994c5": {
      "model_module": "@jupyter-widgets/controls",
      "model_module_version": "2.0.0",
      "model_name": "VBoxModel",
      "state": {
       "children": [
        "IPY_MODEL_f00090c9867b4540acb865d8753d44df",
        "IPY_MODEL_7e544df7d66546a7aed6771d69c76200",
        "IPY_MODEL_d5b963d7a6f14b1592629a803e43df17"
       ],
       "layout": "IPY_MODEL_05dbc2491d0440f68351873fb520737a"
      }
     },
     "21aaa29fa9d14e098da32749f62a34a4": {
      "model_module": "@jupyter-widgets/controls",
      "model_module_version": "2.0.0",
      "model_name": "TextStyleModel",
      "state": {
       "description_width": "",
       "font_size": null,
       "text_color": null
      }
     },
     "225eb4773cb345028ae5a2805e774770": {
      "model_module": "@jupyter-widgets/controls",
      "model_module_version": "2.0.0",
      "model_name": "BoundedIntTextModel",
      "state": {
       "layout": "IPY_MODEL_0fb114558c1f4f45ad869608f5027b41",
       "max": 100000,
       "min": -1000,
       "style": "IPY_MODEL_d811471bbbb248d08188f4d50b3ecb6a",
       "value": 3
      }
     },
     "2264347ab0bf48abb4c3454df4c326b9": {
      "model_module": "@jupyter-widgets/base",
      "model_module_version": "2.0.0",
      "model_name": "LayoutModel",
      "state": {
       "width": "350px"
      }
     },
     "22a2cc5e5a2340d481ad62d813af7b8d": {
      "model_module": "@jupyter-widgets/controls",
      "model_module_version": "2.0.0",
      "model_name": "ButtonModel",
      "state": {
       "description": "Select proteins files",
       "layout": "IPY_MODEL_086fc31e866c4716bf1628675b498559",
       "style": "IPY_MODEL_4dfe17d6da0f4fe1826c286237265296",
       "tooltip": null
      }
     },
     "2486351b88e74fb4bd43108175a7cf51": {
      "model_module": "@jupyter-widgets/controls",
      "model_module_version": "2.0.0",
      "model_name": "ButtonModel",
      "state": {
       "description": "↓ Down selected file",
       "layout": "IPY_MODEL_fd88a7c9be7e415b85791597546c76d3",
       "style": "IPY_MODEL_d5570b90275d4beaa71ac36b8ee71492",
       "tooltip": null
      }
     },
     "252d325f4d9f416bafca79e71d88cdd6": {
      "model_module": "@jupyter-widgets/controls",
      "model_module_version": "2.0.0",
      "model_name": "IntTextModel",
      "state": {
       "description": "N_TOMOS (number of tomograms in the dataset):",
       "layout": "IPY_MODEL_c9fb17a42e7346ffaf09a74041b7595c",
       "step": 1,
       "style": "IPY_MODEL_5be41a3edd4241a7ac65aba3e04773b1",
       "value": 1
      }
     },
     "2536e95d37ca4a828b7df67152ded49f": {
      "model_module": "@jupyter-widgets/controls",
      "model_module_version": "2.0.0",
      "model_name": "ButtonStyleModel",
      "state": {
       "font_family": null,
       "font_size": null,
       "font_style": null,
       "font_variant": null,
       "font_weight": null,
       "text_color": null,
       "text_decoration": null
      }
     },
     "25b02220cb8b4e749d9bd4f7d31340dc": {
      "model_module": "@jupyter-widgets/controls",
      "model_module_version": "2.0.0",
      "model_name": "DescriptionStyleModel",
      "state": {
       "description_width": ""
      }
     },
     "25dbbe67e7954ae29fdbfcb174a4d5de": {
      "model_module": "@jupyter-widgets/controls",
      "model_module_version": "2.0.0",
      "model_name": "TextStyleModel",
      "state": {
       "description_width": "",
       "font_size": null,
       "text_color": null
      }
     },
     "27199576c8fd4464b5b37b3748b6e69a": {
      "model_module": "@jupyter-widgets/controls",
      "model_module_version": "2.0.0",
      "model_name": "BoundedFloatTextModel",
      "state": {
       "description": "VOI_VOXEL_SIZE (Voxel size, voxels/A):",
       "layout": "IPY_MODEL_cce32a0f74234d2ebc02ef04f5bd2bdc",
       "step": null,
       "style": "IPY_MODEL_ada9933b8f104c408466dbcd526c21d3",
       "value": 10
      }
     },
     "27326d6ba3734416894d7b1cb33ad609": {
      "model_module": "@jupyter-widgets/base",
      "model_module_version": "2.0.0",
      "model_name": "LayoutModel",
      "state": {
       "width": "70px"
      }
     },
     "279a975357ce4040ab1c425062266955": {
      "model_module": "@jupyter-widgets/controls",
      "model_module_version": "2.0.0",
      "model_name": "DescriptionStyleModel",
      "state": {
       "description_width": "initial"
      }
     },
     "28dc4a736f8445acb633b5a273e62920": {
      "model_module": "@jupyter-widgets/controls",
      "model_module_version": "2.0.0",
      "model_name": "HBoxModel",
      "state": {
       "children": [
        "IPY_MODEL_791bbddb63574dfba401f204e8240850",
        "IPY_MODEL_db4d34da4ca0411fbe3134ff352d4e01",
        "IPY_MODEL_ba03cb339efe4fa889750178f4314b0d"
       ],
       "layout": "IPY_MODEL_54cd0698ec18419da955038753f3d9a5"
      }
     },
     "2b288966ea9e45a6ab4a6ca64af2ace0": {
      "model_module": "@jupyter-widgets/controls",
      "model_module_version": "2.0.0",
      "model_name": "DescriptionStyleModel",
      "state": {
       "description_width": ""
      }
     },
     "2bb61ef766f64a8eb1781cbf03f7671f": {
      "model_module": "@jupyter-widgets/base",
      "model_module_version": "2.0.0",
      "model_name": "LayoutModel",
      "state": {
       "width": "250px"
      }
     },
     "2c6244c1c0084f599c7227b748486240": {
      "model_module": "@jupyter-widgets/base",
      "model_module_version": "2.0.0",
      "model_name": "LayoutModel",
      "state": {}
     },
     "2c7509c1d9e748ef8bec736d8339721c": {
      "model_module": "@jupyter-widgets/base",
      "model_module_version": "2.0.0",
      "model_name": "LayoutModel",
      "state": {
       "width": "550px"
      }
     },
     "2cf93dc4694e43a8ab7826e2f8c02a9c": {
      "model_module": "@jupyter-widgets/controls",
      "model_module_version": "2.0.0",
      "model_name": "DescriptionStyleModel",
      "state": {
       "description_width": "initial"
      }
     },
     "2d1d94c0909847e0afcf0f77c4683d6d": {
      "model_module": "@jupyter-widgets/controls",
      "model_module_version": "2.0.0",
      "model_name": "LabelModel",
      "state": {
       "layout": "IPY_MODEL_df9168f329034bb28e8ac85c9fd6f851",
       "style": "IPY_MODEL_155256c8690f44c58febb496c4f4a933",
       "value": "this is the Start and End in voxels for the effective volume"
      }
     },
     "2d4dc4ae0f5d473ea6daeb8924967927": {
      "model_module": "@jupyter-widgets/base",
      "model_module_version": "2.0.0",
      "model_name": "LayoutModel",
      "state": {}
     },
     "2e393ecf00a747c39e3e593023ea6c4e": {
      "model_module": "@jupyter-widgets/base",
      "model_module_version": "2.0.0",
      "model_name": "LayoutModel",
      "state": {}
     },
     "2e6859df439c468d92b7c9a779973ebc": {
      "model_module": "@jupyter-widgets/controls",
      "model_module_version": "2.0.0",
      "model_name": "BoundedIntTextModel",
      "state": {
       "layout": "IPY_MODEL_de8d2d1bfaf84cfcbd91e5a2b9643b9e",
       "max": 100000,
       "style": "IPY_MODEL_833516076fdb4cc39b90e5b7de262557",
       "value": 100
      }
     },
     "2f9402b0d9ab4838a964770a51c1de4b": {
      "model_module": "@jupyter-widgets/base",
      "model_module_version": "2.0.0",
      "model_name": "LayoutModel",
      "state": {}
     },
     "30523f54d25947f39c121b106c2ba549": {
      "model_module": "@jupyter-widgets/controls",
      "model_module_version": "2.0.0",
      "model_name": "DescriptionStyleModel",
      "state": {
       "description_width": ""
      }
     },
     "32d734f97d0f46dd98e44560b822b8f0": {
      "model_module": "@jupyter-widgets/controls",
      "model_module_version": "2.0.0",
      "model_name": "BoxModel",
      "state": {
       "children": [
        "IPY_MODEL_41b9ca318c2a41ab899ff3c933fc9c58"
       ],
       "layout": "IPY_MODEL_78faf80e67c14fb08e7031467ba8e3e8"
      }
     },
     "34415744514c46c091be39c2ae6c0e6d": {
      "model_module": "@jupyter-widgets/controls",
      "model_module_version": "2.0.0",
      "model_name": "ButtonModel",
      "state": {
       "description": "Select filament files",
       "layout": "IPY_MODEL_e298ccd9d9694fea8be7bd2739f54b47",
       "style": "IPY_MODEL_f1ba1852480c48408b0e068c4df326a7",
       "tooltip": null
      }
     },
     "3556d43da9444f29adfa9a8ce0e4a6fe": {
      "model_module": "@jupyter-widgets/controls",
      "model_module_version": "2.0.0",
      "model_name": "HBoxModel",
      "state": {
       "children": [
        "IPY_MODEL_7ef110da2a6b4cd0931949ad26a1f367",
        "IPY_MODEL_427b431813454061bd4c2eabbad76b64",
        "IPY_MODEL_6c27f91a018a4558a60dea2073da46c2"
       ],
       "layout": "IPY_MODEL_1f89a5d631e44b49b22b26e55c0b3c72"
      }
     },
     "35ff2c1a56a047f6a9deaef45386f8c4": {
      "model_module": "@jupyter-widgets/base",
      "model_module_version": "2.0.0",
      "model_name": "LayoutModel",
      "state": {
       "grid_area": "dircontent",
       "width": "auto"
      }
     },
     "38fc5359f9724007a5e58ca37c734f03": {
      "model_module": "@jupyter-widgets/controls",
      "model_module_version": "2.0.0",
      "model_name": "HTMLStyleModel",
      "state": {
       "description_width": "",
       "font_size": null,
       "text_color": null
      }
     },
     "39cb654d39ee450284d9a6e4a978a218": {
      "model_module": "@jupyter-widgets/controls",
      "model_module_version": "2.0.0",
      "model_name": "DescriptionStyleModel",
      "state": {
       "description_width": ""
      }
     },
     "3a14a6aa7d3a44b98faad941b4cddb2b": {
      "model_module": "@jupyter-widgets/controls",
      "model_module_version": "2.0.0",
      "model_name": "DropdownModel",
      "state": {
       "_options_labels": [
        "Select paths..."
       ],
       "index": 0,
       "layout": "IPY_MODEL_2c7509c1d9e748ef8bec736d8339721c",
       "style": "IPY_MODEL_725b4d6d1f034a58a68cb69192ce1419"
      }
     },
     "3b5f17e27ac54cb89665f86ed537e0e0": {
      "model_module": "@jupyter-widgets/base",
      "model_module_version": "2.0.0",
      "model_name": "LayoutModel",
      "state": {
       "width": "400px"
      }
     },
     "3c5586f24cc84c4892010504d5e51476": {
      "model_module": "@jupyter-widgets/controls",
      "model_module_version": "2.0.0",
      "model_name": "HBoxModel",
      "state": {
       "children": [
        "IPY_MODEL_8052f26f72f64eab9b7c68e0895087c7",
        "IPY_MODEL_190c5c41479c4781ae0e87e8c247644b"
       ],
       "layout": "IPY_MODEL_ab81f8141d984203b036ea7a740d07d7"
      }
     },
     "3cfe7bfab2c346a597f24f336bb232d9": {
      "model_module": "@jupyter-widgets/controls",
      "model_module_version": "2.0.0",
      "model_name": "DescriptionStyleModel",
      "state": {
       "description_width": "initial"
      }
     },
     "3d20dd5f0cda477ea168797959b3f418": {
      "model_module": "@jupyter-widgets/base",
      "model_module_version": "2.0.0",
      "model_name": "LayoutModel",
      "state": {}
     },
     "3d54159565b34e11b7f3f6abc9101848": {
      "model_module": "@jupyter-widgets/controls",
      "model_module_version": "2.0.0",
      "model_name": "ButtonModel",
      "state": {
       "description": "Select",
       "layout": "IPY_MODEL_759475a5753c4757a460186176bf3598",
       "style": "IPY_MODEL_853c560abbfe404ca1b723da3fce5566",
       "tooltip": null
      }
     },
     "3d8745d887b84573883b18fceaaec8a3": {
      "model_module": "@jupyter-widgets/base",
      "model_module_version": "2.0.0",
      "model_name": "LayoutModel",
      "state": {
       "grid_area": "pathlist",
       "width": "auto"
      }
     },
     "3e12e38838754149b6cabb74ca9d1292": {
      "model_module": "@jupyter-widgets/base",
      "model_module_version": "2.0.0",
      "model_name": "LayoutModel",
      "state": {
       "width": "390px"
      }
     },
     "3f825e03dd4f4ee9ad27ff92ff9dd009": {
      "model_module": "@jupyter-widgets/controls",
      "model_module_version": "2.0.0",
      "model_name": "BoundedIntTextModel",
      "state": {
       "description": "VOI_SHAPE (Tomogram shape, voxels):",
       "layout": "IPY_MODEL_7e2d7feadf4742b1964d4399113e5240",
       "max": 100000,
       "style": "IPY_MODEL_1465fdeeae6b4deabc133c1cfd0b6b3f",
       "value": 400
      }
     },
     "3fa29a421cf84ae88f59cc82a4096850": {
      "model_module": "@jupyter-widgets/base",
      "model_module_version": "2.0.0",
      "model_name": "LayoutModel",
      "state": {
       "width": "400px"
      }
     },
     "406aae318dee467eaf30cfc76648e3a9": {
      "model_module": "@jupyter-widgets/controls",
      "model_module_version": "2.0.0",
      "model_name": "DescriptionStyleModel",
      "state": {
       "description_width": ""
      }
     },
     "415f61c87a8f421280aeecd55afd488f": {
      "model_module": "@jupyter-widgets/controls",
      "model_module_version": "2.0.0",
      "model_name": "DescriptionStyleModel",
      "state": {
       "description_width": "initial"
      }
     },
     "418d74f8b1ae48f0bec32006a2787e59": {
      "model_module": "@jupyter-widgets/controls",
      "model_module_version": "2.0.0",
      "model_name": "HTMLStyleModel",
      "state": {
       "description_width": "",
       "font_size": null,
       "text_color": null
      }
     },
     "41b2b8cf6a4d4da0abae41cf42637016": {
      "model_module": "@jupyter-widgets/controls",
      "model_module_version": "2.0.0",
      "model_name": "ButtonModel",
      "state": {
       "description": "Exec",
       "layout": "IPY_MODEL_062031df31b1491c96486bf57e39899b",
       "style": "IPY_MODEL_4d5ab04c05ec4355986e7825f4e27d57",
       "tooltip": null
      }
     },
     "41b9ca318c2a41ab899ff3c933fc9c58": {
      "model_module": "@jupyter-widgets/controls",
      "model_module_version": "2.0.0",
      "model_name": "HTMLModel",
      "state": {
       "layout": "IPY_MODEL_fc81ed456b714e30ba59d02681a8aebb",
       "placeholder": "",
       "style": "IPY_MODEL_5f31a138ad1b4576a96006dc2b3e9a61",
       "value": "<span style=\"color:black;\">No selection</span>"
      }
     },
     "420505cb7e534f658be6a87b52a65537": {
      "model_module": "@jupyter-widgets/base",
      "model_module_version": "2.0.0",
      "model_name": "LayoutModel",
      "state": {
       "display": "none",
       "min_width": "6em",
       "width": "6em"
      }
     },
     "425a9dfa04f54d7caff8167ea39b271b": {
      "model_module": "@jupyter-widgets/controls",
      "model_module_version": "2.0.0",
      "model_name": "DropdownModel",
      "state": {
       "_options_labels": [
        "Select paths..."
       ],
       "index": 0,
       "layout": "IPY_MODEL_ca01ee48faf14c34bb340df5445b4d5e",
       "style": "IPY_MODEL_8671b7709b3e48408f836ebdc5c5acfd"
      }
     },
     "427b431813454061bd4c2eabbad76b64": {
      "model_module": "@jupyter-widgets/controls",
      "model_module_version": "2.0.0",
      "model_name": "ButtonModel",
      "state": {
       "description": "Cancel",
       "layout": "IPY_MODEL_738b0df7bceb40619eb22b04714d8424",
       "style": "IPY_MODEL_c034080da7954a20ab9e3af2109cb941",
       "tooltip": null
      }
     },
     "4398e01ff5534598856efca52f4cf278": {
      "model_module": "@jupyter-widgets/base",
      "model_module_version": "2.0.0",
      "model_name": "LayoutModel",
      "state": {
       "width": "70px"
      }
     },
     "43a83236a6c74fd4a04077fdefbb086c": {
      "model_module": "@jupyter-widgets/base",
      "model_module_version": "2.0.0",
      "model_name": "LayoutModel",
      "state": {}
     },
     "43b6a6f476d74ac6bd7ceed3d538b065": {
      "model_module": "@jupyter-widgets/controls",
      "model_module_version": "2.0.0",
      "model_name": "BoundedFloatTextModel",
      "state": {
       "description": "SURF_DEC (Decimation for surface respresentation, [0, 1]):",
       "layout": "IPY_MODEL_fd50baf2340f4845b7825ee65be72963",
       "step": null,
       "style": "IPY_MODEL_a207cb53d45f4737b4d45a3c336e2a51",
       "value": 0.9
      }
     },
     "44580f72ecd64453ba66cc547937e16c": {
      "model_module": "@jupyter-widgets/controls",
      "model_module_version": "2.0.0",
      "model_name": "BoundedIntTextModel",
      "state": {
       "layout": "IPY_MODEL_c10d930233214d7c98896c20a801cbd6",
       "max": 100000,
       "min": 1,
       "style": "IPY_MODEL_2043944a619b499490a5061628a8aba2",
       "value": 96
      }
     },
     "47f1300f399a48a38fae44dfa7f9d2a2": {
      "model_module": "@jupyter-widgets/controls",
      "model_module_version": "2.0.0",
      "model_name": "DescriptionStyleModel",
      "state": {
       "description_width": ""
      }
     },
     "4800b43bbf0b49bea2d22b9ffe059886": {
      "model_module": "@jupyter-widgets/controls",
      "model_module_version": "2.0.0",
      "model_name": "BoundedFloatTextModel",
      "state": {
       "description": "MMER_TRIES (Maximun number of tries for monomers):",
       "layout": "IPY_MODEL_90c8df4e2f0a46f7be2478d7682b7ffe",
       "step": null,
       "style": "IPY_MODEL_3cfe7bfab2c346a597f24f336bb232d9",
       "value": 20
      }
     },
     "480ba2fa76a044be98edc5771ad3c3ab": {
      "model_module": "@jupyter-widgets/controls",
      "model_module_version": "2.0.0",
      "model_name": "HBoxModel",
      "state": {
       "children": [
        "IPY_MODEL_b0d182383c19460bac2f52ac0c112cb9",
        "IPY_MODEL_ac7731f78b264ae2bf503764fd05b760",
        "IPY_MODEL_581559d2bfe64158ad32070ce0863c6b",
        "IPY_MODEL_f82d339cf7ff41b5afd7ff39b4faf48e",
        "IPY_MODEL_9212699afdca423bbb7383a16f8a18f9",
        "IPY_MODEL_44580f72ecd64453ba66cc547937e16c",
        "IPY_MODEL_2d1d94c0909847e0afcf0f77c4683d6d"
       ],
       "layout": "IPY_MODEL_acb0fefa292c45aca0740aacc7b48259"
      }
     },
     "48b842a671464f3e9ed1b3d6127f8f35": {
      "model_module": "@jupyter-widgets/controls",
      "model_module_version": "2.0.0",
      "model_name": "DescriptionStyleModel",
      "state": {
       "description_width": ""
      }
     },
     "4b399d5d14734bc88b374f9b0d91b8a6": {
      "model_module": "@jupyter-widgets/controls",
      "model_module_version": "2.0.0",
      "model_name": "HBoxModel",
      "state": {
       "children": [
        "IPY_MODEL_9e15b6bc4f3c4206b378fceee306f955",
        "IPY_MODEL_1aaf59b6c7d147a6a065941b92b2521d",
        "IPY_MODEL_81eb3e7c9214442aaca08ab56c1ec1e5"
       ],
       "layout": "IPY_MODEL_99299e88354a469498b0f2fa91a8e3cd"
      }
     },
     "4b50c55239de4c628b143d1648dab16f": {
      "model_module": "@jupyter-widgets/controls",
      "model_module_version": "2.0.0",
      "model_name": "DescriptionStyleModel",
      "state": {
       "description_width": "initial"
      }
     },
     "4c2a6a834f6a43848c160ff2e499a57c": {
      "model_module": "@jupyter-widgets/base",
      "model_module_version": "2.0.0",
      "model_name": "LayoutModel",
      "state": {
       "display": "none",
       "grid_gap": "0px 0px",
       "grid_template_areas": "\n                    'pathlist pathlist'\n                    'dircontent dircontent'\n                    ",
       "grid_template_columns": "60% 40%",
       "grid_template_rows": "auto auto",
       "width": "auto"
      }
     },
     "4c2fb39acf104947b3672aa7a7d23229": {
      "model_module": "@jupyter-widgets/base",
      "model_module_version": "2.0.0",
      "model_name": "LayoutModel",
      "state": {}
     },
     "4d13e0a485b747a4a6330cc3f70732a1": {
      "model_module": "@jupyter-widgets/controls",
      "model_module_version": "2.0.0",
      "model_name": "ButtonStyleModel",
      "state": {
       "font_family": null,
       "font_size": null,
       "font_style": null,
       "font_variant": null,
       "font_weight": null,
       "text_color": null,
       "text_decoration": null
      }
     },
     "4d51bb4d762d44bab1618089d4838570": {
      "model_module": "@jupyter-widgets/base",
      "model_module_version": "2.0.0",
      "model_name": "LayoutModel",
      "state": {}
     },
     "4d5ab04c05ec4355986e7825f4e27d57": {
      "model_module": "@jupyter-widgets/controls",
      "model_module_version": "2.0.0",
      "model_name": "ButtonStyleModel",
      "state": {
       "font_family": null,
       "font_size": null,
       "font_style": null,
       "font_variant": null,
       "font_weight": null,
       "text_color": null,
       "text_decoration": null
      }
     },
     "4dfe17d6da0f4fe1826c286237265296": {
      "model_module": "@jupyter-widgets/controls",
      "model_module_version": "2.0.0",
      "model_name": "ButtonStyleModel",
      "state": {
       "font_family": null,
       "font_size": null,
       "font_style": null,
       "font_variant": null,
       "font_weight": null,
       "text_color": null,
       "text_decoration": null
      }
     },
     "4e0fd287275348c4bf37022d15b021bf": {
      "model_module": "@jupyter-widgets/base",
      "model_module_version": "2.0.0",
      "model_name": "LayoutModel",
      "state": {}
     },
     "50f59ecf210848a7a9f8801c8096e6da": {
      "model_module": "@jupyter-widgets/base",
      "model_module_version": "2.0.0",
      "model_name": "LayoutModel",
      "state": {
       "width": "290px"
      }
     },
     "5182775b2b214bc784100427b15965ea": {
      "model_module": "@jupyter-widgets/base",
      "model_module_version": "2.0.0",
      "model_name": "LayoutModel",
      "state": {
       "width": "330px"
      }
     },
     "52149eb1953242b6b2f7cd383f1c3f11": {
      "model_module": "@jupyter-widgets/base",
      "model_module_version": "2.0.0",
      "model_name": "LayoutModel",
      "state": {}
     },
     "53cac9504b854d65866c4d676731ea18": {
      "model_module": "@jupyter-widgets/controls",
      "model_module_version": "2.0.0",
      "model_name": "BoundedIntTextModel",
      "state": {
       "layout": "IPY_MODEL_167d6fba240649e6926257b985eab1ec",
       "max": 100000,
       "min": 1,
       "style": "IPY_MODEL_147da6ca80e5439cb3843db15b38253e",
       "value": 4
      }
     },
     "54cd0698ec18419da955038753f3d9a5": {
      "model_module": "@jupyter-widgets/base",
      "model_module_version": "2.0.0",
      "model_name": "LayoutModel",
      "state": {}
     },
     "56965f08764c4b50848fea48b56a3d16": {
      "model_module": "@jupyter-widgets/controls",
      "model_module_version": "2.0.0",
      "model_name": "DescriptionStyleModel",
      "state": {
       "description_width": "initial"
      }
     },
     "5711fe69b9d9466bb0ff0b78e8ccc030": {
      "model_module": "@jupyter-widgets/base",
      "model_module_version": "2.0.0",
      "model_name": "LayoutModel",
      "state": {
       "width": "400px"
      }
     },
     "573dd8d5247b404f935344e073235d6f": {
      "model_module": "@jupyter-widgets/base",
      "model_module_version": "2.0.0",
      "model_name": "LayoutModel",
      "state": {
       "width": "70px"
      }
     },
     "581559d2bfe64158ad32070ce0863c6b": {
      "model_module": "@jupyter-widgets/controls",
      "model_module_version": "2.0.0",
      "model_name": "BoundedIntTextModel",
      "state": {
       "layout": "IPY_MODEL_27326d6ba3734416894d7b1cb33ad609",
       "max": 100000,
       "min": 1,
       "style": "IPY_MODEL_a52c099adbc647bda199b4ee39256d01",
       "value": 4
      }
     },
     "58f9355e2b39408890fa406cb935cf6c": {
      "model_module": "@jupyter-widgets/controls",
      "model_module_version": "2.0.0",
      "model_name": "DescriptionStyleModel",
      "state": {
       "description_width": "initial"
      }
     },
     "5936e7b0b6954d278483a2590aab0dc5": {
      "model_module": "@jupyter-widgets/controls",
      "model_module_version": "2.0.0",
      "model_name": "DescriptionStyleModel",
      "state": {
       "description_width": "initial"
      }
     },
     "5aba34dc7be64852b0feca29c242f804": {
      "model_module": "@jupyter-widgets/base",
      "model_module_version": "2.0.0",
      "model_name": "LayoutModel",
      "state": {
       "width": "550px"
      }
     },
     "5ba03e65bfd6457f8a86f633d93f85f0": {
      "model_module": "@jupyter-widgets/controls",
      "model_module_version": "2.0.0",
      "model_name": "DescriptionStyleModel",
      "state": {
       "description_width": "initial"
      }
     },
     "5be41a3edd4241a7ac65aba3e04773b1": {
      "model_module": "@jupyter-widgets/controls",
      "model_module_version": "2.0.0",
      "model_name": "DescriptionStyleModel",
      "state": {
       "description_width": "initial"
      }
     },
     "5c7e96691ff048eeb019eacabe4e0d14": {
      "model_module": "@jupyter-widgets/base",
      "model_module_version": "2.0.0",
      "model_name": "LayoutModel",
      "state": {
       "min_width": "6em",
       "width": "6em"
      }
     },
     "5cc0c95d99cb4f7091e4c0f9241db258": {
      "model_module": "@jupyter-widgets/controls",
      "model_module_version": "2.0.0",
      "model_name": "DropdownModel",
      "state": {
       "_options_labels": [
        "D:\\tfg\\polnet\\gui",
        "D:\\tfg\\polnet",
        "D:\\tfg",
        "D:\\",
        "C:\\"
       ],
       "index": 0,
       "layout": "IPY_MODEL_e00ca6d060ed44baa4772d404c6143a1",
       "style": "IPY_MODEL_d7ce251167e3448684dc66837f7afecb"
      }
     },
     "5cc10f5f471d4d67890bbff9ceeac1a5": {
      "model_module": "@jupyter-widgets/controls",
      "model_module_version": "2.0.0",
      "model_name": "BoundedFloatTextModel",
      "state": {
       "description": "VOI_VOXEL_SIZE (Voxel size, voxels/A):",
       "layout": "IPY_MODEL_2264347ab0bf48abb4c3454df4c326b9",
       "step": null,
       "style": "IPY_MODEL_db89a7f5c28c4728b3208337e985642d",
       "value": 10
      }
     },
     "5f31a138ad1b4576a96006dc2b3e9a61": {
      "model_module": "@jupyter-widgets/controls",
      "model_module_version": "2.0.0",
      "model_name": "HTMLStyleModel",
      "state": {
       "description_width": "",
       "font_size": null,
       "text_color": null
      }
     },
     "6085a98d5ec945728535d6fb42ca7fa5": {
      "model_module": "@jupyter-widgets/controls",
      "model_module_version": "2.0.0",
      "model_name": "DescriptionStyleModel",
      "state": {
       "description_width": ""
      }
     },
     "617205359773484597307ae88b256743": {
      "model_module": "@jupyter-widgets/base",
      "model_module_version": "2.0.0",
      "model_name": "LayoutModel",
      "state": {
       "width": "550px"
      }
     },
     "6206f0fad25949e7909f684547fb7ae3": {
      "model_module": "@jupyter-widgets/controls",
      "model_module_version": "2.0.0",
      "model_name": "DescriptionStyleModel",
      "state": {
       "description_width": "initial"
      }
     },
     "62704bbcf42f4705b5b0c4b3ea6cf352": {
      "model_module": "@jupyter-widgets/controls",
      "model_module_version": "2.0.0",
      "model_name": "DescriptionStyleModel",
      "state": {
       "description_width": ""
      }
     },
     "6424f59494e74952ae0644e47918e78a": {
      "model_module": "@jupyter-widgets/base",
      "model_module_version": "2.0.0",
      "model_name": "LayoutModel",
      "state": {
       "width": "550px"
      }
     },
     "64bb51e01fe34b13a463f68585ad50f9": {
      "model_module": "@jupyter-widgets/controls",
      "model_module_version": "2.0.0",
      "model_name": "DescriptionStyleModel",
      "state": {
       "description_width": ""
      }
     },
     "64c3fe8721ed4f30af0b5a30c5d03178": {
      "model_module": "@jupyter-widgets/controls",
      "model_module_version": "2.0.0",
      "model_name": "ButtonStyleModel",
      "state": {
       "font_family": null,
       "font_size": null,
       "font_style": null,
       "font_variant": null,
       "font_weight": null,
       "text_color": null,
       "text_decoration": null
      }
     },
     "6692d120e6414776b7dc399d86e5f746": {
      "model_module": "@jupyter-widgets/controls",
      "model_module_version": "2.0.0",
      "model_name": "HTMLStyleModel",
      "state": {
       "description_width": "",
       "font_size": null,
       "text_color": null
      }
     },
     "688b4c0e4d114383bf6fc3454ff798fe": {
      "model_module": "@jupyter-widgets/controls",
      "model_module_version": "2.0.0",
      "model_name": "ButtonStyleModel",
      "state": {
       "font_family": null,
       "font_size": null,
       "font_style": null,
       "font_variant": null,
       "font_weight": null,
       "text_color": null,
       "text_decoration": null
      }
     },
     "6aae39c539104188abca92e82c484f56": {
      "model_module": "@jupyter-widgets/controls",
      "model_module_version": "2.0.0",
      "model_name": "BoundedFloatTextModel",
      "state": {
       "description": "MALIGN_MN (Micrograph miss-alginment mean, pixels):",
       "layout": "IPY_MODEL_d95acea664874ecdb2ba3b5a2e76e4fd",
       "step": null,
       "style": "IPY_MODEL_8d22355168e04ce9979a64456b9fa00e",
       "value": 1
      }
     },
     "6ba81c5dbe9a4327b41996e4989ec6e3": {
      "model_module": "@jupyter-widgets/controls",
      "model_module_version": "2.0.0",
      "model_name": "DropdownModel",
      "state": {
       "_options_labels": [
        "Select paths..."
       ],
       "index": 0,
       "layout": "IPY_MODEL_617205359773484597307ae88b256743",
       "style": "IPY_MODEL_62704bbcf42f4705b5b0c4b3ea6cf352"
      }
     },
     "6c27f91a018a4558a60dea2073da46c2": {
      "model_module": "@jupyter-widgets/controls",
      "model_module_version": "2.0.0",
      "model_name": "BoxModel",
      "state": {
       "children": [
        "IPY_MODEL_a4c546d4e7de42128da842fe102eaaf5"
       ],
       "layout": "IPY_MODEL_bd50a92a81fa4b759b00c9910998eea9"
      }
     },
     "6ebf2fa2cf3e4f76a60e8353f2164e73": {
      "model_module": "@jupyter-widgets/controls",
      "model_module_version": "2.0.0",
      "model_name": "DescriptionStyleModel",
      "state": {
       "description_width": "initial"
      }
     },
     "6efda729951b4c1781172b0350fdcef8": {
      "model_module": "@jupyter-widgets/controls",
      "model_module_version": "2.0.0",
      "model_name": "DescriptionStyleModel",
      "state": {
       "description_width": "initial"
      }
     },
     "716ef5c609624693866f697a6966cb9e": {
      "model_module": "@jupyter-widgets/controls",
      "model_module_version": "2.0.0",
      "model_name": "HBoxModel",
      "state": {
       "children": [
        "IPY_MODEL_b66d57de2d2a4139bcd9e2c272c21e33",
        "IPY_MODEL_2486351b88e74fb4bd43108175a7cf51",
        "IPY_MODEL_425a9dfa04f54d7caff8167ea39b271b"
       ],
       "layout": "IPY_MODEL_9af69fc697374abb8bb84e4188ed42ed"
      }
     },
     "71ca1f9a2425490d8c7f1e68f0214be8": {
      "model_module": "@jupyter-widgets/base",
      "model_module_version": "2.0.0",
      "model_name": "LayoutModel",
      "state": {
       "width": "80px"
      }
     },
     "725b4d6d1f034a58a68cb69192ce1419": {
      "model_module": "@jupyter-widgets/controls",
      "model_module_version": "2.0.0",
      "model_name": "DescriptionStyleModel",
      "state": {
       "description_width": ""
      }
     },
     "726d76b41d0f4161b6ae86e4b2ce3418": {
      "model_module": "@jupyter-widgets/output",
      "model_module_version": "1.0.0",
      "model_name": "OutputModel",
      "state": {
       "layout": "IPY_MODEL_ce9dabf0c4d44785be5507d8fd3d5ac2"
      }
     },
     "7286151441a146a99f9c9f1ff98cf52b": {
      "model_module": "@jupyter-widgets/base",
      "model_module_version": "2.0.0",
      "model_name": "LayoutModel",
      "state": {
       "width": "290px"
      }
     },
     "73008594e63c4cbd89d2b12c1b054626": {
      "model_module": "@jupyter-widgets/base",
      "model_module_version": "2.0.0",
      "model_name": "LayoutModel",
      "state": {}
     },
     "732876fbf9c54a609e1d1cf0347561f6": {
      "model_module": "@jupyter-widgets/controls",
      "model_module_version": "2.0.0",
      "model_name": "DescriptionStyleModel",
      "state": {
       "description_width": ""
      }
     },
     "738b0df7bceb40619eb22b04714d8424": {
      "model_module": "@jupyter-widgets/base",
      "model_module_version": "2.0.0",
      "model_name": "LayoutModel",
      "state": {
       "display": "none",
       "min_width": "6em",
       "width": "6em"
      }
     },
     "73fc80ebdb774281bf1116b9cfe7973b": {
      "model_module": "@jupyter-widgets/controls",
      "model_module_version": "2.0.0",
      "model_name": "DescriptionStyleModel",
      "state": {
       "description_width": ""
      }
     },
     "742088be12064aaabbeb4017a9195853": {
      "model_module": "@jupyter-widgets/base",
      "model_module_version": "2.0.0",
      "model_name": "LayoutModel",
      "state": {
       "width": "400px"
      }
     },
     "747fe03c92e449cb95f075203b8c8b41": {
      "model_module": "@jupyter-widgets/controls",
      "model_module_version": "2.0.0",
      "model_name": "DescriptionStyleModel",
      "state": {
       "description_width": "initial"
      }
     },
     "759475a5753c4757a460186176bf3598": {
      "model_module": "@jupyter-widgets/base",
      "model_module_version": "2.0.0",
      "model_name": "LayoutModel",
      "state": {
       "min_width": "6em",
       "width": "6em"
      }
     },
     "788d7ebc7e9149389a1c3b70374dce94": {
      "model_module": "@jupyter-widgets/controls",
      "model_module_version": "2.0.0",
      "model_name": "ButtonStyleModel",
      "state": {
       "font_family": null,
       "font_size": null,
       "font_style": null,
       "font_variant": null,
       "font_weight": null,
       "text_color": null,
       "text_decoration": null
      }
     },
     "78faf80e67c14fb08e7031467ba8e3e8": {
      "model_module": "@jupyter-widgets/base",
      "model_module_version": "2.0.0",
      "model_name": "LayoutModel",
      "state": {
       "overflow": "auto"
      }
     },
     "791bbddb63574dfba401f204e8240850": {
      "model_module": "@jupyter-widgets/controls",
      "model_module_version": "2.0.0",
      "model_name": "ButtonModel",
      "state": {
       "description": "↑ Up selected file",
       "layout": "IPY_MODEL_093b59e29c814aff8519847728b7539b",
       "style": "IPY_MODEL_0f6c8e4a99314a78ac961bbcfbe43690",
       "tooltip": null
      }
     },
     "79ea54ff5f2e4e418c8769a4c32e7cf9": {
      "model_module": "@jupyter-widgets/controls",
      "model_module_version": "2.0.0",
      "model_name": "DescriptionStyleModel",
      "state": {
       "description_width": "initial"
      }
     },
     "7bf099f6575b49a1ae99160dc531f28e": {
      "model_module": "@jupyter-widgets/controls",
      "model_module_version": "2.0.0",
      "model_name": "ButtonModel",
      "state": {
       "description": "Select membrane protein files",
       "layout": "IPY_MODEL_d8cde0233f714195b7f8396c5c8a9630",
       "style": "IPY_MODEL_9740adfc4b8747a9962023141fb0d8d4",
       "tooltip": null
      }
     },
     "7ca25c96eda041c38534a88cb89c0269": {
      "model_module": "@jupyter-widgets/controls",
      "model_module_version": "2.0.0",
      "model_name": "HBoxModel",
      "state": {
       "children": [
        "IPY_MODEL_859309977a004769aa46aae9db4a8a58",
        "IPY_MODEL_9ac5ebb74eee4b669ec72bc2c643eccd"
       ],
       "layout": "IPY_MODEL_4c2fb39acf104947b3672aa7a7d23229"
      }
     },
     "7e26db53fde64ce7a76e8645f70704a4": {
      "model_module": "@jupyter-widgets/controls",
      "model_module_version": "2.0.0",
      "model_name": "BoundedFloatTextModel",
      "state": {
       "description": "MALIGN_MN (Micrograph miss-alginment mean, pixels):",
       "layout": "IPY_MODEL_04a43ec7edd64ceb85dc57d33ea41fe4",
       "step": null,
       "style": "IPY_MODEL_58f9355e2b39408890fa406cb935cf6c",
       "value": 1
      }
     },
     "7e2d7feadf4742b1964d4399113e5240": {
      "model_module": "@jupyter-widgets/base",
      "model_module_version": "2.0.0",
      "model_name": "LayoutModel",
      "state": {
       "width": "310px"
      }
     },
     "7e544df7d66546a7aed6771d69c76200": {
      "model_module": "@jupyter-widgets/controls",
      "model_module_version": "2.0.0",
      "model_name": "GridBoxModel",
      "state": {
       "children": [
        "IPY_MODEL_1cac7a62deb848048bc77bfc0e93f6fc",
        "IPY_MODEL_c5c43d22e9a34959a86ac8db4b81b93a",
        "IPY_MODEL_9f9a01319b234ef0b707b6146d543961"
       ],
       "layout": "IPY_MODEL_e35fa86f579649a591c791733b544cd3"
      }
     },
     "7ef110da2a6b4cd0931949ad26a1f367": {
      "model_module": "@jupyter-widgets/controls",
      "model_module_version": "2.0.0",
      "model_name": "ButtonModel",
      "state": {
       "description": "Select",
       "layout": "IPY_MODEL_5c7e96691ff048eeb019eacabe4e0d14",
       "style": "IPY_MODEL_2536e95d37ca4a828b7df67152ded49f",
       "tooltip": null
      }
     },
     "80318c82675840109a34e79c7f739274": {
      "model_module": "@jupyter-widgets/controls",
      "model_module_version": "2.0.0",
      "model_name": "DescriptionStyleModel",
      "state": {
       "description_width": ""
      }
     },
     "8052f26f72f64eab9b7c68e0895087c7": {
      "model_module": "@jupyter-widgets/controls",
      "model_module_version": "2.0.0",
      "model_name": "ButtonModel",
      "state": {
       "description": "Select membrane files",
       "layout": "IPY_MODEL_c108a35c67564c10a7f2139f75a8797a",
       "style": "IPY_MODEL_d402e5aefd424c97a15903caad24e8e3",
       "tooltip": null
      }
     },
     "81721e0353614f2192de4a3d16cc89a7": {
      "model_module": "@jupyter-widgets/base",
      "model_module_version": "2.0.0",
      "model_name": "LayoutModel",
      "state": {
       "display": "none",
       "grid_area": "filename",
       "width": "auto"
      }
     },
     "81a6918c667e4e09a7f0434cb6281ea1": {
      "model_module": "@jupyter-widgets/base",
      "model_module_version": "2.0.0",
      "model_name": "LayoutModel",
      "state": {}
     },
     "81eb3e7c9214442aaca08ab56c1ec1e5": {
      "model_module": "@jupyter-widgets/controls",
      "model_module_version": "2.0.0",
      "model_name": "DropdownModel",
      "state": {
       "_options_labels": [
        "Select paths..."
       ],
       "index": 0,
       "layout": "IPY_MODEL_117bbe23d66e4f72816236db48b8fde6",
       "style": "IPY_MODEL_ea7eeb6423d74d3d9598593a9f739546"
      }
     },
     "8282a53aea6242579b9fc9332e4cec33": {
      "model_module": "@jupyter-widgets/controls",
      "model_module_version": "2.0.0",
      "model_name": "HBoxModel",
      "state": {
       "children": [
        "IPY_MODEL_3f825e03dd4f4ee9ad27ff92ff9dd009",
        "IPY_MODEL_e13450e97e4947c9bb0d434a218de197",
        "IPY_MODEL_2e6859df439c468d92b7c9a779973ebc"
       ],
       "layout": "IPY_MODEL_0af394ebfaf542b2845875796bd7cf0f"
      }
     },
     "833516076fdb4cc39b90e5b7de262557": {
      "model_module": "@jupyter-widgets/controls",
      "model_module_version": "2.0.0",
      "model_name": "DescriptionStyleModel",
      "state": {
       "description_width": ""
      }
     },
     "84b45ef298814e1084e25f992c3ed658": {
      "model_module": "@jupyter-widgets/controls",
      "model_module_version": "2.0.0",
      "model_name": "TextModel",
      "state": {
       "disabled": true,
       "layout": "IPY_MODEL_f2bf6283fdea468ab7b2b71fa0a9753c",
       "placeholder": "output filename",
       "style": "IPY_MODEL_21aaa29fa9d14e098da32749f62a34a4"
      }
     },
     "84eab0ab7f864bf8ab42b65bde4b3473": {
      "model_module": "@jupyter-widgets/base",
      "model_module_version": "2.0.0",
      "model_name": "LayoutModel",
      "state": {}
     },
     "853c560abbfe404ca1b723da3fce5566": {
      "model_module": "@jupyter-widgets/controls",
      "model_module_version": "2.0.0",
      "model_name": "ButtonStyleModel",
      "state": {
       "font_family": null,
       "font_size": null,
       "font_style": null,
       "font_variant": null,
       "font_weight": null,
       "text_color": null,
       "text_decoration": null
      }
     },
     "859309977a004769aa46aae9db4a8a58": {
      "model_module": "@jupyter-widgets/controls",
      "model_module_version": "2.0.0",
      "model_name": "BoundedFloatTextModel",
      "state": {
       "description": "DETECTOR_SNR (Micrographs SNR range):",
       "layout": "IPY_MODEL_f61d426e7dbf43f9b086350b6ebbfcd8",
       "step": 0.0001,
       "style": "IPY_MODEL_a85350606e3a48eeab5a02f6f7e64c52",
       "value": 1
      }
     },
     "85a7e76baa274aefaf616d90092a63e0": {
      "model_module": "@jupyter-widgets/controls",
      "model_module_version": "2.0.0",
      "model_name": "BoundedFloatTextModel",
      "state": {
       "description": "MALIGN_SG (Micrograph miss-alginment sigma, pixels):",
       "layout": "IPY_MODEL_3b5f17e27ac54cb89665f86ed537e0e0",
       "step": null,
       "style": "IPY_MODEL_e9d877a6af124cdd853bc253675ef29e",
       "value": 0.2
      }
     },
     "860d3e5cb2c541488a64a160dc95b68e": {
      "model_module": "@jupyter-widgets/controls",
      "model_module_version": "2.0.0",
      "model_name": "BoundedIntTextModel",
      "state": {
       "layout": "IPY_MODEL_b4fcaa64bc574c7395cf1c32f54bf6d8",
       "max": 100000,
       "min": -1000,
       "style": "IPY_MODEL_f29a445755654491904684f32786c147",
       "value": 61
      }
     },
     "8671b7709b3e48408f836ebdc5c5acfd": {
      "model_module": "@jupyter-widgets/controls",
      "model_module_version": "2.0.0",
      "model_name": "DescriptionStyleModel",
      "state": {
       "description_width": ""
      }
     },
     "87b7807480284f598b7dbb7cb33d3f45": {
      "model_module": "@jupyter-widgets/controls",
      "model_module_version": "2.0.0",
      "model_name": "LabelModel",
      "state": {
       "layout": "IPY_MODEL_ea575c27640449ec8dfa564610d1cca4",
       "style": "IPY_MODEL_cfc5dc7e4f684697a418fc502f132ac9",
       "value": "this is the Start and End in voxels for the effective volume"
      }
     },
     "8a529f8bc38647a58f335e1396d36a14": {
      "model_module": "@jupyter-widgets/controls",
      "model_module_version": "2.0.0",
      "model_name": "BoundedFloatTextModel",
      "state": {
       "layout": "IPY_MODEL_12b2f8ffa2ed458bbad4d9276694359c",
       "step": 0.0001,
       "style": "IPY_MODEL_e0d42b4e84284b69b865337d0613d4c6",
       "value": 2
      }
     },
     "8ab3f690d3834fc9bb31693cd439ead0": {
      "model_module": "@jupyter-widgets/base",
      "model_module_version": "2.0.0",
      "model_name": "LayoutModel",
      "state": {}
     },
     "8d22355168e04ce9979a64456b9fa00e": {
      "model_module": "@jupyter-widgets/controls",
      "model_module_version": "2.0.0",
      "model_name": "DescriptionStyleModel",
      "state": {
       "description_width": "initial"
      }
     },
     "8ebb44d1a1b248f3b053aa0bd1d7349d": {
      "model_module": "@jupyter-widgets/base",
      "model_module_version": "2.0.0",
      "model_name": "LayoutModel",
      "state": {
       "width": "400px"
      }
     },
     "90b2349aaa23496a98d8f50f26dd022b": {
      "model_module": "@jupyter-widgets/base",
      "model_module_version": "2.0.0",
      "model_name": "LayoutModel",
      "state": {
       "width": "390px"
      }
     },
     "90c8df4e2f0a46f7be2478d7682b7ffe": {
      "model_module": "@jupyter-widgets/base",
      "model_module_version": "2.0.0",
      "model_name": "LayoutModel",
      "state": {
       "width": "400px"
      }
     },
     "9212699afdca423bbb7383a16f8a18f9": {
      "model_module": "@jupyter-widgets/controls",
      "model_module_version": "2.0.0",
      "model_name": "BoundedIntTextModel",
      "state": {
       "layout": "IPY_MODEL_573dd8d5247b404f935344e073235d6f",
       "max": 100000,
       "min": 1,
       "style": "IPY_MODEL_406aae318dee467eaf30cfc76648e3a9",
       "value": 4
      }
     },
     "9494f25a31d84773b8e670b74a12024f": {
      "model_module": "@jupyter-widgets/base",
      "model_module_version": "2.0.0",
      "model_name": "LayoutModel",
      "state": {}
     },
     "95562ef7d8a04fbfbf7e4d54e0c3ccb9": {
      "model_module": "@jupyter-widgets/base",
      "model_module_version": "2.0.0",
      "model_name": "LayoutModel",
      "state": {
       "width": "60px"
      }
     },
     "9673a24217414735ba38f51abec79195": {
      "model_module": "@jupyter-widgets/base",
      "model_module_version": "2.0.0",
      "model_name": "LayoutModel",
      "state": {
       "width": "70px"
      }
     },
     "9740adfc4b8747a9962023141fb0d8d4": {
      "model_module": "@jupyter-widgets/controls",
      "model_module_version": "2.0.0",
      "model_name": "ButtonStyleModel",
      "state": {
       "font_family": null,
       "font_size": null,
       "font_style": null,
       "font_variant": null,
       "font_weight": null,
       "text_color": null,
       "text_decoration": null
      }
     },
     "987cfd613ba0450cac859a1185112b01": {
      "model_module": "@jupyter-widgets/controls",
      "model_module_version": "2.0.0",
      "model_name": "HBoxModel",
      "state": {
       "children": [
        "IPY_MODEL_22a2cc5e5a2340d481ad62d813af7b8d",
        "IPY_MODEL_d79abcc156ac44ae85877848c60f8aaf"
       ],
       "layout": "IPY_MODEL_e4823a3bc4a24571b29de4a2f5ec9fef"
      }
     },
     "99299e88354a469498b0f2fa91a8e3cd": {
      "model_module": "@jupyter-widgets/base",
      "model_module_version": "2.0.0",
      "model_name": "LayoutModel",
      "state": {}
     },
     "9ac5ebb74eee4b669ec72bc2c643eccd": {
      "model_module": "@jupyter-widgets/controls",
      "model_module_version": "2.0.0",
      "model_name": "BoundedFloatTextModel",
      "state": {
       "layout": "IPY_MODEL_71ca1f9a2425490d8c7f1e68f0214be8",
       "step": 0.0001,
       "style": "IPY_MODEL_5ba03e65bfd6457f8a86f633d93f85f0",
       "value": 2
      }
     },
     "9af69fc697374abb8bb84e4188ed42ed": {
      "model_module": "@jupyter-widgets/base",
      "model_module_version": "2.0.0",
      "model_name": "LayoutModel",
      "state": {}
     },
     "9b5f3bcd2db24eea8d284edcd552fc29": {
      "model_module": "@jupyter-widgets/base",
      "model_module_version": "2.0.0",
      "model_name": "LayoutModel",
      "state": {
       "width": "auto"
      }
     },
     "9b7a01290b7f41ceb8b0dca0b7eb8180": {
      "model_module": "@jupyter-widgets/controls",
      "model_module_version": "2.0.0",
      "model_name": "HBoxModel",
      "state": {
       "children": [
        "IPY_MODEL_ba6faa207d42462db2cc37e9eb0e667c",
        "IPY_MODEL_c5adc294ed0b4f84ad214d7632e85719",
        "IPY_MODEL_de472a3123cd4624acedacf0167166c6"
       ],
       "layout": "IPY_MODEL_4e0fd287275348c4bf37022d15b021bf"
      }
     },
     "9bd44dc088294a889524c3bb2bc66562": {
      "model_module": "@jupyter-widgets/controls",
      "model_module_version": "2.0.0",
      "model_name": "BoundedIntTextModel",
      "state": {
       "layout": "IPY_MODEL_9673a24217414735ba38f51abec79195",
       "max": 100000,
       "min": 1,
       "style": "IPY_MODEL_732876fbf9c54a609e1d1cf0347561f6",
       "value": 96
      }
     },
     "9c2331d8a2e04bdfb5b7da039fd8716d": {
      "model_module": "@jupyter-widgets/controls",
      "model_module_version": "2.0.0",
      "model_name": "BoundedIntTextModel",
      "state": {
       "description": "VOI_OFF (Empty halo, voxels):",
       "layout": "IPY_MODEL_2bb61ef766f64a8eb1781cbf03f7671f",
       "style": "IPY_MODEL_415f61c87a8f421280aeecd55afd488f",
       "value": 4
      }
     },
     "9e15b6bc4f3c4206b378fceee306f955": {
      "model_module": "@jupyter-widgets/controls",
      "model_module_version": "2.0.0",
      "model_name": "ButtonModel",
      "state": {
       "description": "↑ Up selected file",
       "layout": "IPY_MODEL_2e393ecf00a747c39e3e593023ea6c4e",
       "style": "IPY_MODEL_0b61613909df401691b52964441526e8",
       "tooltip": null
      }
     },
     "9f9a01319b234ef0b707b6146d543961": {
      "model_module": "@jupyter-widgets/controls",
      "model_module_version": "2.0.0",
      "model_name": "SelectModel",
      "state": {
       "_options_labels": [
        "📁 ..",
        "📁 core"
       ],
       "index": null,
       "layout": "IPY_MODEL_f46cc9eef3f041fe89d8a6d2a4148095",
       "rows": 8,
       "style": "IPY_MODEL_39cb654d39ee450284d9a6e4a978a218"
      }
     },
     "a1d74e5962b04058afaa40bb3cb419f4": {
      "model_module": "@jupyter-widgets/controls",
      "model_module_version": "2.0.0",
      "model_name": "LabelModel",
      "state": {
       "layout": "IPY_MODEL_aa47441746414f7aae35b0234a1ed3c9",
       "style": "IPY_MODEL_1ecfe25b5106431382d8a478a3857bc1",
       "value": "Types of structures:"
      }
     },
     "a207cb53d45f4737b4d45a3c336e2a51": {
      "model_module": "@jupyter-widgets/controls",
      "model_module_version": "2.0.0",
      "model_name": "DescriptionStyleModel",
      "state": {
       "description_width": "initial"
      }
     },
     "a3654b2acc6844e9af8254060dea7a14": {
      "model_module": "@jupyter-widgets/controls",
      "model_module_version": "2.0.0",
      "model_name": "HBoxModel",
      "state": {
       "children": [
        "IPY_MODEL_ca168d5f33da486e9cd90606036a70e9",
        "IPY_MODEL_860d3e5cb2c541488a64a160dc95b68e",
        "IPY_MODEL_225eb4773cb345028ae5a2805e774770"
       ],
       "layout": "IPY_MODEL_81a6918c667e4e09a7f0434cb6281ea1"
      }
     },
     "a4c546d4e7de42128da842fe102eaaf5": {
      "model_module": "@jupyter-widgets/controls",
      "model_module_version": "2.0.0",
      "model_name": "HTMLModel",
      "state": {
       "layout": "IPY_MODEL_1467c4e4b19e4586af0cb3a1917ed1c2",
       "placeholder": "",
       "style": "IPY_MODEL_6692d120e6414776b7dc399d86e5f746",
       "value": "<span style=\"color:black;\">No selection</span>"
      }
     },
     "a52c099adbc647bda199b4ee39256d01": {
      "model_module": "@jupyter-widgets/controls",
      "model_module_version": "2.0.0",
      "model_name": "DescriptionStyleModel",
      "state": {
       "description_width": ""
      }
     },
     "a6f75da842824d3cae8f8ef27caa3a88": {
      "model_module": "@jupyter-widgets/controls",
      "model_module_version": "2.0.0",
      "model_name": "BoundedFloatTextModel",
      "state": {
       "description": "MALIGN_MX (Micrograph miss-alginment max, pixels):",
       "layout": "IPY_MODEL_5711fe69b9d9466bb0ff0b78e8ccc030",
       "step": null,
       "style": "IPY_MODEL_cd3afd2fa3cb4e768a00e1f39b52ddaf",
       "value": 1.5
      }
     },
     "a84d5fcd4df14fc2a66659075928607b": {
      "model_module": "@jupyter-widgets/controls",
      "model_module_version": "2.0.0",
      "model_name": "HTMLModel",
      "state": {
       "layout": "IPY_MODEL_d783208f4117491f881a4851068255da",
       "style": "IPY_MODEL_418d74f8b1ae48f0bec32006a2787e59",
       "value": "Select where you want to save the output files:"
      }
     },
     "a85350606e3a48eeab5a02f6f7e64c52": {
      "model_module": "@jupyter-widgets/controls",
      "model_module_version": "2.0.0",
      "model_name": "DescriptionStyleModel",
      "state": {
       "description_width": "initial"
      }
     },
     "a9e75f8d5bc84770b319969ae61e40ec": {
      "model_module": "@jupyter-widgets/controls",
      "model_module_version": "2.0.0",
      "model_name": "BoundedFloatTextModel",
      "state": {
       "description": "MALIGN_MX (Micrograph miss-alginment max, pixels):",
       "layout": "IPY_MODEL_8ebb44d1a1b248f3b053aa0bd1d7349d",
       "step": null,
       "style": "IPY_MODEL_6206f0fad25949e7909f684547fb7ae3",
       "value": 1.5
      }
     },
     "aa47441746414f7aae35b0234a1ed3c9": {
      "model_module": "@jupyter-widgets/base",
      "model_module_version": "2.0.0",
      "model_name": "LayoutModel",
      "state": {}
     },
     "ab69ae568b804b3d94a3ae6c85dbf31f": {
      "model_module": "@jupyter-widgets/controls",
      "model_module_version": "2.0.0",
      "model_name": "DescriptionStyleModel",
      "state": {
       "description_width": ""
      }
     },
     "ab81f8141d984203b036ea7a740d07d7": {
      "model_module": "@jupyter-widgets/base",
      "model_module_version": "2.0.0",
      "model_name": "LayoutModel",
      "state": {}
     },
     "ac7731f78b264ae2bf503764fd05b760": {
      "model_module": "@jupyter-widgets/controls",
      "model_module_version": "2.0.0",
      "model_name": "BoundedIntTextModel",
      "state": {
       "layout": "IPY_MODEL_cceeb327c34d4a6f81d35fab46bd3ca6",
       "max": 100000,
       "min": 1,
       "style": "IPY_MODEL_25b02220cb8b4e749d9bd4f7d31340dc",
       "value": 396
      }
     },
     "acb0fefa292c45aca0740aacc7b48259": {
      "model_module": "@jupyter-widgets/base",
      "model_module_version": "2.0.0",
      "model_name": "LayoutModel",
      "state": {}
     },
     "ada9933b8f104c408466dbcd526c21d3": {
      "model_module": "@jupyter-widgets/controls",
      "model_module_version": "2.0.0",
      "model_name": "DescriptionStyleModel",
      "state": {
       "description_width": "initial"
      }
     },
     "af60503603e94a299aba3d0f53eeaab1": {
      "model_module": "@jupyter-widgets/controls",
      "model_module_version": "2.0.0",
      "model_name": "HBoxModel",
      "state": {
       "children": [
        "IPY_MODEL_f24bace08fc34787b39ac95c0425def6",
        "IPY_MODEL_f2adc364a6d845c7bf69a709f5ca2fee",
        "IPY_MODEL_3a14a6aa7d3a44b98faad941b4cddb2b"
       ],
       "layout": "IPY_MODEL_cca5d397f61e48a19f893605a464ff88"
      }
     },
     "b0d182383c19460bac2f52ac0c112cb9": {
      "model_module": "@jupyter-widgets/controls",
      "model_module_version": "2.0.0",
      "model_name": "BoundedIntTextModel",
      "state": {
       "description": "VOI_OFF (Empty halo, voxels):",
       "layout": "IPY_MODEL_186fdd0c7cea40f0bec0a54ce363cee4",
       "style": "IPY_MODEL_6ebf2fa2cf3e4f76a60e8353f2164e73",
       "value": 4
      }
     },
     "b271267d05834a9698990dad0e475164": {
      "model_module": "@jupyter-widgets/base",
      "model_module_version": "2.0.0",
      "model_name": "LayoutModel",
      "state": {
       "width": "60px"
      }
     },
     "b4fcaa64bc574c7395cf1c32f54bf6d8": {
      "model_module": "@jupyter-widgets/base",
      "model_module_version": "2.0.0",
      "model_name": "LayoutModel",
      "state": {
       "width": "60px"
      }
     },
     "b66d57de2d2a4139bcd9e2c272c21e33": {
      "model_module": "@jupyter-widgets/controls",
      "model_module_version": "2.0.0",
      "model_name": "ButtonModel",
      "state": {
       "description": "↑ Up selected file",
       "layout": "IPY_MODEL_84eab0ab7f864bf8ab42b65bde4b3473",
       "style": "IPY_MODEL_ebc4116a91714019b120e6f5c42278c5",
       "tooltip": null
      }
     },
     "b881c722d791440bacf91e5e34512d2e": {
      "model_module": "@jupyter-widgets/controls",
      "model_module_version": "2.0.0",
      "model_name": "VBoxModel",
      "state": {
       "children": [
        "IPY_MODEL_af60503603e94a299aba3d0f53eeaab1",
        "IPY_MODEL_716ef5c609624693866f697a6966cb9e",
        "IPY_MODEL_28dc4a736f8445acb633b5a273e62920",
        "IPY_MODEL_4b399d5d14734bc88b374f9b0d91b8a6"
       ],
       "layout": "IPY_MODEL_2d4dc4ae0f5d473ea6daeb8924967927"
      }
     },
     "b8a5be6e274241bcbb42c25088a0e05a": {
      "model_module": "@jupyter-widgets/controls",
      "model_module_version": "2.0.0",
      "model_name": "DescriptionStyleModel",
      "state": {
       "description_width": ""
      }
     },
     "ba03cb339efe4fa889750178f4314b0d": {
      "model_module": "@jupyter-widgets/controls",
      "model_module_version": "2.0.0",
      "model_name": "DropdownModel",
      "state": {
       "_options_labels": [
        "Select paths..."
       ],
       "index": 0,
       "layout": "IPY_MODEL_5aba34dc7be64852b0feca29c242f804",
       "style": "IPY_MODEL_6085a98d5ec945728535d6fb42ca7fa5"
      }
     },
     "ba6faa207d42462db2cc37e9eb0e667c": {
      "model_module": "@jupyter-widgets/controls",
      "model_module_version": "2.0.0",
      "model_name": "BoundedIntTextModel",
      "state": {
       "description": "TILT_ANGS (Degrees; start, end, step):",
       "layout": "IPY_MODEL_50f59ecf210848a7a9f8801c8096e6da",
       "max": 100000,
       "min": -1000,
       "style": "IPY_MODEL_da1c974f06694408ba54a16591b2934c",
       "value": -60
      }
     },
     "ba74670618f049efb5593922f149eb99": {
      "model_module": "@jupyter-widgets/base",
      "model_module_version": "2.0.0",
      "model_name": "LayoutModel",
      "state": {
       "width": "310px"
      }
     },
     "bd50a92a81fa4b759b00c9910998eea9": {
      "model_module": "@jupyter-widgets/base",
      "model_module_version": "2.0.0",
      "model_name": "LayoutModel",
      "state": {
       "overflow": "auto"
      }
     },
     "c019d27c548a48ec97a75e7ea120c4ad": {
      "model_module": "@jupyter-widgets/base",
      "model_module_version": "2.0.0",
      "model_name": "LayoutModel",
      "state": {
       "width": "550px"
      }
     },
     "c034080da7954a20ab9e3af2109cb941": {
      "model_module": "@jupyter-widgets/controls",
      "model_module_version": "2.0.0",
      "model_name": "ButtonStyleModel",
      "state": {
       "font_family": null,
       "font_size": null,
       "font_style": null,
       "font_variant": null,
       "font_weight": null,
       "text_color": null,
       "text_decoration": null
      }
     },
     "c05e8a9af06f45688cad3886fb88f686": {
      "model_module": "@jupyter-widgets/output",
      "model_module_version": "1.0.0",
      "model_name": "OutputModel",
      "state": {
       "layout": "IPY_MODEL_01caa545512443f18b046c714807a586"
      }
     },
     "c106851cfa8a486f92b64fee6f1737d7": {
      "model_module": "@jupyter-widgets/controls",
      "model_module_version": "2.0.0",
      "model_name": "DescriptionStyleModel",
      "state": {
       "description_width": ""
      }
     },
     "c108a35c67564c10a7f2139f75a8797a": {
      "model_module": "@jupyter-widgets/base",
      "model_module_version": "2.0.0",
      "model_name": "LayoutModel",
      "state": {
       "width": "200px"
      }
     },
     "c10d930233214d7c98896c20a801cbd6": {
      "model_module": "@jupyter-widgets/base",
      "model_module_version": "2.0.0",
      "model_name": "LayoutModel",
      "state": {
       "width": "70px"
      }
     },
     "c240ec8240434fd79d24c673084a7bd0": {
      "model_module": "@jupyter-widgets/base",
      "model_module_version": "2.0.0",
      "model_name": "LayoutModel",
      "state": {
       "width": "80px"
      }
     },
     "c49717423fcb4bbb9498a4adc393b8ec": {
      "model_module": "@jupyter-widgets/controls",
      "model_module_version": "2.0.0",
      "model_name": "ButtonStyleModel",
      "state": {
       "font_family": null,
       "font_size": null,
       "font_style": null,
       "font_variant": null,
       "font_weight": null,
       "text_color": null,
       "text_decoration": null
      }
     },
     "c5adc294ed0b4f84ad214d7632e85719": {
      "model_module": "@jupyter-widgets/controls",
      "model_module_version": "2.0.0",
      "model_name": "BoundedIntTextModel",
      "state": {
       "layout": "IPY_MODEL_b271267d05834a9698990dad0e475164",
       "max": 100000,
       "min": -1000,
       "style": "IPY_MODEL_d5164e933b674c54955464c92315fa3b",
       "value": 61
      }
     },
     "c5c43d22e9a34959a86ac8db4b81b93a": {
      "model_module": "@jupyter-widgets/controls",
      "model_module_version": "2.0.0",
      "model_name": "TextModel",
      "state": {
       "disabled": true,
       "layout": "IPY_MODEL_81721e0353614f2192de4a3d16cc89a7",
       "placeholder": "output filename",
       "style": "IPY_MODEL_25dbbe67e7954ae29fdbfcb174a4d5de"
      }
     },
     "c79b72d799f14cbb8cdaae3167c0f05c": {
      "model_module": "@jupyter-widgets/controls",
      "model_module_version": "2.0.0",
      "model_name": "BoundedIntTextModel",
      "state": {
       "layout": "IPY_MODEL_c240ec8240434fd79d24c673084a7bd0",
       "max": 100000,
       "style": "IPY_MODEL_e7014c3f3c3e438db8660420839e7bc3",
       "value": 400
      }
     },
     "c8ca0f5a2ed24221aff32a1507c1a229": {
      "model_module": "@jupyter-widgets/controls",
      "model_module_version": "2.0.0",
      "model_name": "BoundedFloatTextModel",
      "state": {
       "description": "PMER_TRIES (Maximun number of tries for polymers):",
       "layout": "IPY_MODEL_90b2349aaa23496a98d8f50f26dd022b",
       "max": 1000,
       "step": null,
       "style": "IPY_MODEL_79ea54ff5f2e4e418c8769a4c32e7cf9",
       "value": 100
      }
     },
     "c9fb17a42e7346ffaf09a74041b7595c": {
      "model_module": "@jupyter-widgets/base",
      "model_module_version": "2.0.0",
      "model_name": "LayoutModel",
      "state": {
       "width": "380px"
      }
     },
     "ca01ee48faf14c34bb340df5445b4d5e": {
      "model_module": "@jupyter-widgets/base",
      "model_module_version": "2.0.0",
      "model_name": "LayoutModel",
      "state": {
       "width": "550px"
      }
     },
     "ca168d5f33da486e9cd90606036a70e9": {
      "model_module": "@jupyter-widgets/controls",
      "model_module_version": "2.0.0",
      "model_name": "BoundedIntTextModel",
      "state": {
       "description": "TILT_ANGS (Degrees; start, end, step):",
       "layout": "IPY_MODEL_7286151441a146a99f9c9f1ff98cf52b",
       "max": 100000,
       "min": -1000,
       "style": "IPY_MODEL_04b98eca3bd24f3a82c7b0b056f68520",
       "value": -60
      }
     },
     "cca5d397f61e48a19f893605a464ff88": {
      "model_module": "@jupyter-widgets/base",
      "model_module_version": "2.0.0",
      "model_name": "LayoutModel",
      "state": {}
     },
     "cce32a0f74234d2ebc02ef04f5bd2bdc": {
      "model_module": "@jupyter-widgets/base",
      "model_module_version": "2.0.0",
      "model_name": "LayoutModel",
      "state": {
       "width": "350px"
      }
     },
     "cceeb327c34d4a6f81d35fab46bd3ca6": {
      "model_module": "@jupyter-widgets/base",
      "model_module_version": "2.0.0",
      "model_name": "LayoutModel",
      "state": {
       "width": "70px"
      }
     },
     "cd3afd2fa3cb4e768a00e1f39b52ddaf": {
      "model_module": "@jupyter-widgets/controls",
      "model_module_version": "2.0.0",
      "model_name": "DescriptionStyleModel",
      "state": {
       "description_width": "initial"
      }
     },
     "cd4edc6e7bec4ef6acdd97867cda4635": {
      "model_module": "@jupyter-widgets/controls",
      "model_module_version": "2.0.0",
      "model_name": "DescriptionStyleModel",
      "state": {
       "description_width": ""
      }
     },
     "ce9dabf0c4d44785be5507d8fd3d5ac2": {
      "model_module": "@jupyter-widgets/base",
      "model_module_version": "2.0.0",
      "model_name": "LayoutModel",
      "state": {}
     },
     "cfc5dc7e4f684697a418fc502f132ac9": {
      "model_module": "@jupyter-widgets/controls",
      "model_module_version": "2.0.0",
      "model_name": "LabelStyleModel",
      "state": {
       "description_width": "",
       "font_family": null,
       "font_size": null,
       "font_style": null,
       "font_variant": null,
       "font_weight": null,
       "text_color": null,
       "text_decoration": null
      }
     },
     "cfe9c2d7aba04e4b852628ae10b637d7": {
      "model_module": "@jupyter-widgets/base",
      "model_module_version": "2.0.0",
      "model_name": "LayoutModel",
      "state": {
       "width": "80px"
      }
     },
     "d250a47d51b94df4be3b1e503a772bf7": {
      "model_module": "@jupyter-widgets/base",
      "model_module_version": "2.0.0",
      "model_name": "LayoutModel",
      "state": {
       "width": "550px"
      }
     },
     "d2decf03dd5d4f48833b954444b105fa": {
      "model_module": "@jupyter-widgets/base",
      "model_module_version": "2.0.0",
      "model_name": "LayoutModel",
      "state": {
       "width": "80px"
      }
     },
     "d402e5aefd424c97a15903caad24e8e3": {
      "model_module": "@jupyter-widgets/controls",
      "model_module_version": "2.0.0",
      "model_name": "ButtonStyleModel",
      "state": {
       "font_family": null,
       "font_size": null,
       "font_style": null,
       "font_variant": null,
       "font_weight": null,
       "text_color": null,
       "text_decoration": null
      }
     },
     "d5164e933b674c54955464c92315fa3b": {
      "model_module": "@jupyter-widgets/controls",
      "model_module_version": "2.0.0",
      "model_name": "DescriptionStyleModel",
      "state": {
       "description_width": ""
      }
     },
     "d5570b90275d4beaa71ac36b8ee71492": {
      "model_module": "@jupyter-widgets/controls",
      "model_module_version": "2.0.0",
      "model_name": "ButtonStyleModel",
      "state": {
       "font_family": null,
       "font_size": null,
       "font_style": null,
       "font_variant": null,
       "font_weight": null,
       "text_color": null,
       "text_decoration": null
      }
     },
     "d5b963d7a6f14b1592629a803e43df17": {
      "model_module": "@jupyter-widgets/controls",
      "model_module_version": "2.0.0",
      "model_name": "HBoxModel",
      "state": {
       "children": [
        "IPY_MODEL_3d54159565b34e11b7f3f6abc9101848",
        "IPY_MODEL_d909a463dbce44918bb8405cb9eabbe1",
        "IPY_MODEL_32d734f97d0f46dd98e44560b822b8f0"
       ],
       "layout": "IPY_MODEL_9b5f3bcd2db24eea8d284edcd552fc29"
      }
     },
     "d783208f4117491f881a4851068255da": {
      "model_module": "@jupyter-widgets/base",
      "model_module_version": "2.0.0",
      "model_name": "LayoutModel",
      "state": {}
     },
     "d79abcc156ac44ae85877848c60f8aaf": {
      "model_module": "@jupyter-widgets/controls",
      "model_module_version": "2.0.0",
      "model_name": "DropdownModel",
      "state": {
       "_options_labels": [
        "Select paths..."
       ],
       "index": 0,
       "layout": "IPY_MODEL_d250a47d51b94df4be3b1e503a772bf7",
       "style": "IPY_MODEL_b8a5be6e274241bcbb42c25088a0e05a"
      }
     },
     "d7ce251167e3448684dc66837f7afecb": {
      "model_module": "@jupyter-widgets/controls",
      "model_module_version": "2.0.0",
      "model_name": "DescriptionStyleModel",
      "state": {
       "description_width": ""
      }
     },
     "d80ced9f5abc47b9bba940cb3edf286d": {
      "model_module": "@jupyter-widgets/controls",
      "model_module_version": "2.0.0",
      "model_name": "BoundedFloatTextModel",
      "state": {
       "description": "SURF_DEC (Decimation for surface respresentation, [0, 1]):",
       "layout": "IPY_MODEL_f58aeed165d146e498baf0ff55acfae6",
       "step": null,
       "style": "IPY_MODEL_56965f08764c4b50848fea48b56a3d16",
       "value": 0.9
      }
     },
     "d811471bbbb248d08188f4d50b3ecb6a": {
      "model_module": "@jupyter-widgets/controls",
      "model_module_version": "2.0.0",
      "model_name": "DescriptionStyleModel",
      "state": {
       "description_width": ""
      }
     },
     "d8cde0233f714195b7f8396c5c8a9630": {
      "model_module": "@jupyter-widgets/base",
      "model_module_version": "2.0.0",
      "model_name": "LayoutModel",
      "state": {
       "width": "200px"
      }
     },
     "d909a463dbce44918bb8405cb9eabbe1": {
      "model_module": "@jupyter-widgets/controls",
      "model_module_version": "2.0.0",
      "model_name": "ButtonModel",
      "state": {
       "description": "Cancel",
       "layout": "IPY_MODEL_420505cb7e534f658be6a87b52a65537",
       "style": "IPY_MODEL_c49717423fcb4bbb9498a4adc393b8ec",
       "tooltip": null
      }
     },
     "d92865c501a145c2bdc82bef5bcf2cf8": {
      "model_module": "@jupyter-widgets/base",
      "model_module_version": "2.0.0",
      "model_name": "LayoutModel",
      "state": {}
     },
     "d95acea664874ecdb2ba3b5a2e76e4fd": {
      "model_module": "@jupyter-widgets/base",
      "model_module_version": "2.0.0",
      "model_name": "LayoutModel",
      "state": {
       "width": "400px"
      }
     },
     "da1c974f06694408ba54a16591b2934c": {
      "model_module": "@jupyter-widgets/controls",
      "model_module_version": "2.0.0",
      "model_name": "DescriptionStyleModel",
      "state": {
       "description_width": "initial"
      }
     },
     "db4d34da4ca0411fbe3134ff352d4e01": {
      "model_module": "@jupyter-widgets/controls",
      "model_module_version": "2.0.0",
      "model_name": "ButtonModel",
      "state": {
       "description": "↓ Down selected file",
       "layout": "IPY_MODEL_52149eb1953242b6b2f7cd383f1c3f11",
       "style": "IPY_MODEL_788d7ebc7e9149389a1c3b70374dce94",
       "tooltip": null
      }
     },
     "db89a7f5c28c4728b3208337e985642d": {
      "model_module": "@jupyter-widgets/controls",
      "model_module_version": "2.0.0",
      "model_name": "DescriptionStyleModel",
      "state": {
       "description_width": "initial"
      }
     },
     "dc75640717b24b7da2c2baeb1fb462c3": {
      "model_module": "@jupyter-widgets/controls",
      "model_module_version": "2.0.0",
      "model_name": "BoundedIntTextModel",
      "state": {
       "description": "VOI_SHAPE (Tomogram shape, voxels):",
       "layout": "IPY_MODEL_ba74670618f049efb5593922f149eb99",
       "max": 100000,
       "style": "IPY_MODEL_4b50c55239de4c628b143d1648dab16f",
       "value": 40
      }
     },
     "de472a3123cd4624acedacf0167166c6": {
      "model_module": "@jupyter-widgets/controls",
      "model_module_version": "2.0.0",
      "model_name": "BoundedIntTextModel",
      "state": {
       "layout": "IPY_MODEL_95562ef7d8a04fbfbf7e4d54e0c3ccb9",
       "max": 100000,
       "min": -1000,
       "style": "IPY_MODEL_47f1300f399a48a38fae44dfa7f9d2a2",
       "value": 3
      }
     },
     "de8d2d1bfaf84cfcbd91e5a2b9643b9e": {
      "model_module": "@jupyter-widgets/base",
      "model_module_version": "2.0.0",
      "model_name": "LayoutModel",
      "state": {
       "width": "80px"
      }
     },
     "df9168f329034bb28e8ac85c9fd6f851": {
      "model_module": "@jupyter-widgets/base",
      "model_module_version": "2.0.0",
      "model_name": "LayoutModel",
      "state": {}
     },
     "e00ca6d060ed44baa4772d404c6143a1": {
      "model_module": "@jupyter-widgets/base",
      "model_module_version": "2.0.0",
      "model_name": "LayoutModel",
      "state": {
       "grid_area": "pathlist",
       "width": "auto"
      }
     },
     "e0d42b4e84284b69b865337d0613d4c6": {
      "model_module": "@jupyter-widgets/controls",
      "model_module_version": "2.0.0",
      "model_name": "DescriptionStyleModel",
      "state": {
       "description_width": "initial"
      }
     },
     "e13450e97e4947c9bb0d434a218de197": {
      "model_module": "@jupyter-widgets/controls",
      "model_module_version": "2.0.0",
      "model_name": "BoundedIntTextModel",
      "state": {
       "layout": "IPY_MODEL_cfe9c2d7aba04e4b852628ae10b637d7",
       "max": 100000,
       "style": "IPY_MODEL_cd4edc6e7bec4ef6acdd97867cda4635",
       "value": 400
      }
     },
     "e298ccd9d9694fea8be7bd2739f54b47": {
      "model_module": "@jupyter-widgets/base",
      "model_module_version": "2.0.0",
      "model_name": "LayoutModel",
      "state": {
       "width": "200px"
      }
     },
     "e342300d6a2049b7ada9f3b1a2ab8df1": {
      "model_module": "@jupyter-widgets/controls",
      "model_module_version": "2.0.0",
      "model_name": "VBoxModel",
      "state": {
       "children": [
        "IPY_MODEL_a1d74e5962b04058afaa40bb3cb419f4",
        "IPY_MODEL_3c5586f24cc84c4892010504d5e51476",
        "IPY_MODEL_0e797bec2f774ce5844d3125fe999e0c",
        "IPY_MODEL_987cfd613ba0450cac859a1185112b01",
        "IPY_MODEL_eba666e9724d40f691ac9ad1f1c058dd"
       ],
       "layout": "IPY_MODEL_73008594e63c4cbd89d2b12c1b054626"
      }
     },
     "e35fa86f579649a591c791733b544cd3": {
      "model_module": "@jupyter-widgets/base",
      "model_module_version": "2.0.0",
      "model_name": "LayoutModel",
      "state": {
       "display": "none",
       "grid_gap": "0px 0px",
       "grid_template_areas": "\n                    'pathlist pathlist'\n                    'dircontent dircontent'\n                    ",
       "grid_template_columns": "60% 40%",
       "grid_template_rows": "auto auto",
       "width": "auto"
      }
     },
     "e3c43919819b4e148e74a3e8c5236075": {
      "model_module": "@jupyter-widgets/controls",
      "model_module_version": "2.0.0",
      "model_name": "ButtonStyleModel",
      "state": {
       "font_family": null,
       "font_size": null,
       "font_style": null,
       "font_variant": null,
       "font_weight": null,
       "text_color": null,
       "text_decoration": null
      }
     },
     "e4823a3bc4a24571b29de4a2f5ec9fef": {
      "model_module": "@jupyter-widgets/base",
      "model_module_version": "2.0.0",
      "model_name": "LayoutModel",
      "state": {}
     },
     "e7014c3f3c3e438db8660420839e7bc3": {
      "model_module": "@jupyter-widgets/controls",
      "model_module_version": "2.0.0",
      "model_name": "DescriptionStyleModel",
      "state": {
       "description_width": ""
      }
     },
     "e799d2c7f76745ae98f034032eb671f4": {
      "model_module": "@jupyter-widgets/controls",
      "model_module_version": "2.0.0",
      "model_name": "BoundedFloatTextModel",
      "state": {
       "description": "PMER_TRIES (Maximun number of tries for polymers):",
       "layout": "IPY_MODEL_3e12e38838754149b6cabb74ca9d1292",
       "max": 1000,
       "step": null,
       "style": "IPY_MODEL_6efda729951b4c1781172b0350fdcef8",
       "value": 100
      }
     },
     "e9d877a6af124cdd853bc253675ef29e": {
      "model_module": "@jupyter-widgets/controls",
      "model_module_version": "2.0.0",
      "model_name": "DescriptionStyleModel",
      "state": {
       "description_width": "initial"
      }
     },
     "ea575c27640449ec8dfa564610d1cca4": {
      "model_module": "@jupyter-widgets/base",
      "model_module_version": "2.0.0",
      "model_name": "LayoutModel",
      "state": {}
     },
     "ea7eeb6423d74d3d9598593a9f739546": {
      "model_module": "@jupyter-widgets/controls",
      "model_module_version": "2.0.0",
      "model_name": "DescriptionStyleModel",
      "state": {
       "description_width": ""
      }
     },
     "eba666e9724d40f691ac9ad1f1c058dd": {
      "model_module": "@jupyter-widgets/controls",
      "model_module_version": "2.0.0",
      "model_name": "HBoxModel",
      "state": {
       "children": [
        "IPY_MODEL_7bf099f6575b49a1ae99160dc531f28e",
        "IPY_MODEL_f8d561304e234f49af8c57f87a634185"
       ],
       "layout": "IPY_MODEL_191e99a911924eed922ad846ecf58c81"
      }
     },
     "ebc4116a91714019b120e6f5c42278c5": {
      "model_module": "@jupyter-widgets/controls",
      "model_module_version": "2.0.0",
      "model_name": "ButtonStyleModel",
      "state": {
       "font_family": null,
       "font_size": null,
       "font_style": null,
       "font_variant": null,
       "font_weight": null,
       "text_color": null,
       "text_decoration": null
      }
     },
     "ef881e9faf31482db6d97d1628f94597": {
      "model_module": "@jupyter-widgets/controls",
      "model_module_version": "2.0.0",
      "model_name": "BoundedIntTextModel",
      "state": {
       "layout": "IPY_MODEL_4398e01ff5534598856efca52f4cf278",
       "max": 100000,
       "min": 1,
       "style": "IPY_MODEL_ab69ae568b804b3d94a3ae6c85dbf31f",
       "value": 396
      }
     },
     "f00090c9867b4540acb865d8753d44df": {
      "model_module": "@jupyter-widgets/controls",
      "model_module_version": "2.0.0",
      "model_name": "HTMLModel",
      "state": {
       "layout": "IPY_MODEL_2c6244c1c0084f599c7227b748486240",
       "style": "IPY_MODEL_38fc5359f9724007a5e58ca37c734f03",
       "value": "Select where you want to save the output files:"
      }
     },
     "f1ba1852480c48408b0e068c4df326a7": {
      "model_module": "@jupyter-widgets/controls",
      "model_module_version": "2.0.0",
      "model_name": "ButtonStyleModel",
      "state": {
       "font_family": null,
       "font_size": null,
       "font_style": null,
       "font_variant": null,
       "font_weight": null,
       "text_color": null,
       "text_decoration": null
      }
     },
     "f24bace08fc34787b39ac95c0425def6": {
      "model_module": "@jupyter-widgets/controls",
      "model_module_version": "2.0.0",
      "model_name": "ButtonModel",
      "state": {
       "description": "↑ Up selected file",
       "layout": "IPY_MODEL_3d20dd5f0cda477ea168797959b3f418",
       "style": "IPY_MODEL_688b4c0e4d114383bf6fc3454ff798fe",
       "tooltip": null
      }
     },
     "f29a445755654491904684f32786c147": {
      "model_module": "@jupyter-widgets/controls",
      "model_module_version": "2.0.0",
      "model_name": "DescriptionStyleModel",
      "state": {
       "description_width": ""
      }
     },
     "f2adc364a6d845c7bf69a709f5ca2fee": {
      "model_module": "@jupyter-widgets/controls",
      "model_module_version": "2.0.0",
      "model_name": "ButtonModel",
      "state": {
       "description": "↓ Down selected file",
       "layout": "IPY_MODEL_2f9402b0d9ab4838a964770a51c1de4b",
       "style": "IPY_MODEL_64c3fe8721ed4f30af0b5a30c5d03178",
       "tooltip": null
      }
     },
     "f2bf6283fdea468ab7b2b71fa0a9753c": {
      "model_module": "@jupyter-widgets/base",
      "model_module_version": "2.0.0",
      "model_name": "LayoutModel",
      "state": {
       "display": "none",
       "grid_area": "filename",
       "width": "auto"
      }
     },
     "f46cc9eef3f041fe89d8a6d2a4148095": {
      "model_module": "@jupyter-widgets/base",
      "model_module_version": "2.0.0",
      "model_name": "LayoutModel",
      "state": {
       "grid_area": "dircontent",
       "width": "auto"
      }
     },
     "f58aeed165d146e498baf0ff55acfae6": {
      "model_module": "@jupyter-widgets/base",
      "model_module_version": "2.0.0",
      "model_name": "LayoutModel",
      "state": {
       "width": "410px"
      }
     },
     "f61d426e7dbf43f9b086350b6ebbfcd8": {
      "model_module": "@jupyter-widgets/base",
      "model_module_version": "2.0.0",
      "model_name": "LayoutModel",
      "state": {
       "width": "330px"
      }
     },
     "f82d339cf7ff41b5afd7ff39b4faf48e": {
      "model_module": "@jupyter-widgets/controls",
      "model_module_version": "2.0.0",
      "model_name": "BoundedIntTextModel",
      "state": {
       "layout": "IPY_MODEL_0b1083efc9774412b3e3c188e2da5b99",
       "max": 100000,
       "min": 1,
       "style": "IPY_MODEL_2b288966ea9e45a6ab4a6ca64af2ace0",
       "value": 396
      }
     },
     "f8d561304e234f49af8c57f87a634185": {
      "model_module": "@jupyter-widgets/controls",
      "model_module_version": "2.0.0",
      "model_name": "DropdownModel",
      "state": {
       "_options_labels": [
        "Select paths..."
       ],
       "index": 0,
       "layout": "IPY_MODEL_c019d27c548a48ec97a75e7ea120c4ad",
       "style": "IPY_MODEL_1d509bae07bb4ab8a9627dc35b575259"
      }
     },
     "f8dc21221be04279a89e0315601f99cd": {
      "model_module": "@jupyter-widgets/controls",
      "model_module_version": "2.0.0",
      "model_name": "BoundedFloatTextModel",
      "state": {
       "description": "MALIGN_SG (Micrograph miss-alginment sigma, pixels):",
       "layout": "IPY_MODEL_3fa29a421cf84ae88f59cc82a4096850",
       "step": null,
       "style": "IPY_MODEL_2cf93dc4694e43a8ab7826e2f8c02a9c",
       "value": 0.2
      }
     },
     "fa686e6ce49e442aaedf4d76651840fc": {
      "model_module": "@jupyter-widgets/controls",
      "model_module_version": "2.0.0",
      "model_name": "BoundedIntTextModel",
      "state": {
       "layout": "IPY_MODEL_d2decf03dd5d4f48833b954444b105fa",
       "max": 100000,
       "style": "IPY_MODEL_73fc80ebdb774281bf1116b9cfe7973b",
       "value": 100
      }
     },
     "fc07635341f6444db35948496bbda8a5": {
      "model_module": "@jupyter-widgets/controls",
      "model_module_version": "2.0.0",
      "model_name": "ButtonModel",
      "state": {
       "description": "Exec",
       "layout": "IPY_MODEL_d92865c501a145c2bdc82bef5bcf2cf8",
       "style": "IPY_MODEL_e3c43919819b4e148e74a3e8c5236075",
       "tooltip": null
      }
     },
     "fc81ed456b714e30ba59d02681a8aebb": {
      "model_module": "@jupyter-widgets/base",
      "model_module_version": "2.0.0",
      "model_name": "LayoutModel",
      "state": {
       "margin": "0 0 0 1em"
      }
     },
     "fcaedaa65a7d4a5aaa74fee20d7e6ffe": {
      "model_module": "@jupyter-widgets/base",
      "model_module_version": "2.0.0",
      "model_name": "LayoutModel",
      "state": {
       "width": "70px"
      }
     },
     "fd50baf2340f4845b7825ee65be72963": {
      "model_module": "@jupyter-widgets/base",
      "model_module_version": "2.0.0",
      "model_name": "LayoutModel",
      "state": {
       "width": "410px"
      }
     },
     "fd88a7c9be7e415b85791597546c76d3": {
      "model_module": "@jupyter-widgets/base",
      "model_module_version": "2.0.0",
      "model_name": "LayoutModel",
      "state": {}
     }
    },
    "version_major": 2,
    "version_minor": 0
   }
  }
 },
 "nbformat": 4,
 "nbformat_minor": 5
}
