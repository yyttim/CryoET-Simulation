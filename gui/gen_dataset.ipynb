{
 "cells": [
  {
   "cell_type": "markdown",
   "id": "c80df180-eb9c-4bf0-b522-b1f425260913",
   "metadata": {},
   "source": [
    "# Generate a synthetic dataset\n",
    "\n",
    "This notebook starts the process to generate a synthetic dataset taken already created structural models."
   ]
  },
  {
   "cell_type": "code",
   "execution_count": 1,
   "id": "0511f4c8-7c09-4dd8-8654-025267318864",
   "metadata": {
    "jupyter": {
     "source_hidden": true
    },
    "tags": []
   },
   "outputs": [],
   "source": [
    "from core.vtk_utilities import *\n",
    "from core.utilities import *\n",
    "from core.widgets_utilities import *\n",
    "from core.all_features2 import all_features2\n",
    "from core.tk_utilities import *\n",
    "import io"
   ]
  },
  {
   "cell_type": "markdown",
   "id": "4136b39a-10f0-4a0d-9f11-ca81630d8efa",
   "metadata": {},
   "source": [
    "## Select files with the structural models \n",
    "\n",
    "Select the files that contain the structural models you want to have in your synthetic dataset. At least an input model is required.\n",
    "\n",
    "We have 4 types of models and 4 buttons to adds it:\n",
    "\n",
    "- Membrane files: list of membranes files to use in the application these have **mbs** extension\n",
    "- Filament files: list of filament files to use in the application these have **hns** extension\n",
    "- Macromolecule (protein) files: list of macromolecule files to use in the application these have **pns** extension\n",
    "- Membrane protein files: list of membrane macromolecule files to use in the application these have **pms** extension\n",
    "\n",
    "  \n",
    "**Note** you can select many (an all) files in a folder with the usage of **'Ctrl'** key.\n",
    "\n",
    "Remember to select the membrane proteins that you have already **aligned** otherwise the application will not work correctly.\n"
   ]
  },
  {
   "cell_type": "code",
   "execution_count": 8,
   "id": "750f3880-e445-458c-9742-adb7e801fd8d",
   "metadata": {
    "jupyter": {
     "source_hidden": true
    },
    "tags": []
   },
   "outputs": [
    {
     "data": {
      "application/vnd.jupyter.widget-view+json": {
       "model_id": "1089c599376c436c9f638e63dca5a20f",
       "version_major": 2,
       "version_minor": 0
      },
      "text/plain": [
       "VBox(children=(Label(value='Types of structures:'), HBox(children=(Button(description='Select membrane files',…"
      ]
     },
     "metadata": {},
     "output_type": "display_data"
    }
   ],
   "source": [
    "selected_files_path_membrane = []\n",
    "selected_files_path_helix = []\n",
    "selected_files_path_proteins= []\n",
    "selected_files_path_mproteins = []\n",
    "MEMBRANES_LIST = []\n",
    "HELIX_LIST = []\n",
    "PROTEINS_LIST = []\n",
    "MB_PROTEINS_LIST = []\n",
    "\n",
    "def select_files_membrane(btn):\n",
    "    global selected_files_path_membrane\n",
    "    select_files(selected_files_path_membrane, \".mbs\")\n",
    "    add_files(MEMBRANES_LIST, selected_files_path_membrane)\n",
    "    update_dropdown(MEMBRANES_LIST, dropdown_membrane)\n",
    " \n",
    "    \n",
    "def select_files_helix(btn):\n",
    "    global selected_files_path_helix\n",
    "    select_files(selected_files_path_helix, \".hns\")\n",
    "    add_files(HELIX_LIST, selected_files_path_helix)\n",
    "    update_dropdown(HELIX_LIST, dropdown_helix)\n",
    "\n",
    "\n",
    "def select_files_proteins(btn):\n",
    "    global selected_files_path_proteins\n",
    "    select_files(selected_files_path_proteins, \".pns\")\n",
    "    add_files(PROTEINS_LIST, selected_files_path_proteins)\n",
    "    update_dropdown(PROTEINS_LIST, dropdown_proteins)\n",
    "\n",
    "\n",
    "def select_file_mproteins(btn):\n",
    "    global selected_files_path_mproteins\n",
    "    select_files(selected_files_path_mproteins, \".pms\")\n",
    "    add_files(MB_PROTEINS_LIST, selected_files_path_mproteins)\n",
    "    update_dropdown(MB_PROTEINS_LIST, dropdown_mproteins)\n",
    "\n",
    "\n",
    "(select_file_button_membrane, dropdown_membrane,select_file_button_helix, dropdown_helix, select_file_button_proteins,\n",
    " dropdown_proteins, select_file_button_mproteins, dropdown_mproteins) = widgets_add_app_files()\n",
    "select_file_button_membrane.on_click(select_files_membrane)\n",
    "select_file_button_helix.on_click(select_files_helix)\n",
    "select_file_button_proteins.on_click(select_files_proteins)\n",
    "select_file_button_mproteins.on_click(select_file_mproteins)"
   ]
  },
  {
   "cell_type": "markdown",
   "id": "73791b3c-a930-4508-ab41-453570fb1ac2",
   "metadata": {},
   "source": [
    "## Sort the models\n",
    "\n",
    "Models selected can be sorted to determine the specific order to be simulated. Labels in ground truth will correspond with the order defined here starting with label '1' ('0' is reserved for background)."
   ]
  },
  {
   "cell_type": "code",
   "execution_count": 9,
   "id": "7ffb2361-e079-476c-9a05-e213de9d457d",
   "metadata": {
    "jupyter": {
     "source_hidden": true
    }
   },
   "outputs": [
    {
     "data": {
      "application/vnd.jupyter.widget-view+json": {
       "model_id": "116f42711fcd4fc889b60e544eb6ddfe",
       "version_major": 2,
       "version_minor": 0
      },
      "text/plain": [
       "VBox(children=(HBox(children=(Button(description='↑ Up selected file', style=ButtonStyle()), Button(descriptio…"
      ]
     },
     "metadata": {},
     "output_type": "display_data"
    }
   ],
   "source": [
    "def up_file_m(b):\n",
    "    index, options = up_file_priority(MEMBRANES_LIST,  MEMBRANES_WIDGETS[2].value)\n",
    "    if len(options)>0:\n",
    "        MEMBRANES_WIDGETS[2].options = options\n",
    "        MEMBRANES_WIDGETS[2].value = options[index]\n",
    "\n",
    "def down_file_m(b):\n",
    "    index, options = down_file_priority(MEMBRANES_LIST,  MEMBRANES_WIDGETS[2].value)\n",
    "    if len(options)>0:\n",
    "        MEMBRANES_WIDGETS[2].options = options\n",
    "        MEMBRANES_WIDGETS[2].value = options[index]\n",
    "    \n",
    "def up_file_p(b):\n",
    "    index, options = up_file_priority(PROTEINS_LIST,  PROTEINS_WIDGETS[2].value)\n",
    "    if len(options) >0:\n",
    "        PROTEINS_WIDGETS[2].options = options\n",
    "        PROTEINS_WIDGETS[2].value = options[index]\n",
    "\n",
    "def down_file_p(b):\n",
    "    index, options = down_file_priority(PROTEINS_LIST,  PROTEINS_WIDGETS[2].value)\n",
    "    if len(options) >0:\n",
    "        PROTEINS_WIDGETS[2].options = options\n",
    "        PROTEINS_WIDGETS[2].value = options[index]\n",
    "    \n",
    "def up_file_mb(b):\n",
    "    index, options = up_file_priority(MB_PROTEINS_LIST,  MB_PROTEINS_WIDGETS[2].value)\n",
    "    if len(options) > 0:\n",
    "        MB_PROTEINS_WIDGETS[2].options = options\n",
    "        MB_PROTEINS_WIDGETS[2].value = options[index]\n",
    "\n",
    "def down_file_mb(b):\n",
    "    index, options = down_file_priority(MB_PROTEINS_LIST,  MB_PROTEINS_WIDGETS[2].value)\n",
    "    if len(options) > 0:\n",
    "        MB_PROTEINS_WIDGETS[2].options = options\n",
    "        MB_PROTEINS_WIDGETS[2].value = options[index]\n",
    "    \n",
    "def up_file_h(b):\n",
    "    index, options = up_file_priority(HELIX_LIST,  HELIX_WIDGETS[2].value)\n",
    "    if len(options) > 0:\n",
    "        HELIX_WIDGETS[2].options = options\n",
    "        HELIX_WIDGETS[2].value = options[index]\n",
    "\n",
    "def down_file_h(b):\n",
    "    index, options = down_file_priority(HELIX_LIST,  HELIX_WIDGETS[2].value)\n",
    "    if len(options) > 0:\n",
    "        HELIX_WIDGETS[2].options = options\n",
    "        HELIX_WIDGETS[2].value = options[index]\n",
    "\n",
    "def update_dropdown_widget(widget, values):\n",
    "    widget.options = values\n",
    "    widget.value = values[0] if values else None\n",
    "\n",
    "def on_membranes_list_change(btn):\n",
    "    update_dropdown_widget(MEMBRANES_WIDGETS[2], MEMBRANES_LIST)\n",
    "def on_helix_list_change(btn):\n",
    "    update_dropdown_widget(HELIX_WIDGETS[2], HELIX_LIST)\n",
    "def on_proteins_list_change(btn):\n",
    "    update_dropdown_widget(PROTEINS_WIDGETS[2], PROTEINS_LIST)\n",
    "def on_mb_proteins_list_change(btn):\n",
    "    update_dropdown_widget(MB_PROTEINS_WIDGETS[2], MB_PROTEINS_LIST)\n",
    "\n",
    "\n",
    "select_file_button_membrane.on_click(on_membranes_list_change)\n",
    "select_file_button_helix.on_click(on_helix_list_change)\n",
    "select_file_button_proteins.on_click(on_proteins_list_change)\n",
    "select_file_button_mproteins.on_click(on_mb_proteins_list_change)\n",
    "\n",
    "(MEMBRANES_WIDGETS, HELIX_WIDGETS, PROTEINS_WIDGETS, MB_PROTEINS_WIDGETS)= widgets_change_order([MEMBRANES_LIST, HELIX_LIST, PROTEINS_LIST, MB_PROTEINS_LIST])\n",
    "\n",
    "MEMBRANES_WIDGETS[0].on_click(up_file_m)\n",
    "MEMBRANES_WIDGETS[1].on_click(down_file_m)\n",
    "HELIX_WIDGETS[0].on_click(up_file_h)\n",
    "HELIX_WIDGETS[1].on_click(down_file_h)\n",
    "PROTEINS_WIDGETS[0].on_click(up_file_p)\n",
    "PROTEINS_WIDGETS[1].on_click(down_file_p)\n",
    "MB_PROTEINS_WIDGETS[0].on_click(up_file_mb)\n",
    "MB_PROTEINS_WIDGETS[1].on_click(down_file_mb)"
   ]
  },
  {
   "cell_type": "markdown",
   "id": "d221b8fc-09d0-4471-9ad7-b985054c8c90",
   "metadata": {},
   "source": [
    "## Execution\n",
    "\n",
    "Once defined the list of models to be used in the simulation, select the parameters related with the simulation and image acquisition press **Exec** to run the simulation."
   ]
  },
  {
   "cell_type": "code",
   "execution_count": 11,
   "id": "d979d340-66d3-425a-9225-0e3b4e2aeaab",
   "metadata": {
    "jupyter": {
     "source_hidden": true
    },
    "tags": []
   },
   "outputs": [
    {
     "data": {
      "application/vnd.jupyter.widget-view+json": {
       "model_id": "7ca6bcb1b2a4450b86ba6977fb9627bb",
       "version_major": 2,
       "version_minor": 0
      },
      "text/plain": [
       "FileChooser(path='/home/martinez/workspace/pycharm_proj/polnet/gui', filename='', title='Select where you want…"
      ]
     },
     "metadata": {},
     "output_type": "display_data"
    },
    {
     "data": {
      "application/vnd.jupyter.widget-view+json": {
       "model_id": "32cbda7647e94104a2096e496611773a",
       "version_major": 2,
       "version_minor": 0
      },
      "text/plain": [
       "IntText(value=1, description='N_TOMOS (number of tomograms in the dataset):', layout=Layout(width='380px'), st…"
      ]
     },
     "metadata": {},
     "output_type": "display_data"
    },
    {
     "data": {
      "application/vnd.jupyter.widget-view+json": {
       "model_id": "a35b38665561409082fed06630986901",
       "version_major": 2,
       "version_minor": 0
      },
      "text/plain": [
       "HBox(children=(BoundedIntText(value=400, description='VOI_SHAPE (Tomogram shape, voxels):', layout=Layout(widt…"
      ]
     },
     "metadata": {},
     "output_type": "display_data"
    },
    {
     "data": {
      "application/vnd.jupyter.widget-view+json": {
       "model_id": "c90458bc4e5946f3859d567487a085d2",
       "version_major": 2,
       "version_minor": 0
      },
      "text/plain": [
       "HBox(children=(BoundedIntText(value=4, description='VOI_OFF (Empty halo, voxels):', layout=Layout(width='170px…"
      ]
     },
     "metadata": {},
     "output_type": "display_data"
    },
    {
     "data": {
      "application/vnd.jupyter.widget-view+json": {
       "model_id": "2e527777a006483aa067988417aa8af6",
       "version_major": 2,
       "version_minor": 0
      },
      "text/plain": [
       "BoundedFloatText(value=10.0, description='VOI_VOXEL_SIZE (Voxel size, voxels/A):', layout=Layout(width='350px'…"
      ]
     },
     "metadata": {},
     "output_type": "display_data"
    },
    {
     "data": {
      "application/vnd.jupyter.widget-view+json": {
       "model_id": "2cd1e6fa147a4f3a8096a91f6c0388ed",
       "version_major": 2,
       "version_minor": 0
      },
      "text/plain": [
       "BoundedFloatText(value=20.0, description='MMER_TRIES (Maximun number of tries for monomers):', layout=Layout(w…"
      ]
     },
     "metadata": {},
     "output_type": "display_data"
    },
    {
     "data": {
      "application/vnd.jupyter.widget-view+json": {
       "model_id": "33f36d33a8a34fb89cbb0c4f806140ab",
       "version_major": 2,
       "version_minor": 0
      },
      "text/plain": [
       "BoundedFloatText(value=100.0, description='PMER_TRIES (Maximun number of tries for polymers):', layout=Layout(…"
      ]
     },
     "metadata": {},
     "output_type": "display_data"
    },
    {
     "data": {
      "application/vnd.jupyter.widget-view+json": {
       "model_id": "350493b856254981add7f664615faa16",
       "version_major": 2,
       "version_minor": 0
      },
      "text/plain": [
       "BoundedFloatText(value=0.9, description='SURF_DEC (Decimation for surface respresentation, [0, 1]):', layout=L…"
      ]
     },
     "metadata": {},
     "output_type": "display_data"
    },
    {
     "data": {
      "application/vnd.jupyter.widget-view+json": {
       "model_id": "768b46de41514e95bcb52a5839674587",
       "version_major": 2,
       "version_minor": 0
      },
      "text/plain": [
       "BoundedFloatText(value=1.0, description='MALIGN_MN (Micrograph miss-alginment mean, pixels):', layout=Layout(w…"
      ]
     },
     "metadata": {},
     "output_type": "display_data"
    },
    {
     "data": {
      "application/vnd.jupyter.widget-view+json": {
       "model_id": "821b530b6fed4184a89e1d169798d68e",
       "version_major": 2,
       "version_minor": 0
      },
      "text/plain": [
       "BoundedFloatText(value=1.5, description='MALIGN_MX (Micrograph miss-alginment max, pixels):', layout=Layout(wi…"
      ]
     },
     "metadata": {},
     "output_type": "display_data"
    },
    {
     "data": {
      "application/vnd.jupyter.widget-view+json": {
       "model_id": "160cf31eb25748f2a3d455457b2003c9",
       "version_major": 2,
       "version_minor": 0
      },
      "text/plain": [
       "BoundedFloatText(value=0.2, description='MALIGN_SG (Micrograph miss-alginment sigma, pixels):', layout=Layout(…"
      ]
     },
     "metadata": {},
     "output_type": "display_data"
    },
    {
     "data": {
      "application/vnd.jupyter.widget-view+json": {
       "model_id": "be8dd024f9af43cab3d2f59c50b492f0",
       "version_major": 2,
       "version_minor": 0
      },
      "text/plain": [
       "HBox(children=(BoundedFloatText(value=1.0, description='DETECTOR_SNR (Micrographs SNR range):', layout=Layout(…"
      ]
     },
     "metadata": {},
     "output_type": "display_data"
    },
    {
     "data": {
      "application/vnd.jupyter.widget-view+json": {
       "model_id": "7f1a73618ee64664868bf009438f96e4",
       "version_major": 2,
       "version_minor": 0
      },
      "text/plain": [
       "HBox(children=(BoundedIntText(value=-60, description='TILT_ANGS (Degrees; start, end, step):', layout=Layout(w…"
      ]
     },
     "metadata": {},
     "output_type": "display_data"
    },
    {
     "data": {
      "application/vnd.jupyter.widget-view+json": {
       "model_id": "e3e8d1ee97f04f8ab5b42aed80475bae",
       "version_major": 2,
       "version_minor": 0
      },
      "text/plain": [
       "Button(description='Exec', style=ButtonStyle())"
      ]
     },
     "metadata": {},
     "output_type": "display_data"
    },
    {
     "data": {
      "application/vnd.jupyter.widget-view+json": {
       "model_id": "d5455d12516348f3a96ed6f8cc54d032",
       "version_major": 2,
       "version_minor": 0
      },
      "text/plain": [
       "Output()"
      ]
     },
     "metadata": {},
     "output_type": "display_data"
    }
   ],
   "source": [
    "DEF_PATH = os.path.realpath(os.getcwd() + '/../data') +  '/../data_generated/polnet_test'\n",
    "def generate_voi_shape():\n",
    "    return (voi_shape1.value, voi_shape2.value, voi_shape3.value)\n",
    "\n",
    "def generate_tilts_angs():\n",
    "    return range(widget_min.value, widget_max.value, widget_paso.value)\n",
    "\n",
    "def generate_voi_off():\n",
    "    return ((voi_off_widget_1.value, voi_off_widget_2.value),\n",
    "            (voi_off_widget_3.value, voi_off_widget_4.value),\n",
    "            (voi_off_widget_5.value, voi_off_widget_6.value))\n",
    "\n",
    "\n",
    "\n",
    "def exec_app(btn):\n",
    "    with output_widget:\n",
    "        path = check_dir(widget_out_dir.selected_path, DEF_PATH)\n",
    "        if MEMBRANES_LIST or HELIX_LIST or PROTEINS_LIST or MB_PROTEINS_LIST:\n",
    "            all_features2(ntomos_widget.value, generate_voi_shape(),\n",
    "                          path, generate_voi_off(), voi_size_widget.value,\n",
    "                          mmer_tries_widget.value, pmer_tries_widget.value,\n",
    "                          MEMBRANES_LIST, HELIX_LIST, PROTEINS_LIST, MB_PROTEINS_LIST,\n",
    "                          surf_dec_widget.value,\n",
    "                          generate_tilts_angs(), [detector_snr_widget_low.value, detector_snr_widget_high.value],\n",
    "                          malign_mn_widget.value, malign_mx_widget.value, malign_sg_widget.value)\n",
    "        else:\n",
    "            window_exec_app_failed()\n",
    "\n",
    "\n",
    "(widget_out_dir, ntomos_widget, voi_shape1, voi_shape2, voi_shape3, voi_off_widget_1, voi_off_widget_2, voi_off_widget_3, voi_off_widget_4, \n",
    "voi_off_widget_5, voi_off_widget_6,voi_size_widget, mmer_tries_widget, \n",
    "pmer_tries_widget, surf_dec_widget, malign_mn_widget, malign_mx_widget, malign_sg_widget, \n",
    "detector_snr_widget_low, detector_snr_widget_high, widget_min, widget_max, widget_paso, exec_button) = widgets_exec_app()\n",
    "\n",
    "output_widget = widgets.Output()\n",
    "\n",
    "exec_button.on_click(exec_app)\n",
    "display(output_widget)"
   ]
  },
  {
   "cell_type": "code",
   "execution_count": null,
   "id": "45c6a1d0-ac81-470b-92a5-65b914b2dc22",
   "metadata": {
    "jupyter": {
     "source_hidden": true
    }
   },
   "outputs": [],
   "source": []
  }
 ],
 "metadata": {
  "kernelspec": {
   "display_name": "Python 3 (ipykernel)",
   "language": "python",
   "name": "python3"
  },
  "language_info": {
   "codemirror_mode": {
    "name": "ipython",
    "version": 3
   },
   "file_extension": ".py",
   "mimetype": "text/x-python",
   "name": "python",
   "nbconvert_exporter": "python",
   "pygments_lexer": "ipython3",
   "version": "3.12.0"
  }
 },
 "nbformat": 4,
 "nbformat_minor": 5
}
