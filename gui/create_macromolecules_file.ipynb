{
 "cells": [
  {
   "cell_type": "markdown",
   "id": "18c4a6cf-019d-4bb2-990d-14eff85ed012",
   "metadata": {},
   "source": [
    "## Select iso surface and create macromolecules file\n",
    "\n",
    "Now we are going to select the iso surface value wanted to our density map and created the macromolecules file."
   ]
  },
  {
   "cell_type": "code",
   "execution_count": 1,
   "id": "2972107d-e799-4669-89ca-24ddcc320ff2",
   "metadata": {
    "jupyter": {
     "source_hidden": true
    }
   },
   "outputs": [],
   "source": [
    "from vtk_utilities import *\n",
    "from utilities import *\n",
    "from widgets_utilities import *\n",
    "from tk_utilities import *"
   ]
  },
  {
   "cell_type": "markdown",
   "id": "42df4f29-8602-4a3d-9618-10c34538085d",
   "metadata": {},
   "source": [
    "For it we need to introduce the value for some parameters required.\n",
    "\n",
    "We have the following parameters\n",
    "\n",
    "| Molecule Variable  | Description                              | Data Type                          |\n",
    "|:-------------------|:---------------------------------------:|:----------------------------------|\n",
    "| MMER_ID            | Identifier                               | String                             |\n",
    "| MMER_SVOL          | Path to density (.mrc)                   | String                             |\n",
    "| MMER_ISO           | Isosurface threshold                     | Positive real value                |\n",
    "| PMER_L             | di ∈ rm · [PMER L, 2xPMER L]             | Positive value                     |\n",
    "| PMER_OCC           | O                                        | Percentage                         |\n",
    "| PMER_LMEX          | Cluster max length                       | Positive real value in ˚A          |\n",
    "| PMER_OVER_TOL      | Overlapping tolerance                    | Percentage                         |\n",
    "| PMER_REVERSE_NORMALS| Reverse membrane normal                 | Boolean                            |\n",
    "\n",
    "\n",
    "First selected de protein you want to create the file. After select the values for these parameters, select the path and the name you want for the file and click on the **save** button. One vtk window will open to select the iso surface. \n",
    "\n",
    "Once the value have been selected, close the window and the macromolecule file will be automatically created with the selected values for each parameter. Repeat this proccess for every density map file."
   ]
  },
  {
   "cell_type": "code",
   "execution_count": 2,
   "id": "b1a9d9cc-8ce0-432c-bbf3-b443ad1a617b",
   "metadata": {
    "jupyter": {
     "source_hidden": true
    }
   },
   "outputs": [
    {
     "data": {
      "application/vnd.jupyter.widget-view+json": {
       "model_id": "79872542fba3421b85a55069ac83617d",
       "version_major": 2,
       "version_minor": 0
      },
      "text/plain": [
       "Label(value='Introduce the protein you want to create the macromolecule')"
      ]
     },
     "metadata": {},
     "output_type": "display_data"
    },
    {
     "data": {
      "application/vnd.jupyter.widget-view+json": {
       "model_id": "f0f2b26975004505839778a013aeadc3",
       "version_major": 2,
       "version_minor": 0
      },
      "text/plain": [
       "HBox(children=(Button(description='Select protein file', style=ButtonStyle()), Dropdown(layout=Layout(width='5…"
      ]
     },
     "metadata": {},
     "output_type": "display_data"
    },
    {
     "data": {
      "application/vnd.jupyter.widget-view+json": {
       "model_id": "4a19bb1cace5490a9526a6e63db79d2e",
       "version_major": 2,
       "version_minor": 0
      },
      "text/plain": [
       "HBox(children=(Label(value='Mark if it is a membrane protein'), Checkbox(value=False, indent=False)))"
      ]
     },
     "metadata": {},
     "output_type": "display_data"
    },
    {
     "data": {
      "application/vnd.jupyter.widget-view+json": {
       "model_id": "545de59f530e4ab8be837074d4d9edbe",
       "version_major": 2,
       "version_minor": 0
      },
      "text/plain": [
       "VBox(children=(HBox(children=(Text(value='pdb_1bxn', description='MMER_ID:', placeholder='pdb_1bxn', style=Tex…"
      ]
     },
     "metadata": {},
     "output_type": "display_data"
    },
    {
     "data": {
      "application/vnd.jupyter.widget-view+json": {
       "model_id": "4e9c95fd347c44d4ac646060d8dd59de",
       "version_major": 2,
       "version_minor": 0
      },
      "text/plain": [
       "HBox(children=(Label(value='Marks if you want to reverse membrane protein normals'), Checkbox(value=False, dis…"
      ]
     },
     "metadata": {},
     "output_type": "display_data"
    },
    {
     "data": {
      "application/vnd.jupyter.widget-view+json": {
       "model_id": "b7bf1a42f6194b32bc5da09e3756aae8",
       "version_major": 2,
       "version_minor": 0
      },
      "text/plain": [
       "FileChooser(path='D:\\tfg\\polnetUI\\code', filename='', title='Select where you want to save the files', show_hi…"
      ]
     },
     "metadata": {},
     "output_type": "display_data"
    },
    {
     "data": {
      "application/vnd.jupyter.widget-view+json": {
       "model_id": "9c7945d192f645a5a8547954024ccc84",
       "version_major": 2,
       "version_minor": 0
      },
      "text/plain": [
       "Button(description='Save', style=ButtonStyle())"
      ]
     },
     "metadata": {},
     "output_type": "display_data"
    }
   ],
   "source": [
    "DEFAULT_PATH = \"../data/in_10A/\"\n",
    "file_path = \"\"\n",
    "def select(btn):\n",
    "    global file_path\n",
    "    file_path = select_file(\".mrc\")\n",
    "    dropdown_1.options = [file_path]\n",
    "    dropdown_1.value = file_path\n",
    "\n",
    "def create(btn):\n",
    "    \n",
    "    mmer_iso = select_isosurface(file_path, 800,600)\n",
    "    if file_destination_widget.value:\n",
    "        write_mmolecules(mmer_id_widget.value, file_path, file_destination_widget.value, mmer_iso ,pmer_l_widget.value, \n",
    "                     pmer_l_mex_widget.value, pmer_occ_widget.value, pmer_over_tol_widget.value, pmer_reverse_normals.value, membrane_option.value)\n",
    "    else:\n",
    "        write_mmolecules(mmer_id_widget.value, file_path, DEFAULT_PATH, mmer_iso ,pmer_l_widget.value, \n",
    "                     pmer_l_mex_widget.value, pmer_occ_widget.value, pmer_over_tol_widget.value, pmer_reverse_normals.value, membrane_option.value)\n",
    "    mmer_id_widget.value = \"\"\n",
    "    \n",
    "(protein_file_button, dropdown_1, save_button, mmer_id_widget, pmer_l_widget, pmer_l_mex_widget, \n",
    " pmer_occ_widget, pmer_over_tol_widget, pmer_reverse_normals, membrane_option, file_destination_widget) = widgets_mmolecules_params()\n",
    "\n",
    "save_button.on_click(create)\n",
    "protein_file_button.on_click(select)"
   ]
  }
 ],
 "metadata": {
  "kernelspec": {
   "display_name": "Python 3 (ipykernel)",
   "language": "python",
   "name": "python3"
  },
  "language_info": {
   "codemirror_mode": {
    "name": "ipython",
    "version": 3
   },
   "file_extension": ".py",
   "mimetype": "text/x-python",
   "name": "python",
   "nbconvert_exporter": "python",
   "pygments_lexer": "ipython3",
   "version": "3.12.0"
  }
 },
 "nbformat": 4,
 "nbformat_minor": 5
}
