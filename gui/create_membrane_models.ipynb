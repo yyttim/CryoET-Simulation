{
 "cells": [
  {
   "cell_type": "markdown",
   "id": "fe450480-a9a2-46e8-8522-ba919352b889",
   "metadata": {},
   "source": [
    "## Create membrane models\n",
    "\n",
    "This notebook helps to generate the configuration files **.mbs** for membrane structural models.\n"
   ]
  },
  {
   "cell_type": "code",
   "execution_count": 1,
   "id": "cd6e2675-cf1a-42b6-b895-fe3349a6af76",
   "metadata": {
    "jupyter": {
     "source_hidden": true
    }
   },
   "outputs": [],
   "source": [
    "from core.vtk_utilities import *\n",
    "from core.utilities import *\n",
    "from core.widgets_utilities import *"
   ]
  },
  {
   "cell_type": "markdown",
   "id": "690fbedb-9a2c-4ae5-8195-458a93b87af7",
   "metadata": {},
   "source": [
    "Input parameters to be introduced\n",
    "\n",
    "| Membrane Variable    | DESCRIPTION                                  | DATA TYPE                      |\n",
    "|:------------------|:--------------------------------------------:|:-------------------------------|\n",
    "| MB_TYPE           | membrane geometry                            | 'Sphere', 'Ellipse' or 'Torus' |\n",
    "| MB_OCC            | O                                            | Range [low, min] in percentages|\n",
    "| MB_THICK_RG       | t                                            | Range in ˚A                    |\n",
    "| MB_LAYER_S_RG     | σl                                           | Range in ˚A                    |\n",
    "| MB_MAX_ECC        | max ϵ                                        | Positive real value            |\n",
    "| MB_OVER_TOL       | overlapping tolerance percentage             | Percentage                     |\n",
    "| MB_MIN_RAD        | min r                                        | Positive real value in ˚A      |\n",
    "| MB_DEN_CF_RG      | density factor                               | Range of reals between 0 and 1 |\n",
    "\n",
    "\n",
    "Select value for each parameter. If you are not sure about the value to set, keep the default one. \n",
    "\n",
    "Select path and name for the file.\n",
    "\n",
    "Finally click on the **Save button** and automatically the file will be generated."
   ]
  },
  {
   "cell_type": "code",
   "execution_count": 2,
   "id": "4c6dc2c1-8146-4025-b4a7-6b6529a619c9",
   "metadata": {
    "jupyter": {
     "source_hidden": true
    }
   },
   "outputs": [
    {
     "data": {
      "application/vnd.jupyter.widget-view+json": {
       "model_id": "55aedd35d6e6494ab61b436612f48b8b",
       "version_major": 2,
       "version_minor": 0
      },
      "text/plain": [
       "VBox(children=(HBox(children=(Dropdown(description='MB_TYPE:', options=('sphere', 'ellipse', 'torus'), style=D…"
      ]
     },
     "metadata": {},
     "output_type": "display_data"
    },
    {
     "data": {
      "application/vnd.jupyter.widget-view+json": {
       "model_id": "006debfe484a4f20961dc8fb9bc47644",
       "version_major": 2,
       "version_minor": 0
      },
      "text/plain": [
       "FileChooser(path='/home/martinez/workspace/polnet_merging/polnet/gui', filename='', title='Select destination …"
      ]
     },
     "metadata": {},
     "output_type": "display_data"
    },
    {
     "data": {
      "application/vnd.jupyter.widget-view+json": {
       "model_id": "8c231343011343bca6e6d48f1725c2a0",
       "version_major": 2,
       "version_minor": 0
      },
      "text/plain": [
       "Button(description='Save', style=ButtonStyle())"
      ]
     },
     "metadata": {},
     "output_type": "display_data"
    }
   ],
   "source": [
    "\n",
    "DEFAULT_PATH = \"../../data/in_mbs/\"\n",
    "def write_mbs(btn):\n",
    "    if file_destination_widget.value:\n",
    "        write_membrane(mb_type_widget.value, mb_occ_widget.value, mb_thick_rg_widget.value, mb_layer_s_rg_widget.value, \n",
    "                       mb_max_ecc_widget.value, mb_over_tol_widget.value, mb_min_rad_widget.value, mb_den_cf_rg_widget.value, file_destination_widget.value)\n",
    "    else:\n",
    "         write_membrane(mb_type_widget.value, mb_occ_widget.value, mb_thick_rg_widget.value, mb_layer_s_rg_widget.value, \n",
    "                        mb_max_ecc_widget.value, mb_over_tol_widget.value, mb_min_rad_widget.value, mb_den_cf_rg_widget.value, DEFAULT_PATH)\n",
    "\n",
    "(mb_type_widget, mb_occ_widget, mb_thick_rg_widget, mb_layer_s_rg_widget, mb_max_ecc_widget,\n",
    " mb_over_tol_widget, mb_min_rad_widget, mb_den_cf_rg_widget, file_destination_widget, save_button) = widgets_membrane_params()\n",
    "save_button.on_click(write_mbs)"
   ]
  },
  {
   "cell_type": "code",
   "execution_count": null,
   "id": "7b921f24-9c71-4a12-8f7b-c23761ce5941",
   "metadata": {},
   "outputs": [],
   "source": []
  },
  {
   "cell_type": "code",
   "execution_count": null,
   "id": "054b80b6-3661-498c-8f45-8dacffb05282",
   "metadata": {
    "jupyter": {
     "source_hidden": true
    }
   },
   "outputs": [],
   "source": []
  }
 ],
 "metadata": {
  "kernelspec": {
   "display_name": "Python 3 (ipykernel)",
   "language": "python",
   "name": "python3"
  },
  "language_info": {
   "codemirror_mode": {
    "name": "ipython",
    "version": 3
   },
   "file_extension": ".py",
   "mimetype": "text/x-python",
   "name": "python",
   "nbconvert_exporter": "python",
   "pygments_lexer": "ipython3",
   "version": "3.8.16"
  }
 },
 "nbformat": 4,
 "nbformat_minor": 5
}
