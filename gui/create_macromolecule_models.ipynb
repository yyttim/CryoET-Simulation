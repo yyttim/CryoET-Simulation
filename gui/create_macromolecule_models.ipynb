{
 "cells": [
  {
   "cell_type": "markdown",
   "id": "18c4a6cf-019d-4bb2-990d-14eff85ed012",
   "metadata": {},
   "source": [
    "## Create macromolecule model\n",
    "\n",
    "This notebook assists to generate the configuration files **.pns** macromolecule structural models. It also allows to visualize the model in 3D to adjunto the iso-surface level. "
   ]
  },
  {
   "cell_type": "code",
   "execution_count": 1,
   "id": "2972107d-e799-4669-89ca-24ddcc320ff2",
   "metadata": {
    "jupyter": {
     "source_hidden": true
    },
    "tags": [],
    "ExecuteTime": {
     "end_time": "2024-09-01T13:15:33.087833Z",
     "start_time": "2024-09-01T13:15:28.569014Z"
    }
   },
   "outputs": [],
   "source": [
    "from core.vtk_utilities import *\n",
    "from core.utilities import *\n",
    "from core.widgets_utilities import *\n",
    "from core.tk_utilities import *"
   ]
  },
  {
   "cell_type": "markdown",
   "id": "42df4f29-8602-4a3d-9618-10c34538085d",
   "metadata": {},
   "source": [
    "Input parameters to adjust.\n",
    "\n",
    "| Molecule Variable  | Description                              | Data Type                          |\n",
    "|:-------------------|:---------------------------------------:|:----------------------------------|\n",
    "| MMER_ID            | Identifier                               | String                             |\n",
    "| MMER_SVOL          | Path to density (.mrc)                   | String                             |\n",
    "| MMER_ISO           | Isosurface threshold                     | Positive real value                |\n",
    "| PMER_L             | di ∈ rm · [PMER L, 2xPMER L]             | Positive value                     |\n",
    "| PMER_OCC           | O                                        | Percentage                         |\n",
    "| PMER_LMEX          | Cluster max length                       | Positive real value in ˚A          |\n",
    "| PMER_OVER_TOL      | Overlapping tolerance                    | Percentage                         |\n",
    "| PMER_REVERSE_NORMALS| Reverse membrane normal                 | Boolean                            |\n",
    "\n",
    "\n",
    "First selected de protein you want to create the file. After select the values for the parameters, select the path and the name you want for the file and click on the **save** button. One VTK window will open to select the iso surface. \n",
    "\n",
    "Once the iso-surface level have been selected, close the window and the macromolecule file will be automatically created with the selected values for each parameter. Repeat this proccess for every density map file."
   ]
  },
  {
   "cell_type": "code",
   "execution_count": 2,
   "id": "b1a9d9cc-8ce0-432c-bbf3-b443ad1a617b",
   "metadata": {
    "jupyter": {
     "source_hidden": true
    },
    "tags": [],
    "ExecuteTime": {
     "end_time": "2024-09-01T13:15:35.859190Z",
     "start_time": "2024-09-01T13:15:35.806695Z"
    }
   },
   "outputs": [
    {
     "data": {
      "text/plain": "Label(value='Introduce the protein you want to create the macromolecule')",
      "application/vnd.jupyter.widget-view+json": {
       "version_major": 2,
       "version_minor": 0,
       "model_id": "d2e801be927c445c8859504c0da79e33"
      }
     },
     "metadata": {},
     "output_type": "display_data"
    },
    {
     "data": {
      "text/plain": "HBox(children=(Button(description='Select protein file', style=ButtonStyle()), Dropdown(layout=Layout(width='5…",
      "application/vnd.jupyter.widget-view+json": {
       "version_major": 2,
       "version_minor": 0,
       "model_id": "519b1858f9a040969d73e22cd501c64b"
      }
     },
     "metadata": {},
     "output_type": "display_data"
    },
    {
     "data": {
      "text/plain": "HBox(children=(Label(value='Mark if it is a membrane protein'), Checkbox(value=False, indent=False)))",
      "application/vnd.jupyter.widget-view+json": {
       "version_major": 2,
       "version_minor": 0,
       "model_id": "464f38b7f120477996464b512ab734e6"
      }
     },
     "metadata": {},
     "output_type": "display_data"
    },
    {
     "data": {
      "text/plain": "VBox(children=(HBox(children=(Text(value='pdb_1bxn', description='MMER_ID:', placeholder='pdb_1bxn', style=Tex…",
      "application/vnd.jupyter.widget-view+json": {
       "version_major": 2,
       "version_minor": 0,
       "model_id": "49d1a2afdd3d4039b1def917018b7c8e"
      }
     },
     "metadata": {},
     "output_type": "display_data"
    },
    {
     "data": {
      "text/plain": "HBox(children=(Label(value='Marks if you want to reverse membrane protein normals'), Checkbox(value=False, dis…",
      "application/vnd.jupyter.widget-view+json": {
       "version_major": 2,
       "version_minor": 0,
       "model_id": "6b507d7b5e5e43179089db9de1266765"
      }
     },
     "metadata": {},
     "output_type": "display_data"
    },
    {
     "data": {
      "text/plain": "FileChooser(path='F:\\projectpython\\polnet\\gui', filename='', title='Select where you want to save the files', …",
      "application/vnd.jupyter.widget-view+json": {
       "version_major": 2,
       "version_minor": 0,
       "model_id": "6927a46abbd444fca6f66d6ec278f30f"
      }
     },
     "metadata": {},
     "output_type": "display_data"
    },
    {
     "data": {
      "text/plain": "Button(description='Save', style=ButtonStyle())",
      "application/vnd.jupyter.widget-view+json": {
       "version_major": 2,
       "version_minor": 0,
       "model_id": "eacbfa391cce442d9b8d0f6d8a04a40c"
      }
     },
     "metadata": {},
     "output_type": "display_data"
    }
   ],
   "source": [
    "DEFAULT_PATH = \"../data/in_10A/\"\n",
    "file_path = \"\"\n",
    "def select(btn):\n",
    "    global file_path\n",
    "    file_path = select_file(\".mrc\")\n",
    "    dropdown_1.options = [file_path]\n",
    "    dropdown_1.value = file_path\n",
    "\n",
    "def create(btn):\n",
    "    with output:\n",
    "        print('Enter iso-surface')\n",
    "        mmer_iso = select_isosurface(file_path, 800,600)\n",
    "        path = check_dir(file_destination_widget.value, DEFAULT_PATH)\n",
    "        write_mmolecules(mmer_id_widget.value, file_path, path, mmer_iso ,pmer_l_widget.value, \n",
    "                         pmer_l_mex_widget.value, pmer_occ_widget.value, pmer_over_tol_widget.value, pmer_reverse_normals.value, membrane_option.value)\n",
    "  \n",
    "        mmer_id_widget.value = \"\"\n",
    "\n",
    "(protein_file_button, dropdown_1, save_button, mmer_id_widget, pmer_l_widget, pmer_l_mex_widget, \n",
    " pmer_occ_widget, pmer_over_tol_widget, pmer_reverse_normals, membrane_option, file_destination_widget) = widgets_mmolecules_params()\n",
    "\n",
    "output = widgets.Output()\n",
    "\n",
    "save_button.on_click(create)\n",
    "protein_file_button.on_click(select)"
   ]
  },
  {
   "cell_type": "code",
   "execution_count": null,
   "id": "c2ae36dc-0b49-4a31-9637-23a4324cf816",
   "metadata": {
    "jupyter": {
     "source_hidden": true
    }
   },
   "outputs": [],
   "source": []
  },
  {
   "cell_type": "code",
   "execution_count": null,
   "id": "f2e3d6fe-eb51-4b26-8b29-afb08b64733f",
   "metadata": {
    "jupyter": {
     "source_hidden": true
    }
   },
   "outputs": [],
   "source": []
  }
 ],
 "metadata": {
  "kernelspec": {
   "display_name": "Python 3 (ipykernel)",
   "language": "python",
   "name": "python3"
  },
  "language_info": {
   "codemirror_mode": {
    "name": "ipython",
    "version": 3
   },
   "file_extension": ".py",
   "mimetype": "text/x-python",
   "name": "python",
   "nbconvert_exporter": "python",
   "pygments_lexer": "ipython3",
   "version": "3.12.0"
  }
 },
 "nbformat": 4,
 "nbformat_minor": 5
}
