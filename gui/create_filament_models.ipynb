{
 "cells": [
  {
   "cell_type": "markdown",
   "id": "298ccf65-4616-4811-b0ff-797994f3b787",
   "metadata": {
    "editable": true,
    "slideshow": {
     "slide_type": ""
    },
    "tags": []
   },
   "source": [
    "## Create filament models\n",
    "\n",
    "This notebook helps to generate the configuration files **.hns** for helicoidal filamentous structural models."
   ]
  },
  {
   "cell_type": "code",
   "execution_count": 1,
   "id": "1dc6c4a7-dce9-417e-846b-f92733e1fc29",
   "metadata": {
    "scrolled": true
   },
   "outputs": [],
   "source": [
    "from core.vtk_utilities import *\n",
    "from core.utilities import *\n",
    "from core.widgets_utilities import *\n",
    "from core.tk_utilities import *"
   ]
  },
  {
   "cell_type": "markdown",
   "id": "ad5ed42a-c733-4fc6-8c88-b4999292dc50",
   "metadata": {},
   "source": [
    "Input parameters to be introduced\n",
    "\n",
    "| Filament Variable | Description                                     | Data Type                                      |\n",
    "|:-----------------|:-----------------------------------------------:|:-----------------------------------------------|\n",
    "| HLIX_TYPE         | Filament type                                   | 'actin' or 'mt'                                |\n",
    "| HLIX_MMER_RAD     | Monomer radius rm                               | Positive real value in ˚A                      |\n",
    "| HLIX_PMER_L       | dM/rm                                           | Positive real value                            |\n",
    "| HLIX_PMER_OCC     | O                                               | range in percentages                           |\n",
    "| HLIX_MIN_P_LEN    | Min p                                           | Positive real value in ˚A                      |\n",
    "| HLIX_HP_LEN       | h                                               | Positive real value in ˚A                      |\n",
    "| HLIX_MZ_LEN       | Monomer length in z-axis                        | Positive real value in ˚A                      |\n",
    "| HLIX_MZ_LEN_F     | Min hz                                          | Range of reals between0 and 1                  |\n",
    "| HLIX_OVER_TOL     | Overlapping tolerance                           | Percentage                                     |\n",
    "| HLIX_MIN_NMMER    | Min structural units                            | Positive integer                               |\n",
    "| A_BPROP           | Pb                                              | Range reals between 0 and 1                    |\n",
    "| A_MAX_P_BRANCH    | Max Pb                                          | Range reals between 0 and 1                   |\n",
    "| MT_RAD            | MT radius Z-ring                                | Positive real value in ˚A                      |\n",
    "| MT_NUNITS         | MT ring number of monomers                      | Positive integer                               |\n",
    "\n",
    "Note that some parameters depend on the filament type, so their default value and availability may change.\n",
    "\n",
    "Select the path and the name al click in **save** to create the final file.\n"
   ]
  },
  {
   "cell_type": "code",
   "execution_count": 2,
   "id": "d7633819-280b-4c53-9b71-dc062ec74fd8",
   "metadata": {},
   "outputs": [
    {
     "data": {
      "application/vnd.jupyter.widget-view+json": {
       "model_id": "669b28ff12a445caafc189c634124e5a",
       "version_major": 2,
       "version_minor": 0
      },
      "text/plain": [
       "VBox(children=(HBox(children=(Dropdown(description='HLIX_TYPE:', options=('actin', 'mt'), style=DescriptionSty…"
      ]
     },
     "metadata": {},
     "output_type": "display_data"
    },
    {
     "data": {
      "application/vnd.jupyter.widget-view+json": {
       "model_id": "ee6aeea0c97647ff8199558cb73692ae",
       "version_major": 2,
       "version_minor": 0
      },
      "text/plain": [
       "FileChooser(path='/home/martinez/workspace/polnet_merging/polnet/gui', filename='', title='Select the path and…"
      ]
     },
     "metadata": {},
     "output_type": "display_data"
    },
    {
     "data": {
      "application/vnd.jupyter.widget-view+json": {
       "model_id": "6a96c8c75ac14eeba02c688b335eda0b",
       "version_major": 2,
       "version_minor": 0
      },
      "text/plain": [
       "Button(description='Save', style=ButtonStyle())"
      ]
     },
     "metadata": {},
     "output_type": "display_data"
    }
   ],
   "source": [
    "DEFAULT_PATH = \"../../data/in_helix/\"\n",
    "\n",
    "def write(btn):\n",
    "    if file_destination_widget.value:\n",
    "        write_helix(\n",
    "            hlix_type_widget.value, hlix_mmer_rad_widget.value, hlix_pmer_l_widget.value, hlix_pmer_occ_widget.value,\n",
    "            hlix_min_p_len_widget.value, hlix_hp_len_widget.value, hlix_mz_len_widget.value, hlix_mz_len_f_widget.value,\n",
    "            hlix_over_tol_widget.value, hlix_min_nmmer_widget.value, a_bprop_widget.value, a_max_p_branch_widget.value,\n",
    "            mt_rad_widget.value, mt_nunits_widget.value, file_destination_widget.value\n",
    "        )\n",
    "    else:\n",
    "         write_helix(\n",
    "            hlix_type_widget.value, hlix_mmer_rad_widget.value, hlix_pmer_l_widget.value, hlix_pmer_occ_widget.value,\n",
    "            hlix_min_p_len_widget.value, hlix_hp_len_widget.value, hlix_mz_len_widget.value, hlix_mz_len_f_widget.value,\n",
    "            hlix_over_tol_widget.value, hlix_min_nmmer_widget.value, a_bprop_widget.value, a_max_p_branch_widget.value,\n",
    "            mt_rad_widget.value, mt_nunits_widget.value, DEFAULT_PATH\n",
    "        )\n",
    "\n",
    "\n",
    "def on_hlix_type_change(value):\n",
    "    update_widgets_based_on_hlix(value.new, a_bprop_widget, a_max_p_branch_widget, mt_rad_widget, mt_nunits_widget)\n",
    "    update_values_based_on_hlix(value.new, hlix_mmer_rad_widget, hlix_pmer_l_widget, hlix_pmer_occ_widget,\n",
    "                             hlix_min_p_len_widget, hlix_hp_len_widget, hlix_mz_len_widget, hlix_mz_len_f_widget,\n",
    "                             hlix_over_tol_widget, hlix_min_nmmer_widget, a_bprop_widget, a_max_p_branch_widget,\n",
    "                             mt_rad_widget, mt_nunits_widget)\n",
    "    \n",
    "(hlix_type_widget, hlix_mmer_rad_widget, hlix_pmer_l_widget, hlix_pmer_occ_widget, hlix_min_p_len_widget,\n",
    " hlix_hp_len_widget, hlix_mz_len_widget, hlix_mz_len_f_widget, hlix_over_tol_widget, hlix_min_nmmer_widget,\n",
    " a_bprop_widget, a_max_p_branch_widget, mt_rad_widget, mt_nunits_widget, file_destination_widget, save_button) = widgets_helix_params()\n",
    "\n",
    "hlix_type_widget.observe(on_hlix_type_change, names='value')\n",
    "\n",
    "save_button.on_click(write)"
   ]
  },
  {
   "cell_type": "markdown",
   "id": "e6615f08-c42b-474c-82e7-fcb08d15a28b",
   "metadata": {},
   "source": [
    "## Visualize the structural model\n",
    "\n",
    "Once the files are created we can create preview of the structural unit create in the previous section for helical structures. The only thing necessary is to select the filament file you want to visualize."
   ]
  },
  {
   "cell_type": "code",
   "execution_count": 4,
   "id": "46e8b034-d52c-4bae-82e9-e14634dc22ec",
   "metadata": {},
   "outputs": [
    {
     "data": {
      "text/markdown": [],
      "text/plain": [
       "<IPython.core.display.Markdown object>"
      ]
     },
     "metadata": {},
     "output_type": "display_data"
    },
    {
     "data": {
      "application/vnd.jupyter.widget-view+json": {
       "model_id": "bfbd6ed9b0c644dba0c1a82cc1a62d65",
       "version_major": 2,
       "version_minor": 0
      },
      "text/plain": [
       "VBox(children=(Label(value='Select file you want to visualize'), HBox(children=(Button(description='Select fil…"
      ]
     },
     "metadata": {},
     "output_type": "display_data"
    }
   ],
   "source": [
    "file_path = \"\"\n",
    "def select(btn):\n",
    "    global file_path\n",
    "    file_path = select_file(\".hns\")\n",
    "    dropdown_1.options = [file_path]\n",
    "    dropdown_1.value = file_path\n",
    "\n",
    "def data(file_path):\n",
    "    return create_poly_data(file_path, 1)\n",
    "\n",
    "from IPython.display import Markdown, display\n",
    "display(Markdown(file_path))\n",
    "def handle_file_upload(change):\n",
    "   if file_path:\n",
    "        vtk_poly_data = data(file_path)\n",
    "        visualize_helix(vtk_poly_data, 800, 600, file_path)\n",
    "\n",
    "select_file_button, exec_button, dropdown_1 = widgets_helix()\n",
    "exec_button.on_click(handle_file_upload)\n",
    "select_file_button.on_click(select)"
   ]
  },
  {
   "cell_type": "code",
   "execution_count": 5,
   "id": "e44ac274-1b9e-4f86-a20c-11d109050048",
   "metadata": {},
   "outputs": [
    {
     "name": "stdout",
     "output_type": "stream",
     "text": [
      "Number of lines: 12\n",
      "25.0\n"
     ]
    },
    {
     "ename": "AttributeError",
     "evalue": "module 'numpy' has no attribute 'bool'.\n`np.bool` was a deprecated alias for the builtin `bool`. To avoid this error in existing code, use `bool` by itself. Doing this will not modify any behavior and is safe. If you specifically wanted the numpy scalar type, use `np.bool_` here.\nThe aliases was originally deprecated in NumPy 1.20; for more details and guidance see the original release note at:\n    https://numpy.org/devdocs/release/1.20.0-notes.html#deprecations",
     "output_type": "error",
     "traceback": [
      "\u001b[0;31m---------------------------------------------------------------------------\u001b[0m",
      "\u001b[0;31mAttributeError\u001b[0m                            Traceback (most recent call last)",
      "Cell \u001b[0;32mIn[5], line 1\u001b[0m\n\u001b[0;32m----> 1\u001b[0m vtk_poly_data \u001b[38;5;241m=\u001b[39m \u001b[43mdata\u001b[49m\u001b[43m(\u001b[49m\u001b[43mfile_path\u001b[49m\u001b[43m)\u001b[49m\n\u001b[1;32m      2\u001b[0m visualize_helix(vtk_poly_data, \u001b[38;5;241m800\u001b[39m, \u001b[38;5;241m600\u001b[39m, file_path)\n",
      "Cell \u001b[0;32mIn[4], line 9\u001b[0m, in \u001b[0;36mdata\u001b[0;34m(file_path)\u001b[0m\n\u001b[1;32m      8\u001b[0m \u001b[38;5;28;01mdef\u001b[39;00m \u001b[38;5;21mdata\u001b[39m(file_path):\n\u001b[0;32m----> 9\u001b[0m     \u001b[38;5;28;01mreturn\u001b[39;00m \u001b[43mcreate_poly_data\u001b[49m\u001b[43m(\u001b[49m\u001b[43mfile_path\u001b[49m\u001b[43m,\u001b[49m\u001b[43m \u001b[49m\u001b[38;5;241;43m1\u001b[39;49m\u001b[43m)\u001b[49m\n",
      "File \u001b[0;32m~/workspace/polnet_merging/polnet/gui/core/utilities.py:314\u001b[0m, in \u001b[0;36mcreate_poly_data\u001b[0;34m(file_path, v_size)\u001b[0m\n\u001b[1;32m    312\u001b[0m \u001b[38;5;66;03m# Add more parameter parsing as needed\u001b[39;00m\n\u001b[1;32m    313\u001b[0m \u001b[38;5;28;01mif\u001b[39;00m hlix_type \u001b[38;5;241m==\u001b[39m \u001b[38;5;124m\"\u001b[39m\u001b[38;5;124mactin\u001b[39m\u001b[38;5;124m\"\u001b[39m:\n\u001b[0;32m--> 314\u001b[0m     vtk_poly_data \u001b[38;5;241m=\u001b[39m \u001b[43mcreate_actin_poly_data\u001b[49m\u001b[43m(\u001b[49m\u001b[43mhlix_mmer_rad\u001b[49m\u001b[43m,\u001b[49m\u001b[43m \u001b[49m\u001b[43mv_size\u001b[49m\u001b[43m)\u001b[49m\n\u001b[1;32m    315\u001b[0m     \u001b[38;5;28;01mreturn\u001b[39;00m vtk_poly_data\n\u001b[1;32m    316\u001b[0m \u001b[38;5;28;01melse\u001b[39;00m:\n",
      "File \u001b[0;32m~/workspace/polnet_merging/polnet/gui/core/utilities.py:272\u001b[0m, in \u001b[0;36mcreate_actin_poly_data\u001b[0;34m(hlix_mmer_rad, v_size)\u001b[0m\n\u001b[1;32m    265\u001b[0m \u001b[38;5;28;01mdef\u001b[39;00m \u001b[38;5;21mcreate_actin_poly_data\u001b[39m(hlix_mmer_rad, v_size):\n\u001b[1;32m    266\u001b[0m \u001b[38;5;250m    \u001b[39m\u001b[38;5;124;03m\"\"\"\u001b[39;00m\n\u001b[1;32m    267\u001b[0m \u001b[38;5;124;03m    Create acti poly data\u001b[39;00m\n\u001b[1;32m    268\u001b[0m \u001b[38;5;124;03m    :param hlix_mmer_dad: monomer radius\u001b[39;00m\n\u001b[1;32m    269\u001b[0m \u001b[38;5;124;03m    :param v_size: voxel size\u001b[39;00m\n\u001b[1;32m    270\u001b[0m \u001b[38;5;124;03m    :return: vtk poly data\u001b[39;00m\n\u001b[1;32m    271\u001b[0m \u001b[38;5;124;03m    \"\"\"\u001b[39;00m\n\u001b[0;32m--> 272\u001b[0m     actin_filaments \u001b[38;5;241m=\u001b[39m \u001b[43mpolymer\u001b[49m\u001b[38;5;241;43m.\u001b[39;49m\u001b[43mFiberUnitSDimer\u001b[49m\u001b[43m(\u001b[49m\u001b[43msph_rad\u001b[49m\u001b[38;5;241;43m=\u001b[39;49m\u001b[43mhlix_mmer_rad\u001b[49m\u001b[43m,\u001b[49m\u001b[43m \u001b[49m\u001b[43mv_size\u001b[49m\u001b[38;5;241;43m=\u001b[39;49m\u001b[43mv_size\u001b[49m\u001b[43m)\u001b[49m  \n\u001b[1;32m    273\u001b[0m     vtk_poly_data \u001b[38;5;241m=\u001b[39m actin_filaments\u001b[38;5;241m.\u001b[39mget_vtp()\n\u001b[1;32m    274\u001b[0m     \u001b[38;5;28;01mreturn\u001b[39;00m vtk_poly_data\n",
      "File \u001b[0;32m~/miniconda3/envs/polnet/lib/python3.8/site-packages/polnet/polymer.py:884\u001b[0m, in \u001b[0;36mFiberUnitSDimer.__init__\u001b[0;34m(self, sph_rad, v_size)\u001b[0m\n\u001b[1;32m    882\u001b[0m     \u001b[38;5;28mself\u001b[39m\u001b[38;5;241m.\u001b[39m__size \u001b[38;5;241m+\u001b[39m\u001b[38;5;241m=\u001b[39m \u001b[38;5;241m1\u001b[39m\n\u001b[1;32m    883\u001b[0m \u001b[38;5;28mself\u001b[39m\u001b[38;5;241m.\u001b[39m__tomo, \u001b[38;5;28mself\u001b[39m\u001b[38;5;241m.\u001b[39m__surf \u001b[38;5;241m=\u001b[39m \u001b[38;5;28;01mNone\u001b[39;00m, \u001b[38;5;28;01mNone\u001b[39;00m\n\u001b[0;32m--> 884\u001b[0m \u001b[38;5;28;43mself\u001b[39;49m\u001b[38;5;241;43m.\u001b[39;49m\u001b[43m__gen_sdimer\u001b[49m\u001b[43m(\u001b[49m\u001b[43m)\u001b[49m\n",
      "File \u001b[0;32m~/miniconda3/envs/polnet/lib/python3.8/site-packages/polnet/polymer.py:932\u001b[0m, in \u001b[0;36mFiberUnitSDimer.__gen_sdimer\u001b[0;34m(self)\u001b[0m\n\u001b[1;32m    930\u001b[0m \u001b[38;5;66;03m# Generating the surfaces\u001b[39;00m\n\u001b[1;32m    931\u001b[0m \u001b[38;5;28mself\u001b[39m\u001b[38;5;241m.\u001b[39m__tomo \u001b[38;5;241m=\u001b[39m lin_map(\u001b[38;5;28mself\u001b[39m\u001b[38;5;241m.\u001b[39m__tomo, lb\u001b[38;5;241m=\u001b[39m\u001b[38;5;241m1\u001b[39m, ub\u001b[38;5;241m=\u001b[39m\u001b[38;5;241m0\u001b[39m) \u001b[38;5;66;03m# self.__tomo = lin_map(self.__tomo, lb=0, ub=1)\u001b[39;00m\n\u001b[0;32m--> 932\u001b[0m \u001b[38;5;28mself\u001b[39m\u001b[38;5;241m.\u001b[39m__surf \u001b[38;5;241m=\u001b[39m \u001b[43miso_surface\u001b[49m\u001b[43m(\u001b[49m\u001b[38;5;28;43mself\u001b[39;49m\u001b[38;5;241;43m.\u001b[39;49m\u001b[43m__tomo\u001b[49m\u001b[43m,\u001b[49m\u001b[43m \u001b[49m\u001b[38;5;241;43m.25\u001b[39;49m\u001b[43m)\u001b[49m \u001b[38;5;66;03m# self.__surf = iso_surface(self.__tomo, .75)\u001b[39;00m\n\u001b[1;32m    934\u001b[0m \u001b[38;5;66;03m# lio.write_mrc(self.__tomo, '/fs/pool/pool-lucic2/antonio/polnet/riboprot/synth_all/hold_funit1.mrc')\u001b[39;00m\n\u001b[1;32m    935\u001b[0m \u001b[38;5;66;03m# lio.save_vtp(self.__surf, '/fs/pool/pool-lucic2/antonio/polnet/riboprot/synth_all/hold_funit1.vtp')\u001b[39;00m\n\u001b[1;32m    937\u001b[0m \u001b[38;5;28mself\u001b[39m\u001b[38;5;241m.\u001b[39m__surf \u001b[38;5;241m=\u001b[39m poly_scale(\u001b[38;5;28mself\u001b[39m\u001b[38;5;241m.\u001b[39m__surf, \u001b[38;5;28mself\u001b[39m\u001b[38;5;241m.\u001b[39m__v_size)\n",
      "File \u001b[0;32m~/miniconda3/envs/polnet/lib/python3.8/site-packages/polnet/utils.py:64\u001b[0m, in \u001b[0;36miso_surface\u001b[0;34m(tomo, th, flp, closed, normals)\u001b[0m\n\u001b[1;32m     62\u001b[0m \u001b[38;5;66;03m# Marching cubes configuration\u001b[39;00m\n\u001b[1;32m     63\u001b[0m march \u001b[38;5;241m=\u001b[39m vtk\u001b[38;5;241m.\u001b[39mvtkMarchingCubes()\n\u001b[0;32m---> 64\u001b[0m tomo_vtk \u001b[38;5;241m=\u001b[39m \u001b[43mnumpy_to_vti\u001b[49m\u001b[43m(\u001b[49m\u001b[43mtomo\u001b[49m\u001b[43m)\u001b[49m\n\u001b[1;32m     65\u001b[0m \u001b[38;5;28;01mif\u001b[39;00m closed:\n\u001b[1;32m     66\u001b[0m     \u001b[38;5;66;03m# print str(tomo_vtk.GetExtent()), str(tomo.shape)\u001b[39;00m\n\u001b[1;32m     67\u001b[0m     padder \u001b[38;5;241m=\u001b[39m vtk\u001b[38;5;241m.\u001b[39mvtkImageConstantPad()\n",
      "File \u001b[0;32m~/miniconda3/envs/polnet/lib/python3.8/site-packages/polnet/utils.py:147\u001b[0m, in \u001b[0;36mnumpy_to_vti\u001b[0;34m(array, spacing)\u001b[0m\n\u001b[1;32m    139\u001b[0m \u001b[38;5;250m\u001b[39m\u001b[38;5;124;03m\"\"\"\u001b[39;00m\n\u001b[1;32m    140\u001b[0m \u001b[38;5;124;03mConverts a 3D numpy array into vtkImageData object\u001b[39;00m\n\u001b[1;32m    141\u001b[0m \u001b[38;5;124;03m:param array: 3D numpy array\u001b[39;00m\n\u001b[1;32m    142\u001b[0m \u001b[38;5;124;03m:param spacing: distance between pixels\u001b[39;00m\n\u001b[1;32m    143\u001b[0m \u001b[38;5;124;03m:return: a vtkImageData object\u001b[39;00m\n\u001b[1;32m    144\u001b[0m \u001b[38;5;124;03m\"\"\"\u001b[39;00m\n\u001b[1;32m    146\u001b[0m \u001b[38;5;66;03m# Flattern the input array\u001b[39;00m\n\u001b[0;32m--> 147\u001b[0m array_1d \u001b[38;5;241m=\u001b[39m \u001b[43mnumpy_support\u001b[49m\u001b[38;5;241;43m.\u001b[39;49m\u001b[43mnumpy_to_vtk\u001b[49m\u001b[43m(\u001b[49m\u001b[43mnum_array\u001b[49m\u001b[38;5;241;43m=\u001b[39;49m\u001b[43mnp\u001b[49m\u001b[38;5;241;43m.\u001b[39;49m\u001b[43mreshape\u001b[49m\u001b[43m(\u001b[49m\u001b[43marray\u001b[49m\u001b[43m,\u001b[49m\u001b[43m \u001b[49m\u001b[38;5;241;43m-\u001b[39;49m\u001b[38;5;241;43m1\u001b[39;49m\u001b[43m,\u001b[49m\u001b[43m \u001b[49m\u001b[43morder\u001b[49m\u001b[38;5;241;43m=\u001b[39;49m\u001b[38;5;124;43m'\u001b[39;49m\u001b[38;5;124;43mF\u001b[39;49m\u001b[38;5;124;43m'\u001b[39;49m\u001b[43m)\u001b[49m\u001b[43m,\u001b[49m\u001b[43m \u001b[49m\u001b[43mdeep\u001b[49m\u001b[38;5;241;43m=\u001b[39;49m\u001b[38;5;28;43;01mTrue\u001b[39;49;00m\u001b[43m,\u001b[49m\u001b[43m \u001b[49m\u001b[43marray_type\u001b[49m\u001b[38;5;241;43m=\u001b[39;49m\u001b[43mvtk\u001b[49m\u001b[38;5;241;43m.\u001b[39;49m\u001b[43mVTK_FLOAT\u001b[49m\u001b[43m)\u001b[49m\n\u001b[1;32m    149\u001b[0m \u001b[38;5;66;03m# Create the new vtkImageData\u001b[39;00m\n\u001b[1;32m    150\u001b[0m nx, ny, nz \u001b[38;5;241m=\u001b[39m array\u001b[38;5;241m.\u001b[39mshape\n",
      "File \u001b[0;32m~/miniconda3/envs/polnet/lib/python3.8/site-packages/vtkmodules/util/numpy_support.py:164\u001b[0m, in \u001b[0;36mnumpy_to_vtk\u001b[0;34m(num_array, deep, array_type)\u001b[0m\n\u001b[1;32m    161\u001b[0m result_array\u001b[38;5;241m.\u001b[39mSetNumberOfTuples(shape[\u001b[38;5;241m0\u001b[39m])\n\u001b[1;32m    163\u001b[0m \u001b[38;5;66;03m# Ravel the array appropriately.\u001b[39;00m\n\u001b[0;32m--> 164\u001b[0m arr_dtype \u001b[38;5;241m=\u001b[39m \u001b[43mget_numpy_array_type\u001b[49m\u001b[43m(\u001b[49m\u001b[43mvtk_typecode\u001b[49m\u001b[43m)\u001b[49m\n\u001b[1;32m    165\u001b[0m \u001b[38;5;28;01mif\u001b[39;00m numpy\u001b[38;5;241m.\u001b[39missubdtype(z\u001b[38;5;241m.\u001b[39mdtype, arr_dtype) \u001b[38;5;129;01mor\u001b[39;00m \\\n\u001b[1;32m    166\u001b[0m    z\u001b[38;5;241m.\u001b[39mdtype \u001b[38;5;241m==\u001b[39m numpy\u001b[38;5;241m.\u001b[39mdtype(arr_dtype):\n\u001b[1;32m    167\u001b[0m     z_flat \u001b[38;5;241m=\u001b[39m numpy\u001b[38;5;241m.\u001b[39mravel(z)\n",
      "File \u001b[0;32m~/miniconda3/envs/polnet/lib/python3.8/site-packages/vtkmodules/util/numpy_support.py:94\u001b[0m, in \u001b[0;36mget_numpy_array_type\u001b[0;34m(vtk_array_type)\u001b[0m\n\u001b[1;32m     92\u001b[0m \u001b[38;5;28;01mdef\u001b[39;00m \u001b[38;5;21mget_numpy_array_type\u001b[39m(vtk_array_type):\n\u001b[1;32m     93\u001b[0m \u001b[38;5;250m    \u001b[39m\u001b[38;5;124;03m\"\"\"Returns a numpy array typecode given a VTK array type.\"\"\"\u001b[39;00m\n\u001b[0;32m---> 94\u001b[0m     \u001b[38;5;28;01mreturn\u001b[39;00m \u001b[43mget_vtk_to_numpy_typemap\u001b[49m\u001b[43m(\u001b[49m\u001b[43m)\u001b[49m[vtk_array_type]\n",
      "File \u001b[0;32m~/miniconda3/envs/polnet/lib/python3.8/site-packages/vtkmodules/util/numpy_support.py:74\u001b[0m, in \u001b[0;36mget_vtk_to_numpy_typemap\u001b[0;34m()\u001b[0m\n\u001b[1;32m     72\u001b[0m \u001b[38;5;28;01mdef\u001b[39;00m \u001b[38;5;21mget_vtk_to_numpy_typemap\u001b[39m():\n\u001b[1;32m     73\u001b[0m \u001b[38;5;250m    \u001b[39m\u001b[38;5;124;03m\"\"\"Returns the VTK array type to numpy array type mapping.\"\"\"\u001b[39;00m\n\u001b[0;32m---> 74\u001b[0m     _vtk_np \u001b[38;5;241m=\u001b[39m {vtkConstants\u001b[38;5;241m.\u001b[39mVTK_BIT:\u001b[43mnumpy\u001b[49m\u001b[38;5;241;43m.\u001b[39;49m\u001b[43mbool\u001b[49m,\n\u001b[1;32m     75\u001b[0m                 vtkConstants\u001b[38;5;241m.\u001b[39mVTK_CHAR:numpy\u001b[38;5;241m.\u001b[39mint8,\n\u001b[1;32m     76\u001b[0m                 vtkConstants\u001b[38;5;241m.\u001b[39mVTK_SIGNED_CHAR:numpy\u001b[38;5;241m.\u001b[39mint8,\n\u001b[1;32m     77\u001b[0m                 vtkConstants\u001b[38;5;241m.\u001b[39mVTK_UNSIGNED_CHAR:numpy\u001b[38;5;241m.\u001b[39muint8,\n\u001b[1;32m     78\u001b[0m                 vtkConstants\u001b[38;5;241m.\u001b[39mVTK_SHORT:numpy\u001b[38;5;241m.\u001b[39mint16,\n\u001b[1;32m     79\u001b[0m                 vtkConstants\u001b[38;5;241m.\u001b[39mVTK_UNSIGNED_SHORT:numpy\u001b[38;5;241m.\u001b[39muint16,\n\u001b[1;32m     80\u001b[0m                 vtkConstants\u001b[38;5;241m.\u001b[39mVTK_INT:numpy\u001b[38;5;241m.\u001b[39mint32,\n\u001b[1;32m     81\u001b[0m                 vtkConstants\u001b[38;5;241m.\u001b[39mVTK_UNSIGNED_INT:numpy\u001b[38;5;241m.\u001b[39muint32,\n\u001b[1;32m     82\u001b[0m                 vtkConstants\u001b[38;5;241m.\u001b[39mVTK_LONG:LONG_TYPE_CODE,\n\u001b[1;32m     83\u001b[0m                 vtkConstants\u001b[38;5;241m.\u001b[39mVTK_LONG_LONG:numpy\u001b[38;5;241m.\u001b[39mint64,\n\u001b[1;32m     84\u001b[0m                 vtkConstants\u001b[38;5;241m.\u001b[39mVTK_UNSIGNED_LONG:ULONG_TYPE_CODE,\n\u001b[1;32m     85\u001b[0m                 vtkConstants\u001b[38;5;241m.\u001b[39mVTK_UNSIGNED_LONG_LONG:numpy\u001b[38;5;241m.\u001b[39muint64,\n\u001b[1;32m     86\u001b[0m                 vtkConstants\u001b[38;5;241m.\u001b[39mVTK_ID_TYPE:ID_TYPE_CODE,\n\u001b[1;32m     87\u001b[0m                 vtkConstants\u001b[38;5;241m.\u001b[39mVTK_FLOAT:numpy\u001b[38;5;241m.\u001b[39mfloat32,\n\u001b[1;32m     88\u001b[0m                 vtkConstants\u001b[38;5;241m.\u001b[39mVTK_DOUBLE:numpy\u001b[38;5;241m.\u001b[39mfloat64}\n\u001b[1;32m     89\u001b[0m     \u001b[38;5;28;01mreturn\u001b[39;00m _vtk_np\n",
      "File \u001b[0;32m~/miniconda3/envs/polnet/lib/python3.8/site-packages/numpy/__init__.py:305\u001b[0m, in \u001b[0;36m__getattr__\u001b[0;34m(attr)\u001b[0m\n\u001b[1;32m    300\u001b[0m     warnings\u001b[38;5;241m.\u001b[39mwarn(\n\u001b[1;32m    301\u001b[0m         \u001b[38;5;124mf\u001b[39m\u001b[38;5;124m\"\u001b[39m\u001b[38;5;124mIn the future `np.\u001b[39m\u001b[38;5;132;01m{\u001b[39;00mattr\u001b[38;5;132;01m}\u001b[39;00m\u001b[38;5;124m` will be defined as the \u001b[39m\u001b[38;5;124m\"\u001b[39m\n\u001b[1;32m    302\u001b[0m         \u001b[38;5;124m\"\u001b[39m\u001b[38;5;124mcorresponding NumPy scalar.\u001b[39m\u001b[38;5;124m\"\u001b[39m, \u001b[38;5;167;01mFutureWarning\u001b[39;00m, stacklevel\u001b[38;5;241m=\u001b[39m\u001b[38;5;241m2\u001b[39m)\n\u001b[1;32m    304\u001b[0m \u001b[38;5;28;01mif\u001b[39;00m attr \u001b[38;5;129;01min\u001b[39;00m __former_attrs__:\n\u001b[0;32m--> 305\u001b[0m     \u001b[38;5;28;01mraise\u001b[39;00m \u001b[38;5;167;01mAttributeError\u001b[39;00m(__former_attrs__[attr])\n\u001b[1;32m    307\u001b[0m \u001b[38;5;66;03m# Importing Tester requires importing all of UnitTest which is not a\u001b[39;00m\n\u001b[1;32m    308\u001b[0m \u001b[38;5;66;03m# cheap import Since it is mainly used in test suits, we lazy import it\u001b[39;00m\n\u001b[1;32m    309\u001b[0m \u001b[38;5;66;03m# here to save on the order of 10 ms of import time for most users\u001b[39;00m\n\u001b[1;32m    310\u001b[0m \u001b[38;5;66;03m#\u001b[39;00m\n\u001b[1;32m    311\u001b[0m \u001b[38;5;66;03m# The previous way Tester was imported also had a side effect of adding\u001b[39;00m\n\u001b[1;32m    312\u001b[0m \u001b[38;5;66;03m# the full `numpy.testing` namespace\u001b[39;00m\n\u001b[1;32m    313\u001b[0m \u001b[38;5;28;01mif\u001b[39;00m attr \u001b[38;5;241m==\u001b[39m \u001b[38;5;124m'\u001b[39m\u001b[38;5;124mtesting\u001b[39m\u001b[38;5;124m'\u001b[39m:\n",
      "\u001b[0;31mAttributeError\u001b[0m: module 'numpy' has no attribute 'bool'.\n`np.bool` was a deprecated alias for the builtin `bool`. To avoid this error in existing code, use `bool` by itself. Doing this will not modify any behavior and is safe. If you specifically wanted the numpy scalar type, use `np.bool_` here.\nThe aliases was originally deprecated in NumPy 1.20; for more details and guidance see the original release note at:\n    https://numpy.org/devdocs/release/1.20.0-notes.html#deprecations"
     ]
    }
   ],
   "source": [
    "vtk_poly_data = data(file_path)\n",
    "visualize_helix(vtk_poly_data, 800, 600, file_path)\n"
   ]
  },
  {
   "cell_type": "code",
   "execution_count": null,
   "id": "03bc3d8f-705a-4e64-9008-8103952512f1",
   "metadata": {},
   "outputs": [],
   "source": []
  }
 ],
 "metadata": {
  "kernelspec": {
   "display_name": "Python 3 (ipykernel)",
   "language": "python",
   "name": "python3"
  },
  "language_info": {
   "codemirror_mode": {
    "name": "ipython",
    "version": 3
   },
   "file_extension": ".py",
   "mimetype": "text/x-python",
   "name": "python",
   "nbconvert_exporter": "python",
   "pygments_lexer": "ipython3",
   "version": "3.8.16"
  }
 },
 "nbformat": 4,
 "nbformat_minor": 5
}
