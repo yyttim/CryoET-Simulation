{
 "cells": [
  {
   "cell_type": "markdown",
   "id": "298ccf65-4616-4811-b0ff-797994f3b787",
   "metadata": {
    "editable": true,
    "slideshow": {
     "slide_type": ""
    },
    "tags": []
   },
   "source": [
    "## Create filament models\n",
    "\n",
    "This notebook helps to generate the configuration files **.hns** for helicoidal filamentous structural models."
   ]
  },
  {
   "cell_type": "code",
   "execution_count": 1,
   "id": "1dc6c4a7-dce9-417e-846b-f92733e1fc29",
   "metadata": {
    "jupyter": {
     "source_hidden": true
    },
    "scrolled": true,
    "tags": []
   },
   "outputs": [],
   "source": [
    "import vtk\n",
    "from core.vtk_utilities import *\n",
    "from core.utilities import *\n",
    "from core.widgets_utilities import *\n",
    "from core.tk_utilities import *"
   ]
  },
  {
   "cell_type": "markdown",
   "id": "ad5ed42a-c733-4fc6-8c88-b4999292dc50",
   "metadata": {},
   "source": [
    "Input parameters to be introduced\n",
    "\n",
    "| Filament Variable | Description                                     | Data Type                                      |\n",
    "|:-----------------|:-----------------------------------------------:|:-----------------------------------------------|\n",
    "| HLIX_TYPE         | Filament type                                   | 'actin' or 'mt'                                |\n",
    "| HLIX_MMER_RAD     | Monomer radius rm                               | Positive real value in ˚A                      |\n",
    "| HLIX_PMER_L       | dM/rm                                           | Positive real value                            |\n",
    "| HLIX_PMER_OCC     | O                                               | range in percentages                           |\n",
    "| HLIX_MIN_P_LEN    | Min p                                           | Positive real value in ˚A                      |\n",
    "| HLIX_HP_LEN       | h                                               | Positive real value in ˚A                      |\n",
    "| HLIX_MZ_LEN       | Monomer length in z-axis                        | Positive real value in ˚A                      |\n",
    "| HLIX_MZ_LEN_F     | Min hz                                          | Range of reals between0 and 1                  |\n",
    "| HLIX_OVER_TOL     | Overlapping tolerance                           | Percentage                                     |\n",
    "| HLIX_MIN_NMMER    | Min structural units                            | Positive integer                               |\n",
    "| A_BPROP           | Pb                                              | Range reals between 0 and 1                    |\n",
    "| A_MAX_P_BRANCH    | Max Pb                                          | Range reals between 0 and 1                   |\n",
    "| MT_RAD            | MT radius Z-ring                                | Positive real value in ˚A                      |\n",
    "| MT_NUNITS         | MT ring number of monomers                      | Positive integer                               |\n",
    "\n",
    "Note that some parameters depend on the filament type, so their default value and availability may change.\n",
    "\n",
    "Select the path and the name al click in **save** to create the final file.\n"
   ]
  },
  {
   "cell_type": "code",
   "execution_count": 4,
   "id": "d7633819-280b-4c53-9b71-dc062ec74fd8",
   "metadata": {
    "jupyter": {
     "source_hidden": true
    },
    "tags": []
   },
   "outputs": [
    {
     "data": {
      "application/vnd.jupyter.widget-view+json": {
       "model_id": "71570c986ce54ce2bdaa3ddf8f4ab255",
       "version_major": 2,
       "version_minor": 0
      },
      "text/plain": [
       "VBox(children=(HBox(children=(Dropdown(description='HLIX_TYPE:', options=('actin', 'mt'), style=DescriptionSty…"
      ]
     },
     "metadata": {},
     "output_type": "display_data"
    },
    {
     "data": {
      "application/vnd.jupyter.widget-view+json": {
       "model_id": "74dd43254ed1473ea8b9b6fd4c7a486a",
       "version_major": 2,
       "version_minor": 0
      },
      "text/plain": [
       "FileChooser(path='C:\\Users\\amart\\workspace\\pycharm_proj\\polnet\\gui', filename='', title='Select the path and t…"
      ]
     },
     "metadata": {},
     "output_type": "display_data"
    },
    {
     "data": {
      "application/vnd.jupyter.widget-view+json": {
       "model_id": "0a27f22ae18645a5a3bfab6a883581d2",
       "version_major": 2,
       "version_minor": 0
      },
      "text/plain": [
       "Button(description='Save', style=ButtonStyle())"
      ]
     },
     "metadata": {},
     "output_type": "display_data"
    }
   ],
   "source": [
    "DEFAULT_PATH = \"../../data/in_helix/\"\n",
    "\n",
    "def write(btn):\n",
    "    if file_destination_widget.value:\n",
    "        write_helix(\n",
    "            hlix_type_widget.value, hlix_mmer_rad_widget.value, hlix_pmer_l_widget.value, hlix_pmer_occ_widget.value,\n",
    "            hlix_min_p_len_widget.value, hlix_hp_len_widget.value, hlix_mz_len_widget.value, hlix_mz_len_f_widget.value,\n",
    "            hlix_over_tol_widget.value, hlix_min_nmmer_widget.value, a_bprop_widget.value, a_max_p_branch_widget.value,\n",
    "            mt_rad_widget.value, mt_nunits_widget.value, file_destination_widget.value\n",
    "        )\n",
    "    else:\n",
    "         write_helix(\n",
    "            hlix_type_widget.value, hlix_mmer_rad_widget.value, hlix_pmer_l_widget.value, hlix_pmer_occ_widget.value,\n",
    "            hlix_min_p_len_widget.value, hlix_hp_len_widget.value, hlix_mz_len_widget.value, hlix_mz_len_f_widget.value,\n",
    "            hlix_over_tol_widget.value, hlix_min_nmmer_widget.value, a_bprop_widget.value, a_max_p_branch_widget.value,\n",
    "            mt_rad_widget.value, mt_nunits_widget.value, DEFAULT_PATH\n",
    "        )\n",
    "\n",
    "\n",
    "def on_hlix_type_change(value):\n",
    "    update_widgets_based_on_hlix(value.new, a_bprop_widget, a_max_p_branch_widget, mt_rad_widget, mt_nunits_widget)\n",
    "    update_values_based_on_hlix(value.new, hlix_mmer_rad_widget, hlix_pmer_l_widget, hlix_pmer_occ_widget,\n",
    "                             hlix_min_p_len_widget, hlix_hp_len_widget, hlix_mz_len_widget, hlix_mz_len_f_widget,\n",
    "                             hlix_over_tol_widget, hlix_min_nmmer_widget, a_bprop_widget, a_max_p_branch_widget,\n",
    "                             mt_rad_widget, mt_nunits_widget)\n",
    "    \n",
    "(hlix_type_widget, hlix_mmer_rad_widget, hlix_pmer_l_widget, hlix_pmer_occ_widget, hlix_min_p_len_widget,\n",
    " hlix_hp_len_widget, hlix_mz_len_widget, hlix_mz_len_f_widget, hlix_over_tol_widget, hlix_min_nmmer_widget,\n",
    " a_bprop_widget, a_max_p_branch_widget, mt_rad_widget, mt_nunits_widget, file_destination_widget, save_button) = widgets_helix_params()\n",
    "\n",
    "hlix_type_widget.observe(on_hlix_type_change, names='value')\n",
    "\n",
    "save_button.on_click(write)"
   ]
  },
  {
   "cell_type": "markdown",
   "id": "e6615f08-c42b-474c-82e7-fcb08d15a28b",
   "metadata": {},
   "source": [
    "## Visualize the structural model\n",
    "\n",
    "Once the files are created we can create preview of the structural unit create in the previous section for helical structures. The only thing necessary is to select the filament file you want to visualize."
   ]
  },
  {
   "cell_type": "code",
   "execution_count": 5,
   "id": "46e8b034-d52c-4bae-82e9-e14634dc22ec",
   "metadata": {
    "jupyter": {
     "source_hidden": true
    },
    "tags": []
   },
   "outputs": [
    {
     "data": {
      "text/markdown": [],
      "text/plain": [
       "<IPython.core.display.Markdown object>"
      ]
     },
     "metadata": {},
     "output_type": "display_data"
    },
    {
     "data": {
      "application/vnd.jupyter.widget-view+json": {
       "model_id": "5fabbde673aa40b08289b216f326df2d",
       "version_major": 2,
       "version_minor": 0
      },
      "text/plain": [
       "VBox(children=(Label(value='Select file you want to visualize'), HBox(children=(Button(description='Select fil…"
      ]
     },
     "metadata": {},
     "output_type": "display_data"
    }
   ],
   "source": [
    "file_path = \"\"\n",
    "def select(btn):\n",
    "    global file_path\n",
    "    file_path = select_file(\".hns\")\n",
    "    dropdown_1.options = [file_path]\n",
    "    dropdown_1.value = file_path\n",
    "\n",
    "def data(file_path):\n",
    "    return create_poly_data(file_path, 1)\n",
    "\n",
    "from IPython.display import Markdown, display\n",
    "display(Markdown(file_path))\n",
    "def handle_file_upload(change):\n",
    "   if file_path:\n",
    "        vtk_poly_data = data(file_path)\n",
    "        visualize_helix(vtk_poly_data, 800, 600, file_path)\n",
    "\n",
    "select_file_button, exec_button, dropdown_1 = widgets_helix()\n",
    "exec_button.on_click(handle_file_upload)\n",
    "select_file_button.on_click(select)"
   ]
  },
  {
   "cell_type": "code",
   "execution_count": null,
   "id": "03bc3d8f-705a-4e64-9008-8103952512f1",
   "metadata": {
    "jupyter": {
     "source_hidden": true
    },
    "tags": []
   },
   "outputs": [],
   "source": []
  }
 ],
 "metadata": {
  "kernelspec": {
   "display_name": "Python 3 (ipykernel)",
   "language": "python",
   "name": "python3"
  },
  "language_info": {
   "codemirror_mode": {
    "name": "ipython",
    "version": 3
   },
   "file_extension": ".py",
   "mimetype": "text/x-python",
   "name": "python",
   "nbconvert_exporter": "python",
   "pygments_lexer": "ipython3",
   "version": "3.10.9"
  }
 },
 "nbformat": 4,
 "nbformat_minor": 5
}
